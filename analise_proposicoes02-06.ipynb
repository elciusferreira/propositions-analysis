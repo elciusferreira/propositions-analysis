{
 "cells": [
  {
   "cell_type": "markdown",
   "metadata": {},
   "source": [
    "# Analisando as proposições de 2002 - 2006"
   ]
  },
  {
   "cell_type": "markdown",
   "metadata": {},
   "source": [
    "### Os dados utilizados se encontram no portal de dados abertos da Câmara dos Deputados como sendo referentes aos anos de 2002 até 2006.\n",
    "\n",
    "#### Link do portal: https://dadosabertos.camara.leg.br/swagger/api.html\n",
    "\n",
    "#### Foi feito o download do arquivo no formato json disponibilizado no site, o mesmo foi processado por um script feito em python responsável por realizar o parsing e gerar um outro arquivo no formato csv."
   ]
  },
  {
   "cell_type": "markdown",
   "metadata": {},
   "source": [
    "#### Carregamento dos dados:"
   ]
  },
  {
   "cell_type": "code",
   "execution_count": 1,
   "metadata": {
    "collapsed": true,
    "scrolled": true
   },
   "outputs": [],
   "source": [
    "import pandas as pd\n",
    "\n",
    "data = pd.read_csv('proposicoes/proposicoes_2002_2006.csv', encoding = 'utf8', header = 0)"
   ]
  },
  {
   "cell_type": "markdown",
   "metadata": {},
   "source": [
    "## Visão Geral"
   ]
  },
  {
   "cell_type": "code",
   "execution_count": 2,
   "metadata": {},
   "outputs": [
    {
     "data": {
      "text/plain": [
       "(11899, 56)"
      ]
     },
     "execution_count": 2,
     "metadata": {},
     "output_type": "execute_result"
    }
   ],
   "source": [
    "data.shape"
   ]
  },
  {
   "cell_type": "markdown",
   "metadata": {},
   "source": [
    "#### O arquivo contém, portanto, 11899 linhas com proposições e 56 colunas para cada uma. Três primeiras linhas:"
   ]
  },
  {
   "cell_type": "code",
   "execution_count": 39,
   "metadata": {},
   "outputs": [
    {
     "data": {
      "text/html": [
       "<div>\n",
       "<style>\n",
       "    .dataframe thead tr:only-child th {\n",
       "        text-align: right;\n",
       "    }\n",
       "\n",
       "    .dataframe thead th {\n",
       "        text-align: left;\n",
       "    }\n",
       "\n",
       "    .dataframe tbody tr th {\n",
       "        vertical-align: top;\n",
       "    }\n",
       "</style>\n",
       "<table border=\"1\" class=\"dataframe\">\n",
       "  <thead>\n",
       "    <tr style=\"text-align: right;\">\n",
       "      <th></th>\n",
       "      <th>COD_ORGAO_ORIGEM</th>\n",
       "      <th>NUM_LEGISLATURA_APRESEN</th>\n",
       "      <th>NUM_LEGISLATURA_LEI</th>\n",
       "      <th>NOM_PARTIDO_POLITICO</th>\n",
       "      <th>DAT_VETO_TOTAL</th>\n",
       "      <th>NOM_UF</th>\n",
       "      <th>DES_TIPO_PROPOSICAO</th>\n",
       "      <th>DES_COMPLETA</th>\n",
       "      <th>COD_TIPO_NORMA_JURIDICA_ORIGEM</th>\n",
       "      <th>SIG_UF</th>\n",
       "      <th>...</th>\n",
       "      <th>COD_TIPO_AUTOR_ORIGEM</th>\n",
       "      <th>NUM_SESSAO_LEGISLATIVA_LEI</th>\n",
       "      <th>DAT_FIM_LEGISLATURA_APRESEN</th>\n",
       "      <th>SIG_PARTIDO_POLITICO</th>\n",
       "      <th>IND_ATIVO_TIPO_PROPOSICAO</th>\n",
       "      <th>DAT_INICIO_LEGISLATURA_APRESEN</th>\n",
       "      <th>NUM_PROPOSICAO</th>\n",
       "      <th>COD_TIPO_SESSAO_LEGISLATIVA_LEI</th>\n",
       "      <th>NOM_PARLAMENTAR</th>\n",
       "      <th>DAT_FINAL_RECESSO_APRESEN</th>\n",
       "    </tr>\n",
       "  </thead>\n",
       "  <tbody>\n",
       "    <tr>\n",
       "      <th>0</th>\n",
       "      <td>-1</td>\n",
       "      <td>52</td>\n",
       "      <td>-1</td>\n",
       "      <td>PARTIDO TRABALHISTA BRASILEIRO</td>\n",
       "      <td>NaN</td>\n",
       "      <td>MINAS GERAIS</td>\n",
       "      <td>PROJETO DE LEI</td>\n",
       "      <td>PROJETO DE LEI</td>\n",
       "      <td>-1</td>\n",
       "      <td>MG</td>\n",
       "      <td>...</td>\n",
       "      <td>TipoParlamentar_10000</td>\n",
       "      <td>-1.0</td>\n",
       "      <td>31-01-2007</td>\n",
       "      <td>PTB</td>\n",
       "      <td>1</td>\n",
       "      <td>01-02-2003</td>\n",
       "      <td>1989.0</td>\n",
       "      <td>-1.0</td>\n",
       "      <td>RONALDO VASCONCELLOS</td>\n",
       "      <td>01-08-2003</td>\n",
       "    </tr>\n",
       "    <tr>\n",
       "      <th>1</th>\n",
       "      <td>-1</td>\n",
       "      <td>52</td>\n",
       "      <td>52</td>\n",
       "      <td>PARTIDO SOCIALISTA BRASILEIRO</td>\n",
       "      <td>NaN</td>\n",
       "      <td>RIO GRANDE DO SUL</td>\n",
       "      <td>PROJETO DE LEI</td>\n",
       "      <td>PROJETO DE LEI</td>\n",
       "      <td>37</td>\n",
       "      <td>RS</td>\n",
       "      <td>...</td>\n",
       "      <td>TipoParlamentar_10000</td>\n",
       "      <td>5.0</td>\n",
       "      <td>31-01-2007</td>\n",
       "      <td>PSB</td>\n",
       "      <td>1</td>\n",
       "      <td>01-02-2003</td>\n",
       "      <td>1923.0</td>\n",
       "      <td>2.0</td>\n",
       "      <td>BETO ALBUQUERQUE</td>\n",
       "      <td>01-08-2003</td>\n",
       "    </tr>\n",
       "    <tr>\n",
       "      <th>2</th>\n",
       "      <td>-1</td>\n",
       "      <td>52</td>\n",
       "      <td>-1</td>\n",
       "      <td>PARTIDO DE REEDIFICAÇÃO DA ORDEM NACIONAL</td>\n",
       "      <td>NaN</td>\n",
       "      <td>SÃO PAULO</td>\n",
       "      <td>PROJETO DE LEI</td>\n",
       "      <td>PROJETO DE LEI</td>\n",
       "      <td>-1</td>\n",
       "      <td>SP</td>\n",
       "      <td>...</td>\n",
       "      <td>TipoParlamentar_10000</td>\n",
       "      <td>-1.0</td>\n",
       "      <td>31-01-2007</td>\n",
       "      <td>PRONA</td>\n",
       "      <td>1</td>\n",
       "      <td>01-02-2003</td>\n",
       "      <td>1165.0</td>\n",
       "      <td>-1.0</td>\n",
       "      <td>ELIMAR MÁXIMO DAMASCENO</td>\n",
       "      <td>01-08-2003</td>\n",
       "    </tr>\n",
       "  </tbody>\n",
       "</table>\n",
       "<p>3 rows × 56 columns</p>\n",
       "</div>"
      ],
      "text/plain": [
       "   COD_ORGAO_ORIGEM  NUM_LEGISLATURA_APRESEN  NUM_LEGISLATURA_LEI  \\\n",
       "0                -1                       52                   -1   \n",
       "1                -1                       52                   52   \n",
       "2                -1                       52                   -1   \n",
       "\n",
       "                        NOM_PARTIDO_POLITICO DAT_VETO_TOTAL  \\\n",
       "0             PARTIDO TRABALHISTA BRASILEIRO            NaN   \n",
       "1              PARTIDO SOCIALISTA BRASILEIRO            NaN   \n",
       "2  PARTIDO DE REEDIFICAÇÃO DA ORDEM NACIONAL            NaN   \n",
       "\n",
       "              NOM_UF DES_TIPO_PROPOSICAO    DES_COMPLETA  \\\n",
       "0       MINAS GERAIS      PROJETO DE LEI  PROJETO DE LEI   \n",
       "1  RIO GRANDE DO SUL      PROJETO DE LEI  PROJETO DE LEI   \n",
       "2          SÃO PAULO      PROJETO DE LEI  PROJETO DE LEI   \n",
       "\n",
       "   COD_TIPO_NORMA_JURIDICA_ORIGEM SIG_UF            ...              \\\n",
       "0                              -1     MG            ...               \n",
       "1                              37     RS            ...               \n",
       "2                              -1     SP            ...               \n",
       "\n",
       "   COD_TIPO_AUTOR_ORIGEM  NUM_SESSAO_LEGISLATIVA_LEI  \\\n",
       "0  TipoParlamentar_10000                        -1.0   \n",
       "1  TipoParlamentar_10000                         5.0   \n",
       "2  TipoParlamentar_10000                        -1.0   \n",
       "\n",
       "  DAT_FIM_LEGISLATURA_APRESEN SIG_PARTIDO_POLITICO IND_ATIVO_TIPO_PROPOSICAO  \\\n",
       "0                  31-01-2007                  PTB                         1   \n",
       "1                  31-01-2007                  PSB                         1   \n",
       "2                  31-01-2007                PRONA                         1   \n",
       "\n",
       "  DAT_INICIO_LEGISLATURA_APRESEN NUM_PROPOSICAO  \\\n",
       "0                     01-02-2003         1989.0   \n",
       "1                     01-02-2003         1923.0   \n",
       "2                     01-02-2003         1165.0   \n",
       "\n",
       "  COD_TIPO_SESSAO_LEGISLATIVA_LEI          NOM_PARLAMENTAR  \\\n",
       "0                            -1.0     RONALDO VASCONCELLOS   \n",
       "1                             2.0         BETO ALBUQUERQUE   \n",
       "2                            -1.0  ELIMAR MÁXIMO DAMASCENO   \n",
       "\n",
       "   DAT_FINAL_RECESSO_APRESEN  \n",
       "0                 01-08-2003  \n",
       "1                 01-08-2003  \n",
       "2                 01-08-2003  \n",
       "\n",
       "[3 rows x 56 columns]"
      ]
     },
     "execution_count": 39,
     "metadata": {},
     "output_type": "execute_result"
    }
   ],
   "source": [
    "data.head(3)"
   ]
  },
  {
   "cell_type": "code",
   "execution_count": 4,
   "metadata": {},
   "outputs": [
    {
     "name": "stdout",
     "output_type": "stream",
     "text": [
      "<class 'pandas.core.frame.DataFrame'>\n",
      "RangeIndex: 11899 entries, 0 to 11898\n",
      "Data columns (total 56 columns):\n",
      "COD_ORGAO_ORIGEM                         11899 non-null int64\n",
      "NUM_LEGISLATURA_APRESEN                  11899 non-null int64\n",
      "NUM_LEGISLATURA_LEI                      11899 non-null int64\n",
      "NOM_PARTIDO_POLITICO                     8368 non-null object\n",
      "DAT_VETO_TOTAL                           45 non-null object\n",
      "NOM_UF                                   8369 non-null object\n",
      "DES_TIPO_PROPOSICAO                      11899 non-null object\n",
      "DES_COMPLETA                             11706 non-null object\n",
      "COD_TIPO_NORMA_JURIDICA_ORIGEM           11899 non-null int64\n",
      "SIG_UF                                   8369 non-null object\n",
      "DAT_FIM_LEGISLATURA_LEI                  3044 non-null object\n",
      "COD_PROPOSICAO_ORIGEM                    11888 non-null float64\n",
      "DES_ATIVO_TIPO_PROPOSICAO                11899 non-null object\n",
      "NOM_ORGAO                                3530 non-null object\n",
      "DES_APELIDO_ORGAO                        3528 non-null object\n",
      "DATAPRESENTACAOPROPOSICAO                11899 non-null object\n",
      "DES_TIPO_AUTOR                           11899 non-null object\n",
      "COD_SEXO                                 8369 non-null object\n",
      "IND_ATIVO_ORGAO                          11899 non-null int64\n",
      "COD_TIPO_PARLAMENTAR                     11899 non-null int64\n",
      "DES_TIPO_NORMA_JURIDICA                  3045 non-null object\n",
      "DES_TIPO_SESSAO_LEGISLATIVA_APRESEN      11899 non-null object\n",
      "DATTRANSFPROPOSICAOLEI                   3045 non-null object\n",
      "DAT_FINAL_RECESSO_LEI                    1202 non-null object\n",
      "AREAS_TEMATICAS_APRESENTACAO             11888 non-null object\n",
      "DES_TIPO_SESSAO_LEGISLATIVA_LEI          3044 non-null object\n",
      "DAT_INICIAL_RECESSO_APRESEN              6388 non-null object\n",
      "ANO_PROPOSICAO                           11888 non-null float64\n",
      "TEX_REGIAO_GEOGRAFICA_AUTOR              8369 non-null object\n",
      "DAT_INICIO_LEGISLATURA_LEI               3044 non-null object\n",
      "NUM_SESSAO_LEGISLATIVA_APRESEN           11756 non-null float64\n",
      "DAT_INICIAL_RECESSO_LEI                  1202 non-null object\n",
      "DAT_FIM_SESSAO_LEGISLATIVA_APRESEN       11899 non-null object\n",
      "SIG_NORMA_JURIDICA                       3045 non-null object\n",
      "DAT_INICIO_SESSAO_LEGISLATIVA_LEI        3044 non-null object\n",
      "DES_TIPO_PARLAMENTAR                     8369 non-null object\n",
      "NOM_PROPOSICAO                           11888 non-null object\n",
      "DES_ATIVO_ORGAO                          3530 non-null object\n",
      "COD_PARTIDO_POLITICO                     11899 non-null int64\n",
      "NOM_CIVIL_PARLAMENTAR                    8369 non-null object\n",
      "SIG_TIPO_PROPOSICAO                      11899 non-null object\n",
      "COD_TIPO_SESSAO_LEGISLATIVA_APRESEN      11756 non-null float64\n",
      "DAT_INICIO_SESSAO_LEGISLATIVA_APRESEN    11899 non-null object\n",
      "COD_PARLAMENTAR_ORIGEM                   11899 non-null int64\n",
      "DAT_FIM_SESSAO_LEGISLATIVA_LEI           3044 non-null object\n",
      "DES_SITUACAO_PROPOSICAO                  3087 non-null object\n",
      "COD_TIPO_AUTOR_ORIGEM                    11899 non-null object\n",
      "NUM_SESSAO_LEGISLATIVA_LEI               11834 non-null float64\n",
      "DAT_FIM_LEGISLATURA_APRESEN              11899 non-null object\n",
      "SIG_PARTIDO_POLITICO                     8368 non-null object\n",
      "IND_ATIVO_TIPO_PROPOSICAO                11899 non-null int64\n",
      "DAT_INICIO_LEGISLATURA_APRESEN           11899 non-null object\n",
      "NUM_PROPOSICAO                           11888 non-null float64\n",
      "COD_TIPO_SESSAO_LEGISLATIVA_LEI          11834 non-null float64\n",
      "NOM_PARLAMENTAR                          8369 non-null object\n",
      "DAT_FINAL_RECESSO_APRESEN                6388 non-null object\n",
      "dtypes: float64(7), int64(9), object(40)\n",
      "memory usage: 5.1+ MB\n"
     ]
    }
   ],
   "source": [
    "data.info()"
   ]
  },
  {
   "cell_type": "code",
   "execution_count": 6,
   "metadata": {
    "scrolled": true
   },
   "outputs": [
    {
     "data": {
      "text/plain": [
       "COD_ORGAO_ORIGEM                         False\n",
       "NUM_LEGISLATURA_APRESEN                  False\n",
       "NUM_LEGISLATURA_LEI                      False\n",
       "NOM_PARTIDO_POLITICO                      True\n",
       "DAT_VETO_TOTAL                            True\n",
       "NOM_UF                                    True\n",
       "DES_TIPO_PROPOSICAO                      False\n",
       "DES_COMPLETA                              True\n",
       "COD_TIPO_NORMA_JURIDICA_ORIGEM           False\n",
       "SIG_UF                                    True\n",
       "DAT_FIM_LEGISLATURA_LEI                   True\n",
       "COD_PROPOSICAO_ORIGEM                     True\n",
       "DES_ATIVO_TIPO_PROPOSICAO                False\n",
       "NOM_ORGAO                                 True\n",
       "DES_APELIDO_ORGAO                         True\n",
       "DATAPRESENTACAOPROPOSICAO                False\n",
       "DES_TIPO_AUTOR                           False\n",
       "COD_SEXO                                  True\n",
       "IND_ATIVO_ORGAO                          False\n",
       "COD_TIPO_PARLAMENTAR                     False\n",
       "DES_TIPO_NORMA_JURIDICA                   True\n",
       "DES_TIPO_SESSAO_LEGISLATIVA_APRESEN      False\n",
       "DATTRANSFPROPOSICAOLEI                    True\n",
       "DAT_FINAL_RECESSO_LEI                     True\n",
       "AREAS_TEMATICAS_APRESENTACAO              True\n",
       "DES_TIPO_SESSAO_LEGISLATIVA_LEI           True\n",
       "DAT_INICIAL_RECESSO_APRESEN               True\n",
       "ANO_PROPOSICAO                            True\n",
       "TEX_REGIAO_GEOGRAFICA_AUTOR               True\n",
       "DAT_INICIO_LEGISLATURA_LEI                True\n",
       "NUM_SESSAO_LEGISLATIVA_APRESEN            True\n",
       "DAT_INICIAL_RECESSO_LEI                   True\n",
       "DAT_FIM_SESSAO_LEGISLATIVA_APRESEN       False\n",
       "SIG_NORMA_JURIDICA                        True\n",
       "DAT_INICIO_SESSAO_LEGISLATIVA_LEI         True\n",
       "DES_TIPO_PARLAMENTAR                      True\n",
       "NOM_PROPOSICAO                            True\n",
       "DES_ATIVO_ORGAO                           True\n",
       "COD_PARTIDO_POLITICO                     False\n",
       "NOM_CIVIL_PARLAMENTAR                     True\n",
       "SIG_TIPO_PROPOSICAO                      False\n",
       "COD_TIPO_SESSAO_LEGISLATIVA_APRESEN       True\n",
       "DAT_INICIO_SESSAO_LEGISLATIVA_APRESEN    False\n",
       "COD_PARLAMENTAR_ORIGEM                   False\n",
       "DAT_FIM_SESSAO_LEGISLATIVA_LEI            True\n",
       "DES_SITUACAO_PROPOSICAO                   True\n",
       "COD_TIPO_AUTOR_ORIGEM                    False\n",
       "NUM_SESSAO_LEGISLATIVA_LEI                True\n",
       "DAT_FIM_LEGISLATURA_APRESEN              False\n",
       "SIG_PARTIDO_POLITICO                      True\n",
       "IND_ATIVO_TIPO_PROPOSICAO                False\n",
       "DAT_INICIO_LEGISLATURA_APRESEN           False\n",
       "NUM_PROPOSICAO                            True\n",
       "COD_TIPO_SESSAO_LEGISLATIVA_LEI           True\n",
       "NOM_PARLAMENTAR                           True\n",
       "DAT_FINAL_RECESSO_APRESEN                 True\n",
       "dtype: bool"
      ]
     },
     "execution_count": 6,
     "metadata": {},
     "output_type": "execute_result"
    }
   ],
   "source": [
    "data.isnull().any()"
   ]
  },
  {
   "cell_type": "markdown",
   "metadata": {},
   "source": [
    "#### Das 56 totais, apenas 20 colunas estão completas, as outras possuem pelo menos uma linha sem informação."
   ]
  },
  {
   "cell_type": "markdown",
   "metadata": {},
   "source": [
    "### Veremos agora as relações entre as proposições e as informações de algumas colunas."
   ]
  },
  {
   "cell_type": "markdown",
   "metadata": {},
   "source": [
    "## Proposições x Estados"
   ]
  },
  {
   "cell_type": "code",
   "execution_count": 7,
   "metadata": {
    "scrolled": true
   },
   "outputs": [
    {
     "data": {
      "text/plain": [
       "<matplotlib.axes._subplots.AxesSubplot at 0x7f86ec843d30>"
      ]
     },
     "execution_count": 7,
     "metadata": {},
     "output_type": "execute_result"
    },
    {
     "data": {
      "image/png": "[encoded data removed]",
      "text/plain": [
       "<matplotlib.figure.Figure at 0x7f86ecf03358>"
      ]
     },
     "metadata": {},
     "output_type": "display_data"
    }
   ],
   "source": [
    "import matplotlib.pyplot as plt\n",
    "import seaborn as sns\n",
    "%matplotlib inline\n",
    "\n",
    "plt.rcParams['figure.figsize']=(20,10)\n",
    "sns.countplot(data['SIG_UF'], label = \"Quantidade\")"
   ]
  },
  {
   "cell_type": "markdown",
   "metadata": {},
   "source": [
    "#### Ranking dos 6 estados com mais proposições e as respectivas quantidades."
   ]
  },
  {
   "cell_type": "code",
   "execution_count": 41,
   "metadata": {},
   "outputs": [
    {
     "name": "stdout",
     "output_type": "stream",
     "text": [
      "Sem a informação do estado: 3530 proposições\n",
      "RJ: 1643 proposições\n",
      "SP: 1453 proposições\n",
      "MG: 623 proposições\n",
      "RS: 606 proposições\n",
      "BA: 386 proposições\n",
      "PR: 342 proposições\n"
     ]
    }
   ],
   "source": [
    "uf_list = data['SIG_UF'].tolist()\n",
    "uf_counter = {}\n",
    "\n",
    "for word in uf_list:\n",
    "    if word in uf_counter:\n",
    "        uf_counter[word] += 1\n",
    "    else:\n",
    "        uf_counter[word] = 1\n",
    "        \n",
    "popular_uf = sorted(uf_counter, key = uf_counter.get, reverse = True)\n",
    "top_6 = popular_uf[:7]\n",
    "\n",
    "for uf in top_6:\n",
    "    if type(uf)!= float:\n",
    "        print(uf + ': ' + str(uf_counter[uf]) + ' proposições')\n",
    "    else:\n",
    "        print('Sem a informação do estado: ' + str(uf_counter[uf]) + ' proposições')"
   ]
  },
  {
   "cell_type": "markdown",
   "metadata": {},
   "source": [
    "#### Quantidade de proposições em cada estado:"
   ]
  },
  {
   "cell_type": "code",
   "execution_count": 10,
   "metadata": {
    "scrolled": true
   },
   "outputs": [
    {
     "data": {
      "text/plain": [
       "{'MG': 623,\n",
       " 'RS': 606,\n",
       " 'SP': 1453,\n",
       " 'RJ': 1643,\n",
       " 'MT': 268,\n",
       " 'PR': 342,\n",
       " 'MA': 136,\n",
       " 'CE': 239,\n",
       " 'DF': 228,\n",
       " 'PE': 319,\n",
       " 'PB': 104,\n",
       " 'BA': 386,\n",
       " 'RO': 135,\n",
       " 'AM': 243,\n",
       " 'PA': 180,\n",
       " 'AP': 137,\n",
       " 'SC': 168,\n",
       " 'ES': 221,\n",
       " 'GO': 309,\n",
       " 'SE': 52,\n",
       " 'RR': 70,\n",
       " 'AL': 91,\n",
       " 'MS': 100,\n",
       " 'AC': 68,\n",
       " 'RN': 68,\n",
       " 'TO': 79,\n",
       " 'PI': 101,\n",
       " nan: 3530}"
      ]
     },
     "execution_count": 10,
     "metadata": {},
     "output_type": "execute_result"
    }
   ],
   "source": [
    "uf_counter"
   ]
  },
  {
   "cell_type": "markdown",
   "metadata": {},
   "source": [
    "## Proposições x Gênero"
   ]
  },
  {
   "cell_type": "code",
   "execution_count": 12,
   "metadata": {
    "scrolled": false
   },
   "outputs": [
    {
     "data": {
      "text/plain": [
       "<matplotlib.axes._subplots.AxesSubplot at 0x7f86e91c38d0>"
      ]
     },
     "execution_count": 12,
     "metadata": {},
     "output_type": "execute_result"
    },
    {
     "data": {
      "image/png": "[encoded data removed]",
      "text/plain": [
       "<matplotlib.figure.Figure at 0x7f86e8cea048>"
      ]
     },
     "metadata": {},
     "output_type": "display_data"
    }
   ],
   "source": [
    "plt.rcParams['figure.figsize']=(20,10)\n",
    "sns.countplot(data['COD_SEXO'], label = \"Quantidade\")"
   ]
  },
  {
   "cell_type": "code",
   "execution_count": 43,
   "metadata": {},
   "outputs": [
    {
     "data": {
      "text/plain": [
       "{'M': 7647, 'F': 722, nan: 3530}"
      ]
     },
     "execution_count": 43,
     "metadata": {},
     "output_type": "execute_result"
    }
   ],
   "source": [
    "gender_list = data['COD_SEXO'].tolist()\n",
    "gender_counter = {}\n",
    "\n",
    "for gender in gender_list:\n",
    "    if gender in gender_counter:\n",
    "        gender_counter[gender] += 1\n",
    "    else:\n",
    "        gender_counter[gender] = 1\n",
    "        \n",
    "gender_counter"
   ]
  },
  {
   "cell_type": "markdown",
   "metadata": {},
   "source": [
    "#### Grande maioria das proposições vieram de homens sendo que 3530 não informam o gênero da pessoa que propôs."
   ]
  },
  {
   "cell_type": "markdown",
   "metadata": {},
   "source": [
    "## Proposições x Temas"
   ]
  },
  {
   "cell_type": "markdown",
   "metadata": {},
   "source": [
    "#### Ranking dos 6 temas mais frequentes:"
   ]
  },
  {
   "cell_type": "code",
   "execution_count": 44,
   "metadata": {
    "scrolled": true
   },
   "outputs": [
    {
     "name": "stdout",
     "output_type": "stream",
     "text": [
      "COMUNICAÇÕES: 2362 proposições\n",
      "TRABALHO E EMPREGO: 737 proposições\n",
      "EDUCAÇÃO: 622 proposições\n",
      "ADMINISTRAÇÃO PÚBLICA: 616 proposições\n",
      "TRIBUTAÇÃO: 563 proposições\n",
      "ORGANIZAÇÃO POLÍTICO-ADMINISTRATIVA DO ESTADO (UTILIZADO ATÉ A LEGISLATURA 53): 492 proposições\n",
      "INDÚSTRIA, COMÉRCIO E DEFESA DO CONSUMIDOR (UTILIZADO ATÉ A LEGISLATURA 53): 474 proposições\n"
     ]
    }
   ],
   "source": [
    "theme_list = data['AREAS_TEMATICAS_APRESENTACAO'].tolist()\n",
    "theme_counter = {}\n",
    "\n",
    "for theme in theme_list:\n",
    "    if theme in theme_counter:\n",
    "        theme_counter[theme] += 1\n",
    "    else:\n",
    "        theme_counter[theme] = 1\n",
    "        \n",
    "popular_themes = sorted(theme_counter, key = theme_counter.get, reverse = True)\n",
    "top_6 = popular_themes[:7]\n",
    "\n",
    "for theme in top_6:\n",
    "    print(theme + ': ' + str(theme_counter[theme]) + ' proposições')"
   ]
  },
  {
   "cell_type": "markdown",
   "metadata": {},
   "source": [
    "## Proposições x Tipo do Autor"
   ]
  },
  {
   "cell_type": "markdown",
   "metadata": {},
   "source": [
    "#### Ranking dos tipos de autores do mais frequente ao menos frequente:"
   ]
  },
  {
   "cell_type": "code",
   "execution_count": 45,
   "metadata": {
    "scrolled": false
   },
   "outputs": [
    {
     "name": "stdout",
     "output_type": "stream",
     "text": [
      "DEPUTADO: 8369 proposições\n",
      "COMISSÃO PERMANENTE: 2506 proposições\n",
      "ÓRGÃO DO PODER EXECUTIVO: 444 proposições\n",
      "ÓRGÃO DO PODER LEGISLATIVO: 410 proposições\n",
      "COMISSÃO PARLAMENTAR DE INQUÉRITO: 43 proposições\n",
      "COMISSÃO DIRETORA: 41 proposições\n",
      "ÓRGÃO DO PODER JUDICIÁRIO: 32 proposições\n",
      "COMISSÃO ESPECIAL: 15 proposições\n",
      "COMISSÃO PARLAMENTAR MISTA DE INQUÉRITO: 14 proposições\n",
      "COMISSÃO MISTA PERMANENTE: 10 proposições\n",
      "MPU - MINISTÉRIO PÚBLICO DA UNIÃO: 7 proposições\n",
      "CONSELHO: 4 proposições\n",
      "ÓRGÃO DO SENADO FEDERAL: 2 proposições\n",
      "COMISSÃO MISTA ESPECIAL: 2 proposições\n"
     ]
    }
   ],
   "source": [
    "author_type_list = data['DES_TIPO_AUTOR'].tolist()\n",
    "author_type_counter = {}\n",
    "\n",
    "for author_type in author_type_list:\n",
    "    if author_type in author_type_counter:\n",
    "        author_type_counter[author_type] += 1\n",
    "    else:\n",
    "        author_type_counter[author_type] = 1\n",
    "        \n",
    "popular_author_type = sorted(author_type_counter, key = author_type_counter.get, reverse = True)\n",
    "\n",
    "for author_type in popular_author_type:\n",
    "    if author_type_counter[author_type] != 1:\n",
    "        print(author_type + ': ' + str(author_type_counter[author_type]) + ' proposições')\n",
    "    else:\n",
    "        print(author_type + ': ' + str(author_type_counter[author_type]) + ' proposição')"
   ]
  },
  {
   "cell_type": "markdown",
   "metadata": {},
   "source": [
    "#### A grande maioria das proposições vieram diretamente dos deputados."
   ]
  },
  {
   "cell_type": "markdown",
   "metadata": {},
   "source": [
    "## Proposições x Ano"
   ]
  },
  {
   "cell_type": "code",
   "execution_count": 21,
   "metadata": {
    "scrolled": false
   },
   "outputs": [
    {
     "data": {
      "text/plain": [
       "<matplotlib.axes._subplots.AxesSubplot at 0x7f86e90eac18>"
      ]
     },
     "execution_count": 21,
     "metadata": {},
     "output_type": "execute_result"
    },
    {
     "data": {
      "image/png": "[encoded data removed]",
      "text/plain": [
       "<matplotlib.figure.Figure at 0x7f86e91d04e0>"
      ]
     },
     "metadata": {},
     "output_type": "display_data"
    }
   ],
   "source": [
    "plt.rcParams['figure.figsize']=(20,10)\n",
    "sns.countplot(data['ANO_PROPOSICAO'], label = \"Quantidade\")"
   ]
  },
  {
   "cell_type": "markdown",
   "metadata": {},
   "source": [
    "#### Ranking:"
   ]
  },
  {
   "cell_type": "code",
   "execution_count": 46,
   "metadata": {},
   "outputs": [
    {
     "name": "stdout",
     "output_type": "stream",
     "text": [
      "2003.0: 4491 proposições\n",
      "2004.0: 2692 proposições\n",
      "2005.0: 2636 proposições\n",
      "2006.0: 2050 proposições\n",
      "2007.0: 19 proposições\n"
     ]
    }
   ],
   "source": [
    "year_list = data['ANO_PROPOSICAO'].tolist()\n",
    "year_counter = {}\n",
    "\n",
    "for year in year_list:\n",
    "    if year in year_counter:\n",
    "        year_counter[year] += 1\n",
    "    else:\n",
    "        year_counter[year] = 1\n",
    "        \n",
    "popular_year = sorted(year_counter, key = year_counter.get, reverse = True)\n",
    "\n",
    "for year in popular_year:\n",
    "    if year_counter[year] != 1:\n",
    "        print(str(year) + ': ' + str(year_counter[year]) + ' proposições')"
   ]
  },
  {
   "cell_type": "markdown",
   "metadata": {},
   "source": [
    "## Proposições x Região"
   ]
  },
  {
   "cell_type": "code",
   "execution_count": 23,
   "metadata": {
    "scrolled": true
   },
   "outputs": [
    {
     "data": {
      "text/plain": [
       "<matplotlib.axes._subplots.AxesSubplot at 0x7f86ec82f438>"
      ]
     },
     "execution_count": 23,
     "metadata": {},
     "output_type": "execute_result"
    },
    {
     "data": {
      "image/png": "[encoded data removed]",
      "text/plain": [
       "<matplotlib.figure.Figure at 0x7f86e9101470>"
      ]
     },
     "metadata": {},
     "output_type": "display_data"
    }
   ],
   "source": [
    "plt.rcParams['figure.figsize']=(20,10)\n",
    "sns.countplot(data['TEX_REGIAO_GEOGRAFICA_AUTOR'], label = \"Quantidade\")"
   ]
  },
  {
   "cell_type": "markdown",
   "metadata": {},
   "source": [
    "#### Ranking:"
   ]
  },
  {
   "cell_type": "code",
   "execution_count": 47,
   "metadata": {},
   "outputs": [
    {
     "name": "stdout",
     "output_type": "stream",
     "text": [
      "SUDESTE: 3940 proposições\n",
      "Sem informação de região: 3530 proposições\n",
      "NORDESTE: 1496 proposições\n",
      "SUL: 1116 proposições\n",
      "NORTE: 912 proposições\n",
      "CENTRO-OESTE: 905 proposições\n"
     ]
    }
   ],
   "source": [
    "region_list = data['TEX_REGIAO_GEOGRAFICA_AUTOR'].tolist()\n",
    "region_counter = {}\n",
    "\n",
    "for region in region_list:\n",
    "    if region in region_counter:\n",
    "        region_counter[region] += 1\n",
    "    else:\n",
    "        region_counter[region] = 1\n",
    "        \n",
    "popular_region = sorted(region_counter, key = region_counter.get, reverse = True)\n",
    "\n",
    "for region in popular_region:\n",
    "    if type(region) != float:\n",
    "        print(region + ': ' + str(region_counter[region]) + ' proposições')\n",
    "    else:\n",
    "        print('Sem informação de região: ' + str(region_counter[region]) + ' proposições')"
   ]
  },
  {
   "cell_type": "markdown",
   "metadata": {},
   "source": [
    "## Proposições x Tipos"
   ]
  },
  {
   "cell_type": "code",
   "execution_count": 25,
   "metadata": {
    "scrolled": true
   },
   "outputs": [
    {
     "data": {
      "text/plain": [
       "<matplotlib.axes._subplots.AxesSubplot at 0x7f86e9039d30>"
      ]
     },
     "execution_count": 25,
     "metadata": {},
     "output_type": "execute_result"
    },
    {
     "data": {
      "image/png": "[encoded data removed]",
      "text/plain": [
       "<matplotlib.figure.Figure at 0x7f86e902b8d0>"
      ]
     },
     "metadata": {},
     "output_type": "display_data"
    }
   ],
   "source": [
    "plt.rcParams['figure.figsize']=(20,10)\n",
    "sns.countplot(data['SIG_TIPO_PROPOSICAO'], label = \"Quantidade\")"
   ]
  },
  {
   "cell_type": "markdown",
   "metadata": {},
   "source": [
    "#### Ranking:"
   ]
  },
  {
   "cell_type": "code",
   "execution_count": 48,
   "metadata": {},
   "outputs": [
    {
     "name": "stdout",
     "output_type": "stream",
     "text": [
      "PL: 7709 proposições\n",
      "PDC: 2631 proposições\n",
      "PEC: 590 proposições\n",
      "PLP: 387 proposições\n",
      "PRC: 330 proposições\n",
      "MPV: 252 proposições\n"
     ]
    }
   ],
   "source": [
    "proposition_list = data['SIG_TIPO_PROPOSICAO'].tolist()\n",
    "proposition_counter = {}\n",
    "\n",
    "for proposition in proposition_list:\n",
    "    if proposition in proposition_counter:\n",
    "        proposition_counter[proposition] += 1\n",
    "    else:\n",
    "        proposition_counter[proposition] = 1\n",
    "        \n",
    "popular_proposition = sorted(proposition_counter, key = proposition_counter.get, reverse = True)\n",
    "\n",
    "for proposition in popular_proposition:\n",
    "    print(proposition + ': ' + str(proposition_counter[proposition]) + ' proposições')"
   ]
  },
  {
   "cell_type": "markdown",
   "metadata": {},
   "source": [
    "#### Legenda: \n",
    "\n",
    "* PL = Projetos de Lei \n",
    "* PDC = Projetos de Decreto Legislativo da Câmara\n",
    "* PLP = Projetos de Lei Complementar\n",
    "* PEC = Projetos de Emenda à Constituição\n",
    "* MPV = Medidas Provisórias (MPV)"
   ]
  },
  {
   "cell_type": "markdown",
   "metadata": {},
   "source": [
    "## Proposições x Partidos Políticos"
   ]
  },
  {
   "cell_type": "code",
   "execution_count": 30,
   "metadata": {},
   "outputs": [
    {
     "data": {
      "text/plain": [
       "<matplotlib.axes._subplots.AxesSubplot at 0x7f86e8e58588>"
      ]
     },
     "execution_count": 30,
     "metadata": {},
     "output_type": "execute_result"
    },
    {
     "data": {
      "image/png": "[encoded data removed]",
      "text/plain": [
       "<matplotlib.figure.Figure at 0x7f86e8e8bef0>"
      ]
     },
     "metadata": {},
     "output_type": "display_data"
    }
   ],
   "source": [
    "plt.rcParams['figure.figsize']=(20,10)\n",
    "sns.countplot(data['SIG_PARTIDO_POLITICO'], label = \"Quantidade\")"
   ]
  },
  {
   "cell_type": "markdown",
   "metadata": {},
   "source": [
    "#### Ranking dos 6 partidos com mais proposições e as respectivas quantidades:"
   ]
  },
  {
   "cell_type": "code",
   "execution_count": 49,
   "metadata": {
    "scrolled": true
   },
   "outputs": [
    {
     "name": "stdout",
     "output_type": "stream",
     "text": [
      "Sem informação de partido: 3531 proposições\n",
      "PT: 1266 proposições\n",
      "PL: 1212 proposições\n",
      "PFL: 1065 proposições\n",
      "PMDB: 1055 proposições\n",
      "PSDB: 933 proposições\n",
      "PTB: 620 proposições\n"
     ]
    }
   ],
   "source": [
    "pp_list = data['SIG_PARTIDO_POLITICO'].tolist()\n",
    "pp_counter = {}\n",
    "\n",
    "for pp in pp_list:\n",
    "    if pp in pp_counter:\n",
    "        pp_counter[pp] += 1\n",
    "    else:\n",
    "        pp_counter[pp] = 1\n",
    "        \n",
    "popular_pp = sorted(pp_counter, key = pp_counter.get, reverse = True)\n",
    "top_7 = popular_pp[:7]\n",
    "\n",
    "for pp in top_7:\n",
    "    if type(pp) != float:\n",
    "        print(pp + ': ' + str(pp_counter[pp]) + ' proposições')\n",
    "    else:\n",
    "        print('Sem informação de partido: ' + str(pp_counter[pp]) + ' proposições')"
   ]
  },
  {
   "cell_type": "markdown",
   "metadata": {},
   "source": [
    "#### Lista de todos os partidos e suas respectivas quantidades:"
   ]
  },
  {
   "cell_type": "code",
   "execution_count": 32,
   "metadata": {
    "scrolled": true
   },
   "outputs": [
    {
     "name": "stdout",
     "output_type": "stream",
     "text": [
      "{'PTB': 620, 'PSB': 312, 'PRONA': 87, 'PFL': 1065, 'PT': 1266, 'PMDB': 1055, 'PSDB': 933, 'PPS': 400, 'PDT': 332, 'PP': 562, 'PL': 1212, 'PPB': 71, 'PV': 127, 'PCDOB': 167, 'S.PART.': 55, 'PMR': 6, nan: 3531, 'PSC': 52, 'PSOL': 34, 'PRB': 6, 'PMN': 2, 'PSL': 3, 'PTC': 1}\n"
     ]
    }
   ],
   "source": [
    "print(pp_counter)"
   ]
  },
  {
   "cell_type": "markdown",
   "metadata": {},
   "source": [
    "## Proposições x Nome do Parlamentar"
   ]
  },
  {
   "cell_type": "markdown",
   "metadata": {},
   "source": [
    "#### Ranking dos 10 deputados com mais proposições:"
   ]
  },
  {
   "cell_type": "code",
   "execution_count": 51,
   "metadata": {
    "scrolled": true
   },
   "outputs": [
    {
     "name": "stdout",
     "output_type": "stream",
     "text": [
      "Sem informação do nome do deputado: 3530 proposições\n",
      "CARLOS NADER: 638 proposições\n",
      "ROGERIO SILVA: 139 proposições\n",
      "CARLOS SOUZA: 131 proposições\n",
      "ANTONIO CARLOS MENDES THAME: 104 proposições\n",
      "ALBERTO FRAGA: 97 proposições\n",
      "ALMIR MOURA: 91 proposições\n",
      "CELSO RUSSOMANNO: 91 proposições\n",
      "LAURA CARNEIRO: 88 proposições\n",
      "POMPEO DE MATTOS: 86 proposições\n",
      "EDUARDO PAES: 84 proposições\n"
     ]
    }
   ],
   "source": [
    "name_list = data['NOM_PARLAMENTAR'].tolist()\n",
    "name_counter = {}\n",
    "\n",
    "for name in name_list:\n",
    "    if name in name_counter:\n",
    "        name_counter[name] += 1\n",
    "    else:\n",
    "        name_counter[name] = 1\n",
    "        \n",
    "popular_name = sorted(name_counter, key = name_counter.get, reverse = True)\n",
    "top_10 = popular_name[:11]\n",
    "\n",
    "for name in top_10:\n",
    "    if type(name) != float:\n",
    "        print(name + ': ' + str(name_counter[name]) + ' proposições')\n",
    "    else:\n",
    "        print('Sem informação do nome do deputado: ' + str(name_counter[name]) + ' proposições')"
   ]
  },
  {
   "cell_type": "markdown",
   "metadata": {},
   "source": [
    "#### Média de proposições por deputado:"
   ]
  },
  {
   "cell_type": "code",
   "execution_count": 37,
   "metadata": {},
   "outputs": [
    {
     "name": "stdout",
     "output_type": "stream",
     "text": [
      "Média de proposições por candidato: 15.76\n"
     ]
    }
   ],
   "source": [
    "counter = 0\n",
    "for name in name_counter:\n",
    "    counter = counter + name_counter[name]\n",
    "    \n",
    "print(\"Média de proposições por candidato: %.2f\" % ((counter-3530)/(len(name_counter)-1)))  # 3530 proposições sem nome do deputado (nan)"
   ]
  },
  {
   "cell_type": "markdown",
   "metadata": {},
   "source": [
    "#### Lista com todos os deputados e a quantidade de proposições feitas por cada um durante todos os anos de mandato se encontra no arquivo *deputados&qnt_proposicoes_2002_2006.txt* dentro do diretório *deputados&qnt_proposicoes* neste mesmo repositório."
   ]
  }
 ],
 "metadata": {
  "kernelspec": {
   "display_name": "Python 3",
   "language": "python",
   "name": "python3"
  },
  "language_info": {
   "codemirror_mode": {
    "name": "ipython",
    "version": 3
   },
   "file_extension": ".py",
   "mimetype": "text/x-python",
   "name": "python",
   "nbconvert_exporter": "python",
   "pygments_lexer": "ipython3",
   "version": "3.6.1"
  }
 },
 "nbformat": 4,
 "nbformat_minor": 2
}
