{
 "cells": [
  {
   "cell_type": "markdown",
   "metadata": {},
   "source": [
    "# Analisando as proposições de 2006 - 2010"
   ]
  },
  {
   "cell_type": "markdown",
   "metadata": {},
   "source": [
    "### Os dados utilizados se encontram no portal de dados abertos da Câmara dos Deputados como sendo referentes aos anos de 2006 até 2010.\n",
    "\n",
    "#### Link do portal: https://dadosabertos.camara.leg.br/swagger/api.html\n",
    "\n",
    "#### Foi feito o download do arquivo no formato json disponibilizado no site, o mesmo foi processado por um script feito em python responsável por realizar o parsing e gerar um outro arquivo no formato csv."
   ]
  },
  {
   "cell_type": "markdown",
   "metadata": {},
   "source": [
    "#### Carregamento dos dados:"
   ]
  },
  {
   "cell_type": "code",
   "execution_count": 3,
   "metadata": {
    "collapsed": true,
    "scrolled": true
   },
   "outputs": [],
   "source": [
    "import pandas as pd\n",
    "\n",
    "data = pd.read_csv('proposicoes/proposicoes_2006_2010.csv', encoding = 'utf8', header = 0)"
   ]
  },
  {
   "cell_type": "markdown",
   "metadata": {},
   "source": [
    "## Visão Geral"
   ]
  },
  {
   "cell_type": "code",
   "execution_count": 4,
   "metadata": {},
   "outputs": [
    {
     "data": {
      "text/plain": [
       "(12781, 56)"
      ]
     },
     "execution_count": 4,
     "metadata": {},
     "output_type": "execute_result"
    }
   ],
   "source": [
    "data.shape"
   ]
  },
  {
   "cell_type": "markdown",
   "metadata": {},
   "source": [
    "#### O arquivo contém, portanto, 12781 linhas com proposições e 56 colunas para cada uma. Três primeiras linhas:"
   ]
  },
  {
   "cell_type": "code",
   "execution_count": 3,
   "metadata": {},
   "outputs": [
    {
     "data": {
      "text/html": [
       "<div>\n",
       "<style>\n",
       "    .dataframe thead tr:only-child th {\n",
       "        text-align: right;\n",
       "    }\n",
       "\n",
       "    .dataframe thead th {\n",
       "        text-align: left;\n",
       "    }\n",
       "\n",
       "    .dataframe tbody tr th {\n",
       "        vertical-align: top;\n",
       "    }\n",
       "</style>\n",
       "<table border=\"1\" class=\"dataframe\">\n",
       "  <thead>\n",
       "    <tr style=\"text-align: right;\">\n",
       "      <th></th>\n",
       "      <th>COD_ORGAO_ORIGEM</th>\n",
       "      <th>NUM_LEGISLATURA_APRESEN</th>\n",
       "      <th>NUM_LEGISLATURA_LEI</th>\n",
       "      <th>NOM_PARTIDO_POLITICO</th>\n",
       "      <th>DAT_VETO_TOTAL</th>\n",
       "      <th>NOM_UF</th>\n",
       "      <th>DES_TIPO_PROPOSICAO</th>\n",
       "      <th>DES_COMPLETA</th>\n",
       "      <th>COD_TIPO_NORMA_JURIDICA_ORIGEM</th>\n",
       "      <th>SIG_UF</th>\n",
       "      <th>...</th>\n",
       "      <th>COD_TIPO_AUTOR_ORIGEM</th>\n",
       "      <th>NUM_SESSAO_LEGISLATIVA_LEI</th>\n",
       "      <th>DAT_FIM_LEGISLATURA_APRESEN</th>\n",
       "      <th>SIG_PARTIDO_POLITICO</th>\n",
       "      <th>IND_ATIVO_TIPO_PROPOSICAO</th>\n",
       "      <th>DAT_INICIO_LEGISLATURA_APRESEN</th>\n",
       "      <th>NUM_PROPOSICAO</th>\n",
       "      <th>COD_TIPO_SESSAO_LEGISLATIVA_LEI</th>\n",
       "      <th>NOM_PARLAMENTAR</th>\n",
       "      <th>DAT_FINAL_RECESSO_APRESEN</th>\n",
       "    </tr>\n",
       "  </thead>\n",
       "  <tbody>\n",
       "    <tr>\n",
       "      <th>0</th>\n",
       "      <td>-1</td>\n",
       "      <td>53</td>\n",
       "      <td>-1</td>\n",
       "      <td>PARTIDO SOCIALISTA BRASILEIRO</td>\n",
       "      <td>NaN</td>\n",
       "      <td>PERNAMBUCO</td>\n",
       "      <td>PROJETO DE LEI</td>\n",
       "      <td>PROJETO DE LEI</td>\n",
       "      <td>-1</td>\n",
       "      <td>PE</td>\n",
       "      <td>...</td>\n",
       "      <td>TipoParlamentar_10000</td>\n",
       "      <td>-1.0</td>\n",
       "      <td>31-01-2011</td>\n",
       "      <td>PSB</td>\n",
       "      <td>1</td>\n",
       "      <td>01-02-2007</td>\n",
       "      <td>2.0</td>\n",
       "      <td>-1.0</td>\n",
       "      <td>CARLOS LAPA</td>\n",
       "      <td>01-08-2007</td>\n",
       "    </tr>\n",
       "    <tr>\n",
       "      <th>1</th>\n",
       "      <td>-1</td>\n",
       "      <td>53</td>\n",
       "      <td>-1</td>\n",
       "      <td>PARTIDO POPULAR SOCIALISTA</td>\n",
       "      <td>NaN</td>\n",
       "      <td>SANTA CATARINA</td>\n",
       "      <td>PROJETO DE LEI</td>\n",
       "      <td>PROJETO DE LEI</td>\n",
       "      <td>-1</td>\n",
       "      <td>SC</td>\n",
       "      <td>...</td>\n",
       "      <td>TipoParlamentar_10000</td>\n",
       "      <td>-1.0</td>\n",
       "      <td>31-01-2011</td>\n",
       "      <td>PPS</td>\n",
       "      <td>1</td>\n",
       "      <td>01-02-2007</td>\n",
       "      <td>180.0</td>\n",
       "      <td>-1.0</td>\n",
       "      <td>FERNANDO CORUJA</td>\n",
       "      <td>01-08-2007</td>\n",
       "    </tr>\n",
       "    <tr>\n",
       "      <th>2</th>\n",
       "      <td>-1</td>\n",
       "      <td>53</td>\n",
       "      <td>-1</td>\n",
       "      <td>PARTIDO DA REPÚBLICA</td>\n",
       "      <td>NaN</td>\n",
       "      <td>RIO DE JANEIRO</td>\n",
       "      <td>PROJETO DE LEI</td>\n",
       "      <td>PROJETO DE LEI</td>\n",
       "      <td>-1</td>\n",
       "      <td>RJ</td>\n",
       "      <td>...</td>\n",
       "      <td>TipoParlamentar_10000</td>\n",
       "      <td>-1.0</td>\n",
       "      <td>31-01-2011</td>\n",
       "      <td>PR</td>\n",
       "      <td>1</td>\n",
       "      <td>01-02-2007</td>\n",
       "      <td>48.0</td>\n",
       "      <td>-1.0</td>\n",
       "      <td>NEILTON MULIM</td>\n",
       "      <td>01-08-2007</td>\n",
       "    </tr>\n",
       "  </tbody>\n",
       "</table>\n",
       "<p>3 rows × 56 columns</p>\n",
       "</div>"
      ],
      "text/plain": [
       "   COD_ORGAO_ORIGEM  NUM_LEGISLATURA_APRESEN  NUM_LEGISLATURA_LEI  \\\n",
       "0                -1                       53                   -1   \n",
       "1                -1                       53                   -1   \n",
       "2                -1                       53                   -1   \n",
       "\n",
       "            NOM_PARTIDO_POLITICO DAT_VETO_TOTAL          NOM_UF  \\\n",
       "0  PARTIDO SOCIALISTA BRASILEIRO            NaN      PERNAMBUCO   \n",
       "1     PARTIDO POPULAR SOCIALISTA            NaN  SANTA CATARINA   \n",
       "2           PARTIDO DA REPÚBLICA            NaN  RIO DE JANEIRO   \n",
       "\n",
       "  DES_TIPO_PROPOSICAO    DES_COMPLETA  COD_TIPO_NORMA_JURIDICA_ORIGEM SIG_UF  \\\n",
       "0      PROJETO DE LEI  PROJETO DE LEI                              -1     PE   \n",
       "1      PROJETO DE LEI  PROJETO DE LEI                              -1     SC   \n",
       "2      PROJETO DE LEI  PROJETO DE LEI                              -1     RJ   \n",
       "\n",
       "             ...              COD_TIPO_AUTOR_ORIGEM  \\\n",
       "0            ...              TipoParlamentar_10000   \n",
       "1            ...              TipoParlamentar_10000   \n",
       "2            ...              TipoParlamentar_10000   \n",
       "\n",
       "   NUM_SESSAO_LEGISLATIVA_LEI DAT_FIM_LEGISLATURA_APRESEN  \\\n",
       "0                        -1.0                  31-01-2011   \n",
       "1                        -1.0                  31-01-2011   \n",
       "2                        -1.0                  31-01-2011   \n",
       "\n",
       "  SIG_PARTIDO_POLITICO IND_ATIVO_TIPO_PROPOSICAO  \\\n",
       "0                  PSB                         1   \n",
       "1                  PPS                         1   \n",
       "2                   PR                         1   \n",
       "\n",
       "  DAT_INICIO_LEGISLATURA_APRESEN NUM_PROPOSICAO  \\\n",
       "0                     01-02-2007            2.0   \n",
       "1                     01-02-2007          180.0   \n",
       "2                     01-02-2007           48.0   \n",
       "\n",
       "  COD_TIPO_SESSAO_LEGISLATIVA_LEI  NOM_PARLAMENTAR  DAT_FINAL_RECESSO_APRESEN  \n",
       "0                            -1.0      CARLOS LAPA                 01-08-2007  \n",
       "1                            -1.0  FERNANDO CORUJA                 01-08-2007  \n",
       "2                            -1.0    NEILTON MULIM                 01-08-2007  \n",
       "\n",
       "[3 rows x 56 columns]"
      ]
     },
     "execution_count": 3,
     "metadata": {},
     "output_type": "execute_result"
    }
   ],
   "source": [
    "data.head(3)"
   ]
  },
  {
   "cell_type": "code",
   "execution_count": 4,
   "metadata": {},
   "outputs": [
    {
     "name": "stdout",
     "output_type": "stream",
     "text": [
      "<class 'pandas.core.frame.DataFrame'>\n",
      "RangeIndex: 12781 entries, 0 to 12780\n",
      "Data columns (total 56 columns):\n",
      "COD_ORGAO_ORIGEM                         12781 non-null int64\n",
      "NUM_LEGISLATURA_APRESEN                  12781 non-null int64\n",
      "NUM_LEGISLATURA_LEI                      12781 non-null int64\n",
      "NOM_PARTIDO_POLITICO                     8392 non-null object\n",
      "DAT_VETO_TOTAL                           39 non-null object\n",
      "NOM_UF                                   8462 non-null object\n",
      "DES_TIPO_PROPOSICAO                      12781 non-null object\n",
      "DES_COMPLETA                             12761 non-null object\n",
      "COD_TIPO_NORMA_JURIDICA_ORIGEM           12781 non-null int64\n",
      "SIG_UF                                   8462 non-null object\n",
      "DAT_FIM_LEGISLATURA_LEI                  3544 non-null object\n",
      "COD_PROPOSICAO_ORIGEM                    12748 non-null float64\n",
      "DES_ATIVO_TIPO_PROPOSICAO                12781 non-null object\n",
      "NOM_ORGAO                                4319 non-null object\n",
      "DES_APELIDO_ORGAO                        4319 non-null object\n",
      "DATAPRESENTACAOPROPOSICAO                12781 non-null object\n",
      "DES_TIPO_AUTOR                           12781 non-null object\n",
      "COD_SEXO                                 8462 non-null object\n",
      "IND_ATIVO_ORGAO                          12781 non-null int64\n",
      "COD_TIPO_PARLAMENTAR                     12781 non-null int64\n",
      "DES_TIPO_NORMA_JURIDICA                  3548 non-null object\n",
      "DES_TIPO_SESSAO_LEGISLATIVA_APRESEN      12781 non-null object\n",
      "DATTRANSFPROPOSICAOLEI                   3548 non-null object\n",
      "DAT_FINAL_RECESSO_LEI                    3251 non-null object\n",
      "AREAS_TEMATICAS_APRESENTACAO             12748 non-null object\n",
      "DES_TIPO_SESSAO_LEGISLATIVA_LEI          3544 non-null object\n",
      "DAT_INICIAL_RECESSO_APRESEN              12633 non-null object\n",
      "ANO_PROPOSICAO                           12748 non-null float64\n",
      "TEX_REGIAO_GEOGRAFICA_AUTOR              8462 non-null object\n",
      "DAT_INICIO_LEGISLATURA_LEI               3544 non-null object\n",
      "NUM_SESSAO_LEGISLATIVA_APRESEN           12633 non-null float64\n",
      "DAT_INICIAL_RECESSO_LEI                  3251 non-null object\n",
      "DAT_FIM_SESSAO_LEGISLATIVA_APRESEN       12781 non-null object\n",
      "SIG_NORMA_JURIDICA                       3548 non-null object\n",
      "DAT_INICIO_SESSAO_LEGISLATIVA_LEI        3544 non-null object\n",
      "DES_TIPO_PARLAMENTAR                     8462 non-null object\n",
      "NOM_PROPOSICAO                           12748 non-null object\n",
      "DES_ATIVO_ORGAO                          4319 non-null object\n",
      "COD_PARTIDO_POLITICO                     12781 non-null int64\n",
      "NOM_CIVIL_PARLAMENTAR                    8462 non-null object\n",
      "SIG_TIPO_PROPOSICAO                      12781 non-null object\n",
      "COD_TIPO_SESSAO_LEGISLATIVA_APRESEN      12633 non-null float64\n",
      "DAT_INICIO_SESSAO_LEGISLATIVA_APRESEN    12781 non-null object\n",
      "COD_PARLAMENTAR_ORIGEM                   12781 non-null int64\n",
      "DAT_FIM_SESSAO_LEGISLATIVA_LEI           3544 non-null object\n",
      "DES_SITUACAO_PROPOSICAO                  3583 non-null object\n",
      "COD_TIPO_AUTOR_ORIGEM                    12781 non-null object\n",
      "NUM_SESSAO_LEGISLATIVA_LEI               12532 non-null float64\n",
      "DAT_FIM_LEGISLATURA_APRESEN              12781 non-null object\n",
      "SIG_PARTIDO_POLITICO                     8392 non-null object\n",
      "IND_ATIVO_TIPO_PROPOSICAO                12781 non-null int64\n",
      "DAT_INICIO_LEGISLATURA_APRESEN           12781 non-null object\n",
      "NUM_PROPOSICAO                           12748 non-null float64\n",
      "COD_TIPO_SESSAO_LEGISLATIVA_LEI          12532 non-null float64\n",
      "NOM_PARLAMENTAR                          8462 non-null object\n",
      "DAT_FINAL_RECESSO_APRESEN                12633 non-null object\n",
      "dtypes: float64(7), int64(9), object(40)\n",
      "memory usage: 5.5+ MB\n"
     ]
    }
   ],
   "source": [
    "data.info()"
   ]
  },
  {
   "cell_type": "code",
   "execution_count": 5,
   "metadata": {
    "scrolled": true
   },
   "outputs": [
    {
     "data": {
      "text/plain": [
       "COD_ORGAO_ORIGEM                         False\n",
       "NUM_LEGISLATURA_APRESEN                  False\n",
       "NUM_LEGISLATURA_LEI                      False\n",
       "NOM_PARTIDO_POLITICO                      True\n",
       "DAT_VETO_TOTAL                            True\n",
       "NOM_UF                                    True\n",
       "DES_TIPO_PROPOSICAO                      False\n",
       "DES_COMPLETA                              True\n",
       "COD_TIPO_NORMA_JURIDICA_ORIGEM           False\n",
       "SIG_UF                                    True\n",
       "DAT_FIM_LEGISLATURA_LEI                   True\n",
       "COD_PROPOSICAO_ORIGEM                     True\n",
       "DES_ATIVO_TIPO_PROPOSICAO                False\n",
       "NOM_ORGAO                                 True\n",
       "DES_APELIDO_ORGAO                         True\n",
       "DATAPRESENTACAOPROPOSICAO                False\n",
       "DES_TIPO_AUTOR                           False\n",
       "COD_SEXO                                  True\n",
       "IND_ATIVO_ORGAO                          False\n",
       "COD_TIPO_PARLAMENTAR                     False\n",
       "DES_TIPO_NORMA_JURIDICA                   True\n",
       "DES_TIPO_SESSAO_LEGISLATIVA_APRESEN      False\n",
       "DATTRANSFPROPOSICAOLEI                    True\n",
       "DAT_FINAL_RECESSO_LEI                     True\n",
       "AREAS_TEMATICAS_APRESENTACAO              True\n",
       "DES_TIPO_SESSAO_LEGISLATIVA_LEI           True\n",
       "DAT_INICIAL_RECESSO_APRESEN               True\n",
       "ANO_PROPOSICAO                            True\n",
       "TEX_REGIAO_GEOGRAFICA_AUTOR               True\n",
       "DAT_INICIO_LEGISLATURA_LEI                True\n",
       "NUM_SESSAO_LEGISLATIVA_APRESEN            True\n",
       "DAT_INICIAL_RECESSO_LEI                   True\n",
       "DAT_FIM_SESSAO_LEGISLATIVA_APRESEN       False\n",
       "SIG_NORMA_JURIDICA                        True\n",
       "DAT_INICIO_SESSAO_LEGISLATIVA_LEI         True\n",
       "DES_TIPO_PARLAMENTAR                      True\n",
       "NOM_PROPOSICAO                            True\n",
       "DES_ATIVO_ORGAO                           True\n",
       "COD_PARTIDO_POLITICO                     False\n",
       "NOM_CIVIL_PARLAMENTAR                     True\n",
       "SIG_TIPO_PROPOSICAO                      False\n",
       "COD_TIPO_SESSAO_LEGISLATIVA_APRESEN       True\n",
       "DAT_INICIO_SESSAO_LEGISLATIVA_APRESEN    False\n",
       "COD_PARLAMENTAR_ORIGEM                   False\n",
       "DAT_FIM_SESSAO_LEGISLATIVA_LEI            True\n",
       "DES_SITUACAO_PROPOSICAO                   True\n",
       "COD_TIPO_AUTOR_ORIGEM                    False\n",
       "NUM_SESSAO_LEGISLATIVA_LEI                True\n",
       "DAT_FIM_LEGISLATURA_APRESEN              False\n",
       "SIG_PARTIDO_POLITICO                      True\n",
       "IND_ATIVO_TIPO_PROPOSICAO                False\n",
       "DAT_INICIO_LEGISLATURA_APRESEN           False\n",
       "NUM_PROPOSICAO                            True\n",
       "COD_TIPO_SESSAO_LEGISLATIVA_LEI           True\n",
       "NOM_PARLAMENTAR                           True\n",
       "DAT_FINAL_RECESSO_APRESEN                 True\n",
       "dtype: bool"
      ]
     },
     "execution_count": 5,
     "metadata": {},
     "output_type": "execute_result"
    }
   ],
   "source": [
    "data.isnull().any()"
   ]
  },
  {
   "cell_type": "markdown",
   "metadata": {},
   "source": [
    "#### Das 56 totais, apenas 20 colunas estão completas, as outras possuem pelo menos uma linha sem informação."
   ]
  },
  {
   "cell_type": "markdown",
   "metadata": {},
   "source": [
    "### Veremos agora as relações entre as proposições e as informações de algumas colunas."
   ]
  },
  {
   "cell_type": "markdown",
   "metadata": {},
   "source": [
    "## Proposições x Estados"
   ]
  },
  {
   "cell_type": "code",
   "execution_count": 6,
   "metadata": {
    "scrolled": true
   },
   "outputs": [
    {
     "data": {
      "text/plain": [
       "<matplotlib.axes._subplots.AxesSubplot at 0x7fef8b263d30>"
      ]
     },
     "execution_count": 6,
     "metadata": {},
     "output_type": "execute_result"
    },
    {
     "data": {
      "image/png": "[encoded data removed]",
      "text/plain": [
       "<matplotlib.figure.Figure at 0x7fef8b713898>"
      ]
     },
     "metadata": {},
     "output_type": "display_data"
    }
   ],
   "source": [
    "import matplotlib.pyplot as plt\n",
    "import seaborn as sns\n",
    "%matplotlib inline\n",
    "\n",
    "plt.rcParams['figure.figsize']=(20,10)\n",
    "sns.countplot(data['SIG_UF'], label = \"Quantidade\")"
   ]
  },
  {
   "cell_type": "code",
   "execution_count": 7,
   "metadata": {},
   "outputs": [
    {
     "name": "stdout",
     "output_type": "stream",
     "text": [
      "Sem a informação do estado: 4319 proposições\n",
      "SP: 1656 proposições\n",
      "RJ: 847 proposições\n",
      "MG: 703 proposições\n",
      "RS: 517 proposições\n",
      "BA: 401 proposições\n",
      "MT: 392 proposições\n"
     ]
    }
   ],
   "source": [
    "uf_list = data['SIG_UF'].tolist()\n",
    "uf_counter = {}\n",
    "\n",
    "for word in uf_list:\n",
    "    if word in uf_counter:\n",
    "        uf_counter[word] += 1\n",
    "    else:\n",
    "        uf_counter[word] = 1\n",
    "        \n",
    "popular_uf = sorted(uf_counter, key = uf_counter.get, reverse = True)\n",
    "top_6 = popular_uf[:7]\n",
    "\n",
    "for uf in top_6:\n",
    "    if type(uf)!= float:\n",
    "        print(uf + ': ' + str(uf_counter[uf]) + ' proposições')\n",
    "    else:\n",
    "        print('Sem a informação do estado: ' + str(uf_counter[uf]) + ' proposições')"
   ]
  },
  {
   "cell_type": "markdown",
   "metadata": {},
   "source": [
    "#### Quantidade de proposições em cada estado:"
   ]
  },
  {
   "cell_type": "code",
   "execution_count": 8,
   "metadata": {
    "scrolled": true
   },
   "outputs": [
    {
     "data": {
      "text/plain": [
       "{'PE': 327,\n",
       " 'SC': 297,\n",
       " 'RJ': 847,\n",
       " 'ES': 291,\n",
       " 'SP': 1656,\n",
       " 'GO': 221,\n",
       " 'MG': 703,\n",
       " 'MT': 392,\n",
       " 'MA': 371,\n",
       " 'PA': 201,\n",
       " 'BA': 401,\n",
       " 'DF': 281,\n",
       " 'RN': 115,\n",
       " 'RR': 46,\n",
       " 'TO': 68,\n",
       " 'RO': 133,\n",
       " 'AM': 275,\n",
       " 'PR': 361,\n",
       " 'AC': 65,\n",
       " 'CE': 250,\n",
       " 'PI': 57,\n",
       " 'RS': 517,\n",
       " 'PB': 296,\n",
       " 'SE': 87,\n",
       " 'AP': 76,\n",
       " 'MS': 83,\n",
       " 'AL': 45,\n",
       " nan: 4319}"
      ]
     },
     "execution_count": 8,
     "metadata": {},
     "output_type": "execute_result"
    }
   ],
   "source": [
    "uf_counter"
   ]
  },
  {
   "cell_type": "markdown",
   "metadata": {},
   "source": [
    "## Proposições x Gênero"
   ]
  },
  {
   "cell_type": "code",
   "execution_count": 9,
   "metadata": {
    "scrolled": false
   },
   "outputs": [
    {
     "data": {
      "text/plain": [
       "<matplotlib.axes._subplots.AxesSubplot at 0x7fef8797dba8>"
      ]
     },
     "execution_count": 9,
     "metadata": {},
     "output_type": "execute_result"
    },
    {
     "data": {
      "image/png": "[encoded data removed]",
      "text/plain": [
       "<matplotlib.figure.Figure at 0x7fef874de518>"
      ]
     },
     "metadata": {},
     "output_type": "display_data"
    }
   ],
   "source": [
    "plt.rcParams['figure.figsize']=(20,10)\n",
    "sns.countplot(data['COD_SEXO'], label = \"Quantidade\")"
   ]
  },
  {
   "cell_type": "code",
   "execution_count": 10,
   "metadata": {},
   "outputs": [
    {
     "data": {
      "text/plain": [
       "{'M': 7726, 'F': 736, nan: 4319}"
      ]
     },
     "execution_count": 10,
     "metadata": {},
     "output_type": "execute_result"
    }
   ],
   "source": [
    "gender_list = data['COD_SEXO'].tolist()\n",
    "gender_counter = {}\n",
    "\n",
    "for gender in gender_list:\n",
    "    if gender in gender_counter:\n",
    "        gender_counter[gender] += 1\n",
    "    else:\n",
    "        gender_counter[gender] = 1\n",
    "        \n",
    "gender_counter"
   ]
  },
  {
   "cell_type": "markdown",
   "metadata": {},
   "source": [
    "#### Grande maioria das proposições vieram de homens sendo que 4319 não informam o gênero da pessoa que propôs."
   ]
  },
  {
   "cell_type": "markdown",
   "metadata": {},
   "source": [
    "## Proposições x Temas"
   ]
  },
  {
   "cell_type": "markdown",
   "metadata": {},
   "source": [
    "#### Ranking dos 6 temas mais frequentes nas proposições:"
   ]
  },
  {
   "cell_type": "code",
   "execution_count": 11,
   "metadata": {
    "scrolled": true
   },
   "outputs": [
    {
     "name": "stdout",
     "output_type": "stream",
     "text": [
      "COMUNICAÇÕES: 2774 proposições\n",
      "TRABALHO E EMPREGO: 603 proposições\n",
      "EDUCAÇÃO: 598 proposições\n",
      "VIAÇÃO E TRANSPORTES: 554 proposições\n",
      "ADMINISTRAÇÃO PÚBLICA: 524 proposições\n",
      "ORGANIZAÇÃO POLÍTICO-ADMINISTRATIVA DO ESTADO (UTILIZADO ATÉ A LEGISLATURA 53): 495 proposições\n",
      "INDÚSTRIA, COMÉRCIO E DEFESA DO CONSUMIDOR (UTILIZADO ATÉ A LEGISLATURA 53): 439 proposições\n"
     ]
    }
   ],
   "source": [
    "theme_list = data['AREAS_TEMATICAS_APRESENTACAO'].tolist()\n",
    "theme_counter = {}\n",
    "\n",
    "for theme in theme_list:\n",
    "    if theme in theme_counter:\n",
    "        theme_counter[theme] += 1\n",
    "    else:\n",
    "        theme_counter[theme] = 1\n",
    "        \n",
    "popular_themes = sorted(theme_counter, key = theme_counter.get, reverse = True)\n",
    "top_6 = popular_themes[:7]\n",
    "\n",
    "for theme in top_6:\n",
    "    print(theme + ': ' + str(theme_counter[theme]) + ' proposições')"
   ]
  },
  {
   "cell_type": "markdown",
   "metadata": {},
   "source": [
    "#### Lista com todos os temas e a quantidade de proposições relacionadas a eles entre 2006 e 2010 se encontra em *temas06_10.txt* dentro do diretório *temas* neste mesmo repositório."
   ]
  },
  {
   "cell_type": "markdown",
   "metadata": {},
   "source": [
    "## Proposições x Tipo do Autor"
   ]
  },
  {
   "cell_type": "markdown",
   "metadata": {},
   "source": [
    "#### Ranking dos tipos de autores do mais frequente ao menos frequente:"
   ]
  },
  {
   "cell_type": "code",
   "execution_count": 41,
   "metadata": {
    "scrolled": false
   },
   "outputs": [
    {
     "name": "stdout",
     "output_type": "stream",
     "text": [
      "DEPUTADO: 8461 proposições\n",
      "COMISSÃO PERMANENTE: 2988 proposições\n",
      "ÓRGÃO DO PODER LEGISLATIVO: 778 proposições\n",
      "ÓRGÃO DO PODER EXECUTIVO: 382 proposições\n",
      "ÓRGÃO DO PODER JUDICIÁRIO: 54 proposições\n",
      "COMISSÃO MISTA PERMANENTE: 35 proposições\n",
      "COMISSÃO PARLAMENTAR DE INQUÉRITO: 21 proposições\n",
      "COMISSÃO DIRETORA: 21 proposições\n",
      "COMISSÃO ESPECIAL: 18 proposições\n",
      "MPU - MINISTÉRIO PÚBLICO DA UNIÃO: 13 proposições\n",
      "COMISSÃO MISTA ESPECIAL: 6 proposições\n",
      "CONSELHO: 2 proposições\n",
      "SENADOR: 1 proposição\n",
      "COMISSÃO PERMANENTE DO SENADO FEDERAL: 1 proposição\n"
     ]
    }
   ],
   "source": [
    "author_type_list = data['DES_TIPO_AUTOR'].tolist()\n",
    "author_type_counter = {}\n",
    "\n",
    "for author_type in author_type_list:\n",
    "    if author_type in author_type_counter:\n",
    "        author_type_counter[author_type] += 1\n",
    "    else:\n",
    "        author_type_counter[author_type] = 1\n",
    "        \n",
    "popular_author_type = sorted(author_type_counter, key = author_type_counter.get, reverse = True)\n",
    "\n",
    "for author_type in popular_author_type:\n",
    "    if author_type_counter[author_type] != 1:\n",
    "        print(author_type + ': ' + str(author_type_counter[author_type]) + ' proposições')\n",
    "    else:\n",
    "        print(author_type + ': ' + str(author_type_counter[author_type]) + ' proposição')"
   ]
  },
  {
   "cell_type": "markdown",
   "metadata": {},
   "source": [
    "#### A grande maioria das proposições vieram diretamente dos deputados."
   ]
  },
  {
   "cell_type": "markdown",
   "metadata": {},
   "source": [
    "## Proposições x Ano"
   ]
  },
  {
   "cell_type": "code",
   "execution_count": 22,
   "metadata": {
    "scrolled": false
   },
   "outputs": [
    {
     "data": {
      "text/plain": [
       "<matplotlib.axes._subplots.AxesSubplot at 0x7fbfcfbdbf98>"
      ]
     },
     "execution_count": 22,
     "metadata": {},
     "output_type": "execute_result"
    },
    {
     "data": {
      "image/png": "[encoded data removed]",
      "text/plain": [
       "<matplotlib.figure.Figure at 0x7fbfcf70e390>"
      ]
     },
     "metadata": {},
     "output_type": "display_data"
    }
   ],
   "source": [
    "plt.rcParams['figure.figsize']=(20,10)\n",
    "sns.countplot(data['ANO_PROPOSICAO'], label = \"Quantidade\")"
   ]
  },
  {
   "cell_type": "markdown",
   "metadata": {},
   "source": [
    "#### Ranking:"
   ]
  },
  {
   "cell_type": "code",
   "execution_count": 42,
   "metadata": {},
   "outputs": [
    {
     "name": "stdout",
     "output_type": "stream",
     "text": [
      "2007.0: 3849 proposições\n",
      "2009.0: 3509 proposições\n",
      "2008.0: 3096 proposições\n",
      "2010.0: 2251 proposições\n",
      "2011.0: 43 proposições\n"
     ]
    }
   ],
   "source": [
    "year_list = data['ANO_PROPOSICAO'].tolist()\n",
    "year_counter = {}\n",
    "\n",
    "for year in year_list:\n",
    "    if year in year_counter:\n",
    "        year_counter[year] += 1\n",
    "    else:\n",
    "        year_counter[year] = 1\n",
    "        \n",
    "popular_year = sorted(year_counter, key = year_counter.get, reverse = True)\n",
    "\n",
    "for year in popular_year:\n",
    "    if year_counter[year] != 1:\n",
    "        print(str(year) + ': ' + str(year_counter[year]) + ' proposições')"
   ]
  },
  {
   "cell_type": "markdown",
   "metadata": {},
   "source": [
    "## Proposições x Região"
   ]
  },
  {
   "cell_type": "code",
   "execution_count": 23,
   "metadata": {
    "scrolled": true
   },
   "outputs": [
    {
     "data": {
      "text/plain": [
       "<matplotlib.axes._subplots.AxesSubplot at 0x7fbfcfadc358>"
      ]
     },
     "execution_count": 23,
     "metadata": {},
     "output_type": "execute_result"
    },
    {
     "data": {
      "image/png": "[encoded data removed]",
      "text/plain": [
       "<matplotlib.figure.Figure at 0x7fc004278f28>"
      ]
     },
     "metadata": {},
     "output_type": "display_data"
    }
   ],
   "source": [
    "plt.rcParams['figure.figsize']=(20,10)\n",
    "sns.countplot(data['TEX_REGIAO_GEOGRAFICA_AUTOR'], label = \"Quantidade\")"
   ]
  },
  {
   "cell_type": "markdown",
   "metadata": {},
   "source": [
    "#### Ranking:"
   ]
  },
  {
   "cell_type": "code",
   "execution_count": 44,
   "metadata": {},
   "outputs": [
    {
     "name": "stdout",
     "output_type": "stream",
     "text": [
      "Sem informação de região: 4319 proposições\n",
      "SUDESTE: 3497 proposições\n",
      "NORDESTE: 1949 proposições\n",
      "SUL: 1175 proposições\n",
      "CENTRO-OESTE: 977 proposições\n",
      "NORTE: 864 proposições\n"
     ]
    }
   ],
   "source": [
    "region_list = data['TEX_REGIAO_GEOGRAFICA_AUTOR'].tolist()\n",
    "region_counter = {}\n",
    "\n",
    "for region in region_list:\n",
    "    if region in region_counter:\n",
    "        region_counter[region] += 1\n",
    "    else:\n",
    "        region_counter[region] = 1\n",
    "        \n",
    "popular_region = sorted(region_counter, key = region_counter.get, reverse = True)\n",
    "\n",
    "for region in popular_region:\n",
    "    if type(region) != float:\n",
    "        print(region + ': ' + str(region_counter[region]) + ' proposições')\n",
    "    else:\n",
    "        print('Sem informação de região: ' + str(region_counter[region]) + ' proposições')"
   ]
  },
  {
   "cell_type": "markdown",
   "metadata": {},
   "source": [
    "## Proposições x Tipos"
   ]
  },
  {
   "cell_type": "code",
   "execution_count": 25,
   "metadata": {
    "scrolled": true
   },
   "outputs": [
    {
     "data": {
      "text/plain": [
       "<matplotlib.axes._subplots.AxesSubplot at 0x7fbfcf9e7470>"
      ]
     },
     "execution_count": 25,
     "metadata": {},
     "output_type": "execute_result"
    },
    {
     "data": {
      "image/png": "[encoded data removed]",
      "text/plain": [
       "<matplotlib.figure.Figure at 0x7fbfcfa27710>"
      ]
     },
     "metadata": {},
     "output_type": "display_data"
    }
   ],
   "source": [
    "plt.rcParams['figure.figsize']=(20,10)\n",
    "sns.countplot(data['SIG_TIPO_PROPOSICAO'], label = \"Quantidade\")"
   ]
  },
  {
   "cell_type": "markdown",
   "metadata": {},
   "source": [
    "#### Ranking:"
   ]
  },
  {
   "cell_type": "code",
   "execution_count": 46,
   "metadata": {},
   "outputs": [
    {
     "name": "stdout",
     "output_type": "stream",
     "text": [
      "PL: 8114 proposições\n",
      "PDC: 3112 proposições\n",
      "PLP: 608 proposições\n",
      "PEC: 535 proposições\n",
      "PRC: 242 proposições\n",
      "MPV: 170 proposições\n"
     ]
    }
   ],
   "source": [
    "proposition_list = data['SIG_TIPO_PROPOSICAO'].tolist()\n",
    "proposition_counter = {}\n",
    "\n",
    "for proposition in proposition_list:\n",
    "    if proposition in proposition_counter:\n",
    "        proposition_counter[proposition] += 1\n",
    "    else:\n",
    "        proposition_counter[proposition] = 1\n",
    "        \n",
    "popular_proposition = sorted(proposition_counter, key = proposition_counter.get, reverse = True)\n",
    "\n",
    "for proposition in popular_proposition:\n",
    "    print(proposition + ': ' + str(proposition_counter[proposition]) + ' proposições')"
   ]
  },
  {
   "cell_type": "markdown",
   "metadata": {},
   "source": [
    "#### Legenda: \n",
    "\n",
    "* PL = Projetos de Lei \n",
    "* PDC = Projetos de Decreto Legislativo da Câmara\n",
    "* PLP = Projetos de Lei Complementar\n",
    "* PEC = Projetos de Emenda à Constituição\n",
    "* MPV = Medidas Provisórias\n",
    "* PRC = Projeto de Resolução da Câmara"
   ]
  },
  {
   "cell_type": "markdown",
   "metadata": {},
   "source": [
    "## Proposições x Partidos Políticos"
   ]
  },
  {
   "cell_type": "code",
   "execution_count": 28,
   "metadata": {},
   "outputs": [
    {
     "data": {
      "text/plain": [
       "<matplotlib.axes._subplots.AxesSubplot at 0x7fbfcf93a390>"
      ]
     },
     "execution_count": 28,
     "metadata": {},
     "output_type": "execute_result"
    },
    {
     "data": {
      "image/png": "[encoded data removed]",
      "text/plain": [
       "<matplotlib.figure.Figure at 0x7fbfcf980dd8>"
      ]
     },
     "metadata": {},
     "output_type": "display_data"
    }
   ],
   "source": [
    "plt.rcParams['figure.figsize']=(20,10)\n",
    "sns.countplot(data['SIG_PARTIDO_POLITICO'], label = \"Quantidade\")"
   ]
  },
  {
   "cell_type": "markdown",
   "metadata": {},
   "source": [
    "#### Ranking dos 6 partidos com mais proposições e as respectivas quantidades:"
   ]
  },
  {
   "cell_type": "code",
   "execution_count": 47,
   "metadata": {
    "scrolled": true
   },
   "outputs": [
    {
     "name": "stdout",
     "output_type": "stream",
     "text": [
      "Sem informação de partido: 4389 proposições\n",
      "PMDB: 1326 proposições\n",
      "PT: 959 proposições\n",
      "PSDB: 897 proposições\n",
      "PP: 653 proposições\n",
      "DEM: 652 proposições\n",
      "PR: 645 proposições\n"
     ]
    }
   ],
   "source": [
    "pp_list = data['SIG_PARTIDO_POLITICO'].tolist()\n",
    "pp_counter = {}\n",
    "\n",
    "for pp in pp_list:\n",
    "    if pp in pp_counter:\n",
    "        pp_counter[pp] += 1\n",
    "    else:\n",
    "        pp_counter[pp] = 1\n",
    "        \n",
    "popular_pp = sorted(pp_counter, key = pp_counter.get, reverse = True)\n",
    "top_7 = popular_pp[:7]\n",
    "\n",
    "for pp in top_7:\n",
    "    if type(pp) != float:\n",
    "        print(pp + ': ' + str(pp_counter[pp]) + ' proposições')\n",
    "    else:\n",
    "        print('Sem informação de partido: ' + str(pp_counter[pp]) + ' proposições')"
   ]
  },
  {
   "cell_type": "markdown",
   "metadata": {},
   "source": [
    "#### Lista de todos os partidos e suas respectivas quantidades:"
   ]
  },
  {
   "cell_type": "code",
   "execution_count": 30,
   "metadata": {
    "scrolled": true
   },
   "outputs": [
    {
     "name": "stdout",
     "output_type": "stream",
     "text": [
      "{'PSB': 637, 'PPS': 276, 'PR': 645, 'PTC': 55, 'PSDB': 897, 'S.PART.': 17, 'PP': 653, 'PMDB': 1326, 'DEM': 652, 'PT': 959, 'PDT': 438, 'PV': 359, 'PCDOB': 235, 'PTB': 330, 'PMN': 75, 'PFL': 120, 'PSC': 233, 'PRB': 247, 'PRTB': 30, 'PSOL': 88, 'PHS': 61, nan: 4389, 'PTDOB': 45, 'PAN': 14}\n"
     ]
    }
   ],
   "source": [
    "print(pp_counter)"
   ]
  },
  {
   "cell_type": "markdown",
   "metadata": {},
   "source": [
    "#### Os 3 partidos com mais proposições vinculadas: PMDB com 1326, PT com 959 e PSDB com 897. 4389 das proposições não informam seus respectivos partidosde origem."
   ]
  },
  {
   "cell_type": "markdown",
   "metadata": {},
   "source": [
    "## Proposições x Nome do Parlamentar"
   ]
  },
  {
   "cell_type": "markdown",
   "metadata": {},
   "source": [
    "#### Ranking dos 10 deputados com mais proposições:"
   ]
  },
  {
   "cell_type": "code",
   "execution_count": 48,
   "metadata": {
    "scrolled": true
   },
   "outputs": [
    {
     "name": "stdout",
     "output_type": "stream",
     "text": [
      "Sem informação do nome do deputado: 4319 proposições\n",
      "CLEBER VERDE: 192 proposições\n",
      "CARLOS BEZERRA: 186 proposições\n",
      "DR. TALMIR: 122 proposições\n",
      "VITAL DO RÊGO FILHO: 120 proposições\n",
      "ANTONIO CARLOS MENDES THAME: 105 proposições\n",
      "CARLOS SOUZA: 98 proposições\n",
      "NEILTON MULIM: 81 proposições\n",
      "DR. UBIALI: 79 proposições\n",
      "ELIENE LIMA: 78 proposições\n",
      "VALDIR COLATTO: 78 proposições\n"
     ]
    }
   ],
   "source": [
    "name_list = data['NOM_PARLAMENTAR'].tolist()\n",
    "name_counter = {}\n",
    "\n",
    "for name in name_list:\n",
    "    if name in name_counter:\n",
    "        name_counter[name] += 1\n",
    "    else:\n",
    "        name_counter[name] = 1\n",
    "        \n",
    "popular_name = sorted(name_counter, key = name_counter.get, reverse = True)\n",
    "top_10 = popular_name[:11]\n",
    "\n",
    "for name in top_10:\n",
    "    if type(name) != float:\n",
    "        print(name + ': ' + str(name_counter[name]) + ' proposições')\n",
    "    else:\n",
    "        print('Sem informação do nome do deputado: ' + str(name_counter[name]) + ' proposições')"
   ]
  },
  {
   "cell_type": "markdown",
   "metadata": {},
   "source": [
    "#### Média de proposições por deputado:"
   ]
  },
  {
   "cell_type": "code",
   "execution_count": 34,
   "metadata": {},
   "outputs": [
    {
     "name": "stdout",
     "output_type": "stream",
     "text": [
      "Média de proposições por candidato: 15.36\n"
     ]
    }
   ],
   "source": [
    "counter = 0\n",
    "for name in name_counter:\n",
    "    counter = counter + name_counter[name]\n",
    "    \n",
    "print(\"Média de proposições por candidato: %.2f\" % ((counter-4319)/(len(name_counter)-1)))  # 4319 proposições sem nome do deputado (nan)"
   ]
  },
  {
   "cell_type": "markdown",
   "metadata": {},
   "source": [
    "#### Lista com todos os deputados e a quantidade de proposições feitas por cada um durante todos os anos de mandato se encontra no arquivo *deputados&qnt_proposicoes_2006_2010.txt* dentro do diretório *deputados&qnt_proposicoes* neste mesmo repositório."
   ]
  }
 ],
 "metadata": {
  "kernelspec": {
   "display_name": "Python 3",
   "language": "python",
   "name": "python3"
  },
  "language_info": {
   "codemirror_mode": {
    "name": "ipython",
    "version": 3
   },
   "file_extension": ".py",
   "mimetype": "text/x-python",
   "name": "python",
   "nbconvert_exporter": "python",
   "pygments_lexer": "ipython3",
   "version": "3.6.1"
  }
 },
 "nbformat": 4,
 "nbformat_minor": 2
}
