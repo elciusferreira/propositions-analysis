{
 "cells": [
  {
   "cell_type": "markdown",
   "metadata": {},
   "source": [
    "# Analisando as proposições de 2010 - 2014"
   ]
  },
  {
   "cell_type": "markdown",
   "metadata": {},
   "source": [
    "### Os dados utilizados se encontram no portal de dados abertos da Câmara dos Deputados como sendo referentes aos anos de 2010 até 2014.\n",
    "\n",
    "#### Link do portal: https://dadosabertos.camara.leg.br/swagger/api.html\n",
    "\n",
    "#### Foi feito o download do arquivo no formato json disponibilizado no site, o mesmo foi processado por um script feito em python responsável por realizar o parsing e gerar um outro arquivo no formato csv."
   ]
  },
  {
   "cell_type": "markdown",
   "metadata": {},
   "source": [
    "#### Carregamento dos dados:"
   ]
  },
  {
   "cell_type": "code",
   "execution_count": 3,
   "metadata": {
    "collapsed": true,
    "scrolled": true
   },
   "outputs": [],
   "source": [
    "import pandas as pd\n",
    "\n",
    "data = pd.read_csv('proposicoes/proposicoes_2010_2014.csv', encoding = 'utf8', header = 0)"
   ]
  },
  {
   "cell_type": "markdown",
   "metadata": {},
   "source": [
    "## Visão Geral"
   ]
  },
  {
   "cell_type": "code",
   "execution_count": 4,
   "metadata": {},
   "outputs": [
    {
     "data": {
      "text/plain": [
       "(11307, 56)"
      ]
     },
     "execution_count": 4,
     "metadata": {},
     "output_type": "execute_result"
    }
   ],
   "source": [
    "data.shape"
   ]
  },
  {
   "cell_type": "markdown",
   "metadata": {},
   "source": [
    "#### O arquivo contém, portanto, 11307 linhas com proposições e 56 colunas para cada uma. Três primeiras linhas:"
   ]
  },
  {
   "cell_type": "code",
   "execution_count": 3,
   "metadata": {},
   "outputs": [
    {
     "data": {
      "text/html": [
       "<div>\n",
       "<style>\n",
       "    .dataframe thead tr:only-child th {\n",
       "        text-align: right;\n",
       "    }\n",
       "\n",
       "    .dataframe thead th {\n",
       "        text-align: left;\n",
       "    }\n",
       "\n",
       "    .dataframe tbody tr th {\n",
       "        vertical-align: top;\n",
       "    }\n",
       "</style>\n",
       "<table border=\"1\" class=\"dataframe\">\n",
       "  <thead>\n",
       "    <tr style=\"text-align: right;\">\n",
       "      <th></th>\n",
       "      <th>COD_ORGAO_ORIGEM</th>\n",
       "      <th>NUM_LEGISLATURA_APRESEN</th>\n",
       "      <th>NUM_LEGISLATURA_LEI</th>\n",
       "      <th>NOM_PARTIDO_POLITICO</th>\n",
       "      <th>DAT_VETO_TOTAL</th>\n",
       "      <th>NOM_UF</th>\n",
       "      <th>DES_TIPO_PROPOSICAO</th>\n",
       "      <th>DES_COMPLETA</th>\n",
       "      <th>COD_TIPO_NORMA_JURIDICA_ORIGEM</th>\n",
       "      <th>SIG_UF</th>\n",
       "      <th>...</th>\n",
       "      <th>COD_TIPO_AUTOR_ORIGEM</th>\n",
       "      <th>NUM_SESSAO_LEGISLATIVA_LEI</th>\n",
       "      <th>DAT_FIM_LEGISLATURA_APRESEN</th>\n",
       "      <th>SIG_PARTIDO_POLITICO</th>\n",
       "      <th>IND_ATIVO_TIPO_PROPOSICAO</th>\n",
       "      <th>DAT_INICIO_LEGISLATURA_APRESEN</th>\n",
       "      <th>NUM_PROPOSICAO</th>\n",
       "      <th>COD_TIPO_SESSAO_LEGISLATIVA_LEI</th>\n",
       "      <th>NOM_PARLAMENTAR</th>\n",
       "      <th>DAT_FINAL_RECESSO_APRESEN</th>\n",
       "    </tr>\n",
       "  </thead>\n",
       "  <tbody>\n",
       "    <tr>\n",
       "      <th>0</th>\n",
       "      <td>-1</td>\n",
       "      <td>54</td>\n",
       "      <td>-1</td>\n",
       "      <td>PARTIDO DO MOVIMENTO DEMOCRÁTICO BRASILEIRO</td>\n",
       "      <td>NaN</td>\n",
       "      <td>ALAGOAS</td>\n",
       "      <td>PROJETO DE LEI</td>\n",
       "      <td>PROJETO DE LEI</td>\n",
       "      <td>-1</td>\n",
       "      <td>AL</td>\n",
       "      <td>...</td>\n",
       "      <td>TipoParlamentar_10000</td>\n",
       "      <td>-1.0</td>\n",
       "      <td>31-01-2015</td>\n",
       "      <td>PMDB</td>\n",
       "      <td>1</td>\n",
       "      <td>01-02-2011</td>\n",
       "      <td>2429.0</td>\n",
       "      <td>-1.0</td>\n",
       "      <td>JOAQUIM BELTRÃO</td>\n",
       "      <td>01-08-2011</td>\n",
       "    </tr>\n",
       "    <tr>\n",
       "      <th>1</th>\n",
       "      <td>-1</td>\n",
       "      <td>54</td>\n",
       "      <td>-1</td>\n",
       "      <td>PARTIDO VERDE</td>\n",
       "      <td>NaN</td>\n",
       "      <td>RIO DE JANEIRO</td>\n",
       "      <td>PROJETO DE LEI</td>\n",
       "      <td>PROJETO DE LEI</td>\n",
       "      <td>-1</td>\n",
       "      <td>RJ</td>\n",
       "      <td>...</td>\n",
       "      <td>TipoParlamentar_10000</td>\n",
       "      <td>-1.0</td>\n",
       "      <td>31-01-2015</td>\n",
       "      <td>PV</td>\n",
       "      <td>1</td>\n",
       "      <td>01-02-2011</td>\n",
       "      <td>2438.0</td>\n",
       "      <td>-1.0</td>\n",
       "      <td>ALFREDO SIRKIS</td>\n",
       "      <td>01-08-2011</td>\n",
       "    </tr>\n",
       "    <tr>\n",
       "      <th>2</th>\n",
       "      <td>-1</td>\n",
       "      <td>54</td>\n",
       "      <td>-1</td>\n",
       "      <td>PARTIDO DOS TRABALHADORES</td>\n",
       "      <td>NaN</td>\n",
       "      <td>AMAPÁ</td>\n",
       "      <td>PROPOSTA DE EMENDA À CONSTITUIÇÃO</td>\n",
       "      <td>PROPOSTA DE EMENDA À CONSTITUIÇÃO (ART. 60 CF ...</td>\n",
       "      <td>-1</td>\n",
       "      <td>AP</td>\n",
       "      <td>...</td>\n",
       "      <td>TipoParlamentar_10000</td>\n",
       "      <td>-1.0</td>\n",
       "      <td>31-01-2015</td>\n",
       "      <td>PT</td>\n",
       "      <td>1</td>\n",
       "      <td>01-02-2011</td>\n",
       "      <td>86.0</td>\n",
       "      <td>-1.0</td>\n",
       "      <td>DALVA FIGUEIREDO</td>\n",
       "      <td>01-08-2011</td>\n",
       "    </tr>\n",
       "  </tbody>\n",
       "</table>\n",
       "<p>3 rows × 56 columns</p>\n",
       "</div>"
      ],
      "text/plain": [
       "   COD_ORGAO_ORIGEM  NUM_LEGISLATURA_APRESEN  NUM_LEGISLATURA_LEI  \\\n",
       "0                -1                       54                   -1   \n",
       "1                -1                       54                   -1   \n",
       "2                -1                       54                   -1   \n",
       "\n",
       "                          NOM_PARTIDO_POLITICO DAT_VETO_TOTAL          NOM_UF  \\\n",
       "0  PARTIDO DO MOVIMENTO DEMOCRÁTICO BRASILEIRO            NaN         ALAGOAS   \n",
       "1                                PARTIDO VERDE            NaN  RIO DE JANEIRO   \n",
       "2                    PARTIDO DOS TRABALHADORES            NaN           AMAPÁ   \n",
       "\n",
       "                 DES_TIPO_PROPOSICAO  \\\n",
       "0                     PROJETO DE LEI   \n",
       "1                     PROJETO DE LEI   \n",
       "2  PROPOSTA DE EMENDA À CONSTITUIÇÃO   \n",
       "\n",
       "                                        DES_COMPLETA  \\\n",
       "0                                     PROJETO DE LEI   \n",
       "1                                     PROJETO DE LEI   \n",
       "2  PROPOSTA DE EMENDA À CONSTITUIÇÃO (ART. 60 CF ...   \n",
       "\n",
       "   COD_TIPO_NORMA_JURIDICA_ORIGEM SIG_UF            ...              \\\n",
       "0                              -1     AL            ...               \n",
       "1                              -1     RJ            ...               \n",
       "2                              -1     AP            ...               \n",
       "\n",
       "   COD_TIPO_AUTOR_ORIGEM  NUM_SESSAO_LEGISLATIVA_LEI  \\\n",
       "0  TipoParlamentar_10000                        -1.0   \n",
       "1  TipoParlamentar_10000                        -1.0   \n",
       "2  TipoParlamentar_10000                        -1.0   \n",
       "\n",
       "  DAT_FIM_LEGISLATURA_APRESEN SIG_PARTIDO_POLITICO IND_ATIVO_TIPO_PROPOSICAO  \\\n",
       "0                  31-01-2015                 PMDB                         1   \n",
       "1                  31-01-2015                   PV                         1   \n",
       "2                  31-01-2015                   PT                         1   \n",
       "\n",
       "  DAT_INICIO_LEGISLATURA_APRESEN NUM_PROPOSICAO  \\\n",
       "0                     01-02-2011         2429.0   \n",
       "1                     01-02-2011         2438.0   \n",
       "2                     01-02-2011           86.0   \n",
       "\n",
       "  COD_TIPO_SESSAO_LEGISLATIVA_LEI   NOM_PARLAMENTAR  DAT_FINAL_RECESSO_APRESEN  \n",
       "0                            -1.0   JOAQUIM BELTRÃO                 01-08-2011  \n",
       "1                            -1.0    ALFREDO SIRKIS                 01-08-2011  \n",
       "2                            -1.0  DALVA FIGUEIREDO                 01-08-2011  \n",
       "\n",
       "[3 rows x 56 columns]"
      ]
     },
     "execution_count": 3,
     "metadata": {},
     "output_type": "execute_result"
    }
   ],
   "source": [
    "data.head(3)"
   ]
  },
  {
   "cell_type": "code",
   "execution_count": 4,
   "metadata": {},
   "outputs": [
    {
     "name": "stdout",
     "output_type": "stream",
     "text": [
      "<class 'pandas.core.frame.DataFrame'>\n",
      "RangeIndex: 11307 entries, 0 to 11306\n",
      "Data columns (total 56 columns):\n",
      "COD_ORGAO_ORIGEM                         11307 non-null int64\n",
      "NUM_LEGISLATURA_APRESEN                  11307 non-null int64\n",
      "NUM_LEGISLATURA_LEI                      11307 non-null int64\n",
      "NOM_PARTIDO_POLITICO                     8859 non-null object\n",
      "DAT_VETO_TOTAL                           18 non-null object\n",
      "NOM_UF                                   8859 non-null object\n",
      "DES_TIPO_PROPOSICAO                      11307 non-null object\n",
      "DES_COMPLETA                             11249 non-null object\n",
      "COD_TIPO_NORMA_JURIDICA_ORIGEM           11307 non-null int64\n",
      "SIG_UF                                   8859 non-null object\n",
      "DAT_FIM_LEGISLATURA_LEI                  1542 non-null object\n",
      "COD_PROPOSICAO_ORIGEM                    11303 non-null float64\n",
      "DES_ATIVO_TIPO_PROPOSICAO                11307 non-null object\n",
      "NOM_ORGAO                                2446 non-null object\n",
      "DES_APELIDO_ORGAO                        2446 non-null object\n",
      "DATAPRESENTACAOPROPOSICAO                11307 non-null object\n",
      "DES_TIPO_AUTOR                           11307 non-null object\n",
      "COD_SEXO                                 8861 non-null object\n",
      "IND_ATIVO_ORGAO                          11307 non-null int64\n",
      "COD_TIPO_PARLAMENTAR                     11307 non-null int64\n",
      "DES_TIPO_NORMA_JURIDICA                  1557 non-null object\n",
      "DES_TIPO_SESSAO_LEGISLATIVA_APRESEN      11307 non-null object\n",
      "DATTRANSFPROPOSICAOLEI                   1557 non-null object\n",
      "DAT_FINAL_RECESSO_LEI                    1042 non-null object\n",
      "AREAS_TEMATICAS_APRESENTACAO             11303 non-null object\n",
      "DES_TIPO_SESSAO_LEGISLATIVA_LEI          1542 non-null object\n",
      "DAT_INICIAL_RECESSO_APRESEN              11265 non-null object\n",
      "ANO_PROPOSICAO                           11303 non-null float64\n",
      "TEX_REGIAO_GEOGRAFICA_AUTOR              8859 non-null object\n",
      "DAT_INICIO_LEGISLATURA_LEI               1542 non-null object\n",
      "NUM_SESSAO_LEGISLATIVA_APRESEN           11265 non-null float64\n",
      "DAT_INICIAL_RECESSO_LEI                  1042 non-null object\n",
      "DAT_FIM_SESSAO_LEGISLATIVA_APRESEN       11307 non-null object\n",
      "SIG_NORMA_JURIDICA                       1557 non-null object\n",
      "DAT_INICIO_SESSAO_LEGISLATIVA_LEI        1542 non-null object\n",
      "DES_TIPO_PARLAMENTAR                     8861 non-null object\n",
      "NOM_PROPOSICAO                           11303 non-null object\n",
      "DES_ATIVO_ORGAO                          2446 non-null object\n",
      "COD_PARTIDO_POLITICO                     11307 non-null int64\n",
      "NOM_CIVIL_PARLAMENTAR                    8861 non-null object\n",
      "SIG_TIPO_PROPOSICAO                      11307 non-null object\n",
      "COD_TIPO_SESSAO_LEGISLATIVA_APRESEN      11265 non-null float64\n",
      "DAT_INICIO_SESSAO_LEGISLATIVA_APRESEN    11307 non-null object\n",
      "COD_PARLAMENTAR_ORIGEM                   11307 non-null int64\n",
      "DAT_FIM_SESSAO_LEGISLATIVA_LEI           1542 non-null object\n",
      "DES_SITUACAO_PROPOSICAO                  1562 non-null object\n",
      "COD_TIPO_AUTOR_ORIGEM                    11307 non-null object\n",
      "NUM_SESSAO_LEGISLATIVA_LEI               11023 non-null float64\n",
      "DAT_FIM_LEGISLATURA_APRESEN              11307 non-null object\n",
      "SIG_PARTIDO_POLITICO                     8859 non-null object\n",
      "IND_ATIVO_TIPO_PROPOSICAO                11307 non-null int64\n",
      "DAT_INICIO_LEGISLATURA_APRESEN           11307 non-null object\n",
      "NUM_PROPOSICAO                           11303 non-null float64\n",
      "COD_TIPO_SESSAO_LEGISLATIVA_LEI          11023 non-null float64\n",
      "NOM_PARLAMENTAR                          8861 non-null object\n",
      "DAT_FINAL_RECESSO_APRESEN                11265 non-null object\n",
      "dtypes: float64(7), int64(9), object(40)\n",
      "memory usage: 4.8+ MB\n"
     ]
    }
   ],
   "source": [
    "data.info()"
   ]
  },
  {
   "cell_type": "code",
   "execution_count": 5,
   "metadata": {
    "scrolled": false
   },
   "outputs": [
    {
     "data": {
      "text/plain": [
       "COD_ORGAO_ORIGEM                         False\n",
       "NUM_LEGISLATURA_APRESEN                  False\n",
       "NUM_LEGISLATURA_LEI                      False\n",
       "NOM_PARTIDO_POLITICO                      True\n",
       "DAT_VETO_TOTAL                            True\n",
       "NOM_UF                                    True\n",
       "DES_TIPO_PROPOSICAO                      False\n",
       "DES_COMPLETA                              True\n",
       "COD_TIPO_NORMA_JURIDICA_ORIGEM           False\n",
       "SIG_UF                                    True\n",
       "DAT_FIM_LEGISLATURA_LEI                   True\n",
       "COD_PROPOSICAO_ORIGEM                     True\n",
       "DES_ATIVO_TIPO_PROPOSICAO                False\n",
       "NOM_ORGAO                                 True\n",
       "DES_APELIDO_ORGAO                         True\n",
       "DATAPRESENTACAOPROPOSICAO                False\n",
       "DES_TIPO_AUTOR                           False\n",
       "COD_SEXO                                  True\n",
       "IND_ATIVO_ORGAO                          False\n",
       "COD_TIPO_PARLAMENTAR                     False\n",
       "DES_TIPO_NORMA_JURIDICA                   True\n",
       "DES_TIPO_SESSAO_LEGISLATIVA_APRESEN      False\n",
       "DATTRANSFPROPOSICAOLEI                    True\n",
       "DAT_FINAL_RECESSO_LEI                     True\n",
       "AREAS_TEMATICAS_APRESENTACAO              True\n",
       "DES_TIPO_SESSAO_LEGISLATIVA_LEI           True\n",
       "DAT_INICIAL_RECESSO_APRESEN               True\n",
       "ANO_PROPOSICAO                            True\n",
       "TEX_REGIAO_GEOGRAFICA_AUTOR               True\n",
       "DAT_INICIO_LEGISLATURA_LEI                True\n",
       "NUM_SESSAO_LEGISLATIVA_APRESEN            True\n",
       "DAT_INICIAL_RECESSO_LEI                   True\n",
       "DAT_FIM_SESSAO_LEGISLATIVA_APRESEN       False\n",
       "SIG_NORMA_JURIDICA                        True\n",
       "DAT_INICIO_SESSAO_LEGISLATIVA_LEI         True\n",
       "DES_TIPO_PARLAMENTAR                      True\n",
       "NOM_PROPOSICAO                            True\n",
       "DES_ATIVO_ORGAO                           True\n",
       "COD_PARTIDO_POLITICO                     False\n",
       "NOM_CIVIL_PARLAMENTAR                     True\n",
       "SIG_TIPO_PROPOSICAO                      False\n",
       "COD_TIPO_SESSAO_LEGISLATIVA_APRESEN       True\n",
       "DAT_INICIO_SESSAO_LEGISLATIVA_APRESEN    False\n",
       "COD_PARLAMENTAR_ORIGEM                   False\n",
       "DAT_FIM_SESSAO_LEGISLATIVA_LEI            True\n",
       "DES_SITUACAO_PROPOSICAO                   True\n",
       "COD_TIPO_AUTOR_ORIGEM                    False\n",
       "NUM_SESSAO_LEGISLATIVA_LEI                True\n",
       "DAT_FIM_LEGISLATURA_APRESEN              False\n",
       "SIG_PARTIDO_POLITICO                      True\n",
       "IND_ATIVO_TIPO_PROPOSICAO                False\n",
       "DAT_INICIO_LEGISLATURA_APRESEN           False\n",
       "NUM_PROPOSICAO                            True\n",
       "COD_TIPO_SESSAO_LEGISLATIVA_LEI           True\n",
       "NOM_PARLAMENTAR                           True\n",
       "DAT_FINAL_RECESSO_APRESEN                 True\n",
       "dtype: bool"
      ]
     },
     "execution_count": 5,
     "metadata": {},
     "output_type": "execute_result"
    }
   ],
   "source": [
    "data.isnull().any()"
   ]
  },
  {
   "cell_type": "markdown",
   "metadata": {},
   "source": [
    "#### Das 56 totais, apenas 20 colunas estão completas, as outras possuem pelo menos uma linha sem informação."
   ]
  },
  {
   "cell_type": "markdown",
   "metadata": {},
   "source": [
    "### Veremos agora as relações entre as proposições e as informações de algumas colunas."
   ]
  },
  {
   "cell_type": "markdown",
   "metadata": {},
   "source": [
    "## Proposições x Estados"
   ]
  },
  {
   "cell_type": "code",
   "execution_count": 6,
   "metadata": {
    "scrolled": true
   },
   "outputs": [
    {
     "data": {
      "text/plain": [
       "<matplotlib.axes._subplots.AxesSubplot at 0x7f9c46a370b8>"
      ]
     },
     "execution_count": 6,
     "metadata": {},
     "output_type": "execute_result"
    },
    {
     "data": {
      "image/png": "[encoded data removed]",
      "text/plain": [
       "<matplotlib.figure.Figure at 0x7f9c470dfbe0>"
      ]
     },
     "metadata": {},
     "output_type": "display_data"
    }
   ],
   "source": [
    "import matplotlib.pyplot as plt\n",
    "import seaborn as sns\n",
    "%matplotlib inline\n",
    "\n",
    "plt.rcParams['figure.figsize']=(20,10)\n",
    "sns.countplot(data['SIG_UF'], label = \"Quantidade\")"
   ]
  },
  {
   "cell_type": "code",
   "execution_count": 7,
   "metadata": {},
   "outputs": [
    {
     "name": "stdout",
     "output_type": "stream",
     "text": [
      "Sem a informação do estado: 2448 proposições\n",
      "SP: 1360 proposições\n",
      "RJ: 864 proposições\n",
      "MG: 798 proposições\n",
      "PB: 548 proposições\n",
      "RS: 537 proposições\n",
      "SC: 476 proposições\n"
     ]
    }
   ],
   "source": [
    "uf_list = data['SIG_UF'].tolist()\n",
    "uf_counter = {}\n",
    "\n",
    "for word in uf_list:\n",
    "    if word in uf_counter:\n",
    "        uf_counter[word] += 1\n",
    "    else:\n",
    "        uf_counter[word] = 1\n",
    "        \n",
    "popular_uf = sorted(uf_counter, key = uf_counter.get, reverse = True)\n",
    "top_6 = popular_uf[:7]\n",
    "\n",
    "for uf in top_6:\n",
    "    if type(uf)!= float:\n",
    "        print(uf + ': ' + str(uf_counter[uf]) + ' proposições')\n",
    "    else:\n",
    "        print('Sem a informação do estado: ' + str(uf_counter[uf]) + ' proposições')"
   ]
  },
  {
   "cell_type": "markdown",
   "metadata": {},
   "source": [
    "#### Quantidade de proposições em cada estado:"
   ]
  },
  {
   "cell_type": "code",
   "execution_count": 8,
   "metadata": {},
   "outputs": [
    {
     "data": {
      "text/plain": [
       "{'AL': 81,\n",
       " 'RJ': 864,\n",
       " 'AP': 62,\n",
       " 'PI': 88,\n",
       " 'RS': 537,\n",
       " 'SP': 1360,\n",
       " 'BA': 470,\n",
       " 'RN': 148,\n",
       " 'SC': 476,\n",
       " 'PB': 548,\n",
       " 'MS': 169,\n",
       " 'PE': 348,\n",
       " 'MA': 201,\n",
       " 'ES': 275,\n",
       " 'SE': 297,\n",
       " 'GO': 316,\n",
       " 'PA': 141,\n",
       " 'MT': 398,\n",
       " 'TO': 127,\n",
       " 'DF': 243,\n",
       " 'CE': 174,\n",
       " 'AC': 76,\n",
       " 'AM': 120,\n",
       " 'MG': 798,\n",
       " 'PR': 385,\n",
       " 'RR': 67,\n",
       " 'RO': 90,\n",
       " nan: 2448}"
      ]
     },
     "execution_count": 8,
     "metadata": {},
     "output_type": "execute_result"
    }
   ],
   "source": [
    "uf_counter"
   ]
  },
  {
   "cell_type": "markdown",
   "metadata": {},
   "source": [
    "## Proposições x Sexo"
   ]
  },
  {
   "cell_type": "code",
   "execution_count": 9,
   "metadata": {
    "scrolled": true
   },
   "outputs": [
    {
     "data": {
      "text/plain": [
       "<matplotlib.axes._subplots.AxesSubplot at 0x7f9c433549b0>"
      ]
     },
     "execution_count": 9,
     "metadata": {},
     "output_type": "execute_result"
    },
    {
     "data": {
      "image/png": "[encoded data removed]",
      "text/plain": [
       "<matplotlib.figure.Figure at 0x7f9c42f20d30>"
      ]
     },
     "metadata": {},
     "output_type": "display_data"
    }
   ],
   "source": [
    "plt.rcParams['figure.figsize']=(20,10)\n",
    "sns.countplot(data['COD_SEXO'], label = \"Quantidade\")"
   ]
  },
  {
   "cell_type": "code",
   "execution_count": 10,
   "metadata": {},
   "outputs": [
    {
     "data": {
      "text/plain": [
       "{'M': 7922, 'F': 939, nan: 2446}"
      ]
     },
     "execution_count": 10,
     "metadata": {},
     "output_type": "execute_result"
    }
   ],
   "source": [
    "gender_list = data['COD_SEXO'].tolist()\n",
    "gender_counter = {}\n",
    "\n",
    "for gender in gender_list:\n",
    "    if gender in gender_counter:\n",
    "        gender_counter[gender] += 1\n",
    "    else:\n",
    "        gender_counter[gender] = 1\n",
    "        \n",
    "gender_counter"
   ]
  },
  {
   "cell_type": "markdown",
   "metadata": {},
   "source": [
    "#### Grande maioria das proposições vieram de homens sendo que 2446 não informam o gênero da pessoa que propôs."
   ]
  },
  {
   "cell_type": "markdown",
   "metadata": {},
   "source": [
    "## Proposições x Temas"
   ]
  },
  {
   "cell_type": "markdown",
   "metadata": {},
   "source": [
    "#### Ranking dos 6 temas mais frequentes:"
   ]
  },
  {
   "cell_type": "code",
   "execution_count": 11,
   "metadata": {
    "scrolled": false
   },
   "outputs": [
    {
     "name": "stdout",
     "output_type": "stream",
     "text": [
      "COMUNICAÇÕES: 1477 proposições\n",
      "TRIBUTAÇÃO: 657 proposições\n",
      "TRABALHO E EMPREGO: 649 proposições\n",
      "ADMINISTRAÇÃO PÚBLICA: 635 proposições\n",
      "HOMENAGENS E DATAS COMEMORATIVAS: 487 proposições\n",
      "EDUCAÇÃO: 480 proposições\n",
      "DIREITOS HUMANOS, MINORIAS E CIDADANIA: 480 proposições\n"
     ]
    }
   ],
   "source": [
    "theme_list = data['AREAS_TEMATICAS_APRESENTACAO'].tolist()\n",
    "theme_counter = {}\n",
    "\n",
    "for theme in theme_list:\n",
    "    if theme in theme_counter:\n",
    "        theme_counter[theme] += 1\n",
    "    else:\n",
    "        theme_counter[theme] = 1\n",
    "        \n",
    "popular_themes = sorted(theme_counter, key = theme_counter.get, reverse = True)\n",
    "top_6 = popular_themes[:7]\n",
    "\n",
    "for theme in top_6:\n",
    "    print(theme + ': ' + str(theme_counter[theme]) + ' proposições')"
   ]
  },
  {
   "cell_type": "markdown",
   "metadata": {
    "collapsed": true
   },
   "source": [
    "#### Lista com todos os temas e a quantidade de proposições relacionadas a eles entre 2010 e 2014 se encontra em *temas10_14.txt* dentro do diretório *temas* neste mesmo repositório."
   ]
  },
  {
   "cell_type": "markdown",
   "metadata": {},
   "source": [
    "## Proposições x Tipo do Autor"
   ]
  },
  {
   "cell_type": "markdown",
   "metadata": {},
   "source": [
    "#### Ranking dos tipos de autores do mais frequente ao menos frequente:"
   ]
  },
  {
   "cell_type": "code",
   "execution_count": 37,
   "metadata": {
    "scrolled": false
   },
   "outputs": [
    {
     "name": "stdout",
     "output_type": "stream",
     "text": [
      "DEPUTADO: 8861 proposições\n",
      "COMISSÃO PERMANENTE: 1487 proposições\n",
      "ÓRGÃO DO PODER LEGISLATIVO: 524 proposições\n",
      "ÓRGÃO DO PODER EXECUTIVO: 229 proposições\n",
      "ÓRGÃO DO PODER JUDICIÁRIO: 86 proposições\n",
      "COMISSÃO DIRETORA: 39 proposições\n",
      "COMISSÃO MISTA PERMANENTE: 17 proposições\n",
      "COMISSÃO ESPECIAL: 15 proposições\n",
      "MPU - MINISTÉRIO PÚBLICO DA UNIÃO: 15 proposições\n",
      "COMISSÃO PARLAMENTAR DE INQUÉRITO: 14 proposições\n",
      "COMISSÃO PARLAMENTAR MISTA DE INQUÉRITO: 6 proposições\n",
      "COMISSÃO EXTERNA: 6 proposições\n",
      "DPU - DEFENSORIA PÚBLICA DA UNIÃO: 4 proposições\n",
      "COMISSÃO MISTA ESPECIAL: 3 proposições\n",
      "COMISSÃO PERMANENTE DO SENADO FEDERAL: 1 proposição\n"
     ]
    }
   ],
   "source": [
    "author_type_list = data['DES_TIPO_AUTOR'].tolist()\n",
    "author_type_counter = {}\n",
    "\n",
    "for author_type in author_type_list:\n",
    "    if author_type in author_type_counter:\n",
    "        author_type_counter[author_type] += 1\n",
    "    else:\n",
    "        author_type_counter[author_type] = 1\n",
    "        \n",
    "popular_author_type = sorted(author_type_counter, key = author_type_counter.get, reverse = True)\n",
    "\n",
    "for author_type in popular_author_type:\n",
    "    if author_type_counter[author_type] != 1:\n",
    "        print(author_type + ': ' + str(author_type_counter[author_type]) + ' proposições')\n",
    "    else:\n",
    "        print(author_type + ': ' + str(author_type_counter[author_type]) + ' proposição')"
   ]
  },
  {
   "cell_type": "markdown",
   "metadata": {},
   "source": [
    "#### A grande maioria das proposições vieram diretamente dos deputados."
   ]
  },
  {
   "cell_type": "markdown",
   "metadata": {},
   "source": [
    "## Proposições x Ano"
   ]
  },
  {
   "cell_type": "code",
   "execution_count": 19,
   "metadata": {
    "scrolled": false
   },
   "outputs": [
    {
     "data": {
      "text/plain": [
       "<matplotlib.axes._subplots.AxesSubplot at 0x7f71148eaeb8>"
      ]
     },
     "execution_count": 19,
     "metadata": {},
     "output_type": "execute_result"
    },
    {
     "data": {
      "image/png": "[encoded data removed]",
      "text/plain": [
       "<matplotlib.figure.Figure at 0x7f71148f6d30>"
      ]
     },
     "metadata": {},
     "output_type": "display_data"
    }
   ],
   "source": [
    "plt.rcParams['figure.figsize']=(20,10)\n",
    "sns.countplot(data['ANO_PROPOSICAO'], label = \"Quantidade\")"
   ]
  },
  {
   "cell_type": "markdown",
   "metadata": {},
   "source": [
    "#### Ranking:"
   ]
  },
  {
   "cell_type": "code",
   "execution_count": 38,
   "metadata": {},
   "outputs": [
    {
     "name": "stdout",
     "output_type": "stream",
     "text": [
      "2011.0: 4011 proposições\n",
      "2013.0: 3115 proposições\n",
      "2012.0: 2433 proposições\n",
      "2014.0: 1744 proposições\n"
     ]
    }
   ],
   "source": [
    "year_list = data['ANO_PROPOSICAO'].tolist()\n",
    "year_counter = {}\n",
    "\n",
    "for year in year_list:\n",
    "    if year in year_counter:\n",
    "        year_counter[year] += 1\n",
    "    else:\n",
    "        year_counter[year] = 1\n",
    "        \n",
    "popular_year = sorted(year_counter, key = year_counter.get, reverse = True)\n",
    "\n",
    "for year in popular_year:\n",
    "    if year_counter[year] != 1:\n",
    "        print(str(year) + ': ' + str(year_counter[year]) + ' proposições')"
   ]
  },
  {
   "cell_type": "markdown",
   "metadata": {},
   "source": [
    "## Proposições x Região"
   ]
  },
  {
   "cell_type": "code",
   "execution_count": 20,
   "metadata": {
    "scrolled": true
   },
   "outputs": [
    {
     "data": {
      "text/plain": [
       "<matplotlib.axes._subplots.AxesSubplot at 0x7f71147bc710>"
      ]
     },
     "execution_count": 20,
     "metadata": {},
     "output_type": "execute_result"
    },
    {
     "data": {
      "image/png": "[encoded data removed]",
      "text/plain": [
       "<matplotlib.figure.Figure at 0x7f71147c6b38>"
      ]
     },
     "metadata": {},
     "output_type": "display_data"
    }
   ],
   "source": [
    "plt.rcParams['figure.figsize']=(20,10)\n",
    "sns.countplot(data['TEX_REGIAO_GEOGRAFICA_AUTOR'], label = \"Quantidade\")"
   ]
  },
  {
   "cell_type": "markdown",
   "metadata": {},
   "source": [
    "#### Ranking:"
   ]
  },
  {
   "cell_type": "code",
   "execution_count": 39,
   "metadata": {},
   "outputs": [
    {
     "name": "stdout",
     "output_type": "stream",
     "text": [
      "SUDESTE: 3297 proposições\n",
      "Sem informação de região: 2448 proposições\n",
      "NORDESTE: 2355 proposições\n",
      "SUL: 1398 proposições\n",
      "CENTRO-OESTE: 1126 proposições\n",
      "NORTE: 683 proposições\n"
     ]
    }
   ],
   "source": [
    "region_list = data['TEX_REGIAO_GEOGRAFICA_AUTOR'].tolist()\n",
    "region_counter = {}\n",
    "\n",
    "for region in region_list:\n",
    "    if region in region_counter:\n",
    "        region_counter[region] += 1\n",
    "    else:\n",
    "        region_counter[region] = 1\n",
    "        \n",
    "popular_region = sorted(region_counter, key = region_counter.get, reverse = True)\n",
    "\n",
    "for region in popular_region:\n",
    "    if type(region) != float:\n",
    "        print(region + ': ' + str(region_counter[region]) + ' proposições')\n",
    "    else:\n",
    "        print('Sem informação de região: ' + str(region_counter[region]) + ' proposições')"
   ]
  },
  {
   "cell_type": "markdown",
   "metadata": {},
   "source": [
    "## Proposições x Tipos"
   ]
  },
  {
   "cell_type": "code",
   "execution_count": 22,
   "metadata": {
    "scrolled": true
   },
   "outputs": [
    {
     "data": {
      "text/plain": [
       "<matplotlib.axes._subplots.AxesSubplot at 0x7f71147abb38>"
      ]
     },
     "execution_count": 22,
     "metadata": {},
     "output_type": "execute_result"
    },
    {
     "data": {
      "image/png": "[encoded data removed]",
      "text/plain": [
       "<matplotlib.figure.Figure at 0x7f71148e55c0>"
      ]
     },
     "metadata": {},
     "output_type": "display_data"
    }
   ],
   "source": [
    "plt.rcParams['figure.figsize']=(20,10)\n",
    "sns.countplot(data['SIG_TIPO_PROPOSICAO'], label = \"Quantidade\")"
   ]
  },
  {
   "cell_type": "markdown",
   "metadata": {},
   "source": [
    "#### Ranking:"
   ]
  },
  {
   "cell_type": "code",
   "execution_count": 40,
   "metadata": {},
   "outputs": [
    {
     "name": "stdout",
     "output_type": "stream",
     "text": [
      "PL: 8327 proposições\n",
      "PDC: 1667 proposições\n",
      "PLP: 455 proposições\n",
      "PEC: 451 proposições\n",
      "PRC: 268 proposições\n",
      "MPV: 139 proposições\n"
     ]
    }
   ],
   "source": [
    "proposition_list = data['SIG_TIPO_PROPOSICAO'].tolist()\n",
    "proposition_counter = {}\n",
    "\n",
    "for proposition in proposition_list:\n",
    "    if proposition in proposition_counter:\n",
    "        proposition_counter[proposition] += 1\n",
    "    else:\n",
    "        proposition_counter[proposition] = 1\n",
    "        \n",
    "popular_proposition = sorted(proposition_counter, key = proposition_counter.get, reverse = True)\n",
    "\n",
    "for proposition in popular_proposition:\n",
    "    print(proposition + ': ' + str(proposition_counter[proposition]) + ' proposições')"
   ]
  },
  {
   "cell_type": "markdown",
   "metadata": {},
   "source": [
    "#### Legenda: \n",
    "\n",
    "* PL = Projetos de Lei \n",
    "* PDC = Projetos de Decreto Legislativo da Câmara\n",
    "* PLP = Projetos de Lei Complementar\n",
    "* PEC = Projetos de Emenda à Constituição\n",
    "* MPV = Medidas Provisórias\n",
    "* PRC = Projetos de Resolução da Câmara"
   ]
  },
  {
   "cell_type": "markdown",
   "metadata": {},
   "source": [
    "## Proposições x Partidos Políticos"
   ]
  },
  {
   "cell_type": "code",
   "execution_count": 25,
   "metadata": {},
   "outputs": [
    {
     "data": {
      "text/plain": [
       "<matplotlib.axes._subplots.AxesSubplot at 0x7f711475b780>"
      ]
     },
     "execution_count": 25,
     "metadata": {},
     "output_type": "execute_result"
    },
    {
     "data": {
      "image/png": "[encoded data removed]",
      "text/plain": [
       "<matplotlib.figure.Figure at 0x7f7114636cf8>"
      ]
     },
     "metadata": {},
     "output_type": "display_data"
    }
   ],
   "source": [
    "plt.rcParams['figure.figsize']=(20,10)\n",
    "sns.countplot(data['SIG_PARTIDO_POLITICO'], label = \"Quantidade\")"
   ]
  },
  {
   "cell_type": "markdown",
   "metadata": {},
   "source": [
    "#### Ranking dos 6 partidos com mais proposições e as respectivas quantidades:"
   ]
  },
  {
   "cell_type": "code",
   "execution_count": 41,
   "metadata": {
    "scrolled": true
   },
   "outputs": [
    {
     "name": "stdout",
     "output_type": "stream",
     "text": [
      "Sem informação de partido: 2448 proposições\n",
      "PT: 1257 proposições\n",
      "PMDB: 1182 proposições\n",
      "PSDB: 948 proposições\n",
      "PSD: 743 proposições\n",
      "DEM: 646 proposições\n",
      "PSB: 588 proposições\n"
     ]
    }
   ],
   "source": [
    "pp_list = data['SIG_PARTIDO_POLITICO'].tolist()\n",
    "pp_counter = {}\n",
    "\n",
    "for pp in pp_list:\n",
    "    if pp in pp_counter:\n",
    "        pp_counter[pp] += 1\n",
    "    else:\n",
    "        pp_counter[pp] = 1\n",
    "        \n",
    "popular_pp = sorted(pp_counter, key = pp_counter.get, reverse = True)\n",
    "top_7 = popular_pp[:7]\n",
    "\n",
    "for pp in top_7:\n",
    "    if type(pp) != float:\n",
    "        print(pp + ': ' + str(pp_counter[pp]) + ' proposições')\n",
    "    else:\n",
    "        print('Sem informação de partido: ' + str(pp_counter[pp]) + ' proposições')"
   ]
  },
  {
   "cell_type": "markdown",
   "metadata": {},
   "source": [
    "#### Lista de todos os partidos e suas respectivas quantidades:"
   ]
  },
  {
   "cell_type": "code",
   "execution_count": 27,
   "metadata": {},
   "outputs": [
    {
     "name": "stdout",
     "output_type": "stream",
     "text": [
      "{'PMDB': 1182, 'PV': 258, 'PT': 1257, 'PCDOB': 169, 'PSB': 588, 'PDT': 581, 'DEM': 646, 'PSDB': 948, 'PR': 527, 'PTC': 18, 'PMN': 64, 'PP': 545, 'PSC': 326, 'PSD': 743, 'PRB': 182, 'PTB': 209, 'PTDOB': 70, 'PSL': 26, 'PROS': 100, 'PRP': 11, 'PEN': 15, 'PPS': 199, 'SDD': 41, 'PRTB': 30, 'PHS': 18, 'SD': 38, 'PSOL': 64, 'PSDC': 3, nan: 2448, 'S.PART.': 1}\n"
     ]
    }
   ],
   "source": [
    "print(pp_counter)"
   ]
  },
  {
   "cell_type": "markdown",
   "metadata": {},
   "source": [
    "## Proposições x Nome do Parlamentar"
   ]
  },
  {
   "cell_type": "markdown",
   "metadata": {},
   "source": [
    "#### Ranking dos 10 deputados com mais proposições:"
   ]
  },
  {
   "cell_type": "code",
   "execution_count": 42,
   "metadata": {
    "scrolled": true
   },
   "outputs": [
    {
     "name": "stdout",
     "output_type": "stream",
     "text": [
      "Sem informação do nome do deputado: 2446 proposições\n",
      "WELITON PRADO: 172 proposições\n",
      "MAJOR FÁBIO: 169 proposições\n",
      "CARLOS BEZERRA: 159 proposições\n",
      "ONOFRE SANTO AGOSTINI: 132 proposições\n",
      "ROMERO RODRIGUES: 100 proposições\n",
      "LAERCIO OLIVEIRA: 98 proposições\n",
      "SANDRA ROSADO: 93 proposições\n",
      "RICARDO IZAR: 91 proposições\n",
      "ERIKA KOKAY: 89 proposições\n",
      "SANDES JÚNIOR: 84 proposições\n"
     ]
    }
   ],
   "source": [
    "name_list = data['NOM_PARLAMENTAR'].tolist()\n",
    "name_counter = {}\n",
    "\n",
    "for name in name_list:\n",
    "    if name in name_counter:\n",
    "        name_counter[name] += 1\n",
    "    else:\n",
    "        name_counter[name] = 1\n",
    "        \n",
    "popular_name = sorted(name_counter, key = name_counter.get, reverse = True)\n",
    "top_10 = popular_name[:11]\n",
    "\n",
    "for name in top_10:\n",
    "    if type(name) != float:\n",
    "        print(name + ': ' + str(name_counter[name]) + ' proposições')\n",
    "    else:\n",
    "        print('Sem informação do nome do deputado: ' + str(name_counter[name]) + ' proposições')"
   ]
  },
  {
   "cell_type": "markdown",
   "metadata": {},
   "source": [
    "#### Média de proposições por deputado:"
   ]
  },
  {
   "cell_type": "code",
   "execution_count": 31,
   "metadata": {},
   "outputs": [
    {
     "name": "stdout",
     "output_type": "stream",
     "text": [
      "Média de proposições por candidato: 15.38\n"
     ]
    }
   ],
   "source": [
    "counter = 0\n",
    "for name in name_counter:\n",
    "    counter = counter + name_counter[name]\n",
    "    \n",
    "print(\"Média de proposições por candidato: %.2f\" % ((counter-2446)/(len(name_counter)-1)))  # 2446 proposições sem nome do deputado (nan)"
   ]
  },
  {
   "cell_type": "markdown",
   "metadata": {},
   "source": [
    "#### Lista com todos os deputados e a quantidade de proposições feitas por cada um durante todos os anos de mandato se encontra no arquivo *deputados&qnt_proposicoes_2010_2014.txt* dentro do diretório *deputados&qnt_proposicoes* neste mesmo repositório."
   ]
  }
 ],
 "metadata": {
  "kernelspec": {
   "display_name": "Python 3",
   "language": "python",
   "name": "python3"
  },
  "language_info": {
   "codemirror_mode": {
    "name": "ipython",
    "version": 3
   },
   "file_extension": ".py",
   "mimetype": "text/x-python",
   "name": "python",
   "nbconvert_exporter": "python",
   "pygments_lexer": "ipython3",
   "version": "3.6.1"
  }
 },
 "nbformat": 4,
 "nbformat_minor": 2
}
