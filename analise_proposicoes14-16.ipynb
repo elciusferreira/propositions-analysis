{
 "cells": [
  {
   "cell_type": "markdown",
   "metadata": {},
   "source": [
    "# Analisando as proposições de 2014 - 2016"
   ]
  },
  {
   "cell_type": "markdown",
   "metadata": {},
   "source": [
    "### Os dados utilizados se encontram no portal de dados abertos da Câmara dos Deputados como sendo referentes aos anos de 2014 até 2018, porém, não houve atualização e inserção das informações de 2017 e 2018 ainda.\n",
    "\n",
    "#### Link do portal: https://dadosabertos.camara.leg.br/swagger/api.html\n",
    "\n",
    "#### Foi feito o download do arquivo no formato json disponibilizado no site, o mesmo foi processado por um script feito em python responsável por realizar o parsing e gerar um outro arquivo no formato csv."
   ]
  },
  {
   "cell_type": "markdown",
   "metadata": {},
   "source": [
    "#### Carregamento dos dados:"
   ]
  },
  {
   "cell_type": "code",
   "execution_count": 1,
   "metadata": {
    "collapsed": true,
    "scrolled": true
   },
   "outputs": [],
   "source": [
    "import pandas as pd\n",
    "\n",
    "data = pd.read_csv('proposicoes/proposicoes_2014_2016.csv', encoding = 'utf8', header = 0)"
   ]
  },
  {
   "cell_type": "markdown",
   "metadata": {},
   "source": [
    "## Visão Geral"
   ]
  },
  {
   "cell_type": "code",
   "execution_count": 2,
   "metadata": {},
   "outputs": [
    {
     "data": {
      "text/plain": [
       "(6881, 56)"
      ]
     },
     "execution_count": 2,
     "metadata": {},
     "output_type": "execute_result"
    }
   ],
   "source": [
    "data.shape"
   ]
  },
  {
   "cell_type": "markdown",
   "metadata": {},
   "source": [
    "#### O arquivo contém, portanto, 6881 linhas com proposições e 56 colunas para cada uma. Três primeiras linhas:"
   ]
  },
  {
   "cell_type": "code",
   "execution_count": 3,
   "metadata": {},
   "outputs": [
    {
     "data": {
      "text/html": [
       "<div>\n",
       "<style>\n",
       "    .dataframe thead tr:only-child th {\n",
       "        text-align: right;\n",
       "    }\n",
       "\n",
       "    .dataframe thead th {\n",
       "        text-align: left;\n",
       "    }\n",
       "\n",
       "    .dataframe tbody tr th {\n",
       "        vertical-align: top;\n",
       "    }\n",
       "</style>\n",
       "<table border=\"1\" class=\"dataframe\">\n",
       "  <thead>\n",
       "    <tr style=\"text-align: right;\">\n",
       "      <th></th>\n",
       "      <th>COD_ORGAO_ORIGEM</th>\n",
       "      <th>NUM_LEGISLATURA_APRESEN</th>\n",
       "      <th>NUM_LEGISLATURA_LEI</th>\n",
       "      <th>NOM_PARTIDO_POLITICO</th>\n",
       "      <th>DAT_VETO_TOTAL</th>\n",
       "      <th>NOM_UF</th>\n",
       "      <th>DES_TIPO_PROPOSICAO</th>\n",
       "      <th>DES_COMPLETA</th>\n",
       "      <th>COD_TIPO_NORMA_JURIDICA_ORIGEM</th>\n",
       "      <th>SIG_UF</th>\n",
       "      <th>...</th>\n",
       "      <th>COD_TIPO_AUTOR_ORIGEM</th>\n",
       "      <th>NUM_SESSAO_LEGISLATIVA_LEI</th>\n",
       "      <th>DAT_FIM_LEGISLATURA_APRESEN</th>\n",
       "      <th>SIG_PARTIDO_POLITICO</th>\n",
       "      <th>IND_ATIVO_TIPO_PROPOSICAO</th>\n",
       "      <th>DAT_INICIO_LEGISLATURA_APRESEN</th>\n",
       "      <th>NUM_PROPOSICAO</th>\n",
       "      <th>COD_TIPO_SESSAO_LEGISLATIVA_LEI</th>\n",
       "      <th>NOM_PARLAMENTAR</th>\n",
       "      <th>DAT_FINAL_RECESSO_APRESEN</th>\n",
       "    </tr>\n",
       "  </thead>\n",
       "  <tbody>\n",
       "    <tr>\n",
       "      <th>0</th>\n",
       "      <td>-1</td>\n",
       "      <td>55</td>\n",
       "      <td>-1</td>\n",
       "      <td>PARTIDO SOCIALISTA BRASILEIRO</td>\n",
       "      <td>NaN</td>\n",
       "      <td>TOCANTINS</td>\n",
       "      <td>PROJETO DE LEI</td>\n",
       "      <td>PROJETO DE LEI</td>\n",
       "      <td>-1</td>\n",
       "      <td>TO</td>\n",
       "      <td>...</td>\n",
       "      <td>TipoParlamentar_10000</td>\n",
       "      <td>-1</td>\n",
       "      <td>31-01-2019</td>\n",
       "      <td>PSB</td>\n",
       "      <td>1</td>\n",
       "      <td>01-02-2015</td>\n",
       "      <td>569.0</td>\n",
       "      <td>-1</td>\n",
       "      <td>VICENTINHO JÚNIOR</td>\n",
       "      <td>NaN</td>\n",
       "    </tr>\n",
       "    <tr>\n",
       "      <th>1</th>\n",
       "      <td>-1</td>\n",
       "      <td>55</td>\n",
       "      <td>-1</td>\n",
       "      <td>NaN</td>\n",
       "      <td>NaN</td>\n",
       "      <td>NaN</td>\n",
       "      <td>PROJETO DE LEI</td>\n",
       "      <td>PROJETO DE LEI</td>\n",
       "      <td>-1</td>\n",
       "      <td>NaN</td>\n",
       "      <td>...</td>\n",
       "      <td>TipoParlamentar_10000</td>\n",
       "      <td>-1</td>\n",
       "      <td>31-01-2019</td>\n",
       "      <td>NaN</td>\n",
       "      <td>1</td>\n",
       "      <td>01-02-2015</td>\n",
       "      <td>19.0</td>\n",
       "      <td>-1</td>\n",
       "      <td>OTAVIO LEITE</td>\n",
       "      <td>NaN</td>\n",
       "    </tr>\n",
       "    <tr>\n",
       "      <th>2</th>\n",
       "      <td>-1</td>\n",
       "      <td>55</td>\n",
       "      <td>-1</td>\n",
       "      <td>PARTIDO DEMOCRÁTICO TRABALHISTA</td>\n",
       "      <td>NaN</td>\n",
       "      <td>SÃO PAULO</td>\n",
       "      <td>PROJETO DE LEI</td>\n",
       "      <td>PROJETO DE LEI</td>\n",
       "      <td>-1</td>\n",
       "      <td>SP</td>\n",
       "      <td>...</td>\n",
       "      <td>TipoParlamentar_10000</td>\n",
       "      <td>-1</td>\n",
       "      <td>31-01-2019</td>\n",
       "      <td>PDT</td>\n",
       "      <td>1</td>\n",
       "      <td>01-02-2015</td>\n",
       "      <td>581.0</td>\n",
       "      <td>-1</td>\n",
       "      <td>MAJOR OLIMPIO</td>\n",
       "      <td>NaN</td>\n",
       "    </tr>\n",
       "  </tbody>\n",
       "</table>\n",
       "<p>3 rows × 56 columns</p>\n",
       "</div>"
      ],
      "text/plain": [
       "   COD_ORGAO_ORIGEM  NUM_LEGISLATURA_APRESEN  NUM_LEGISLATURA_LEI  \\\n",
       "0                -1                       55                   -1   \n",
       "1                -1                       55                   -1   \n",
       "2                -1                       55                   -1   \n",
       "\n",
       "              NOM_PARTIDO_POLITICO DAT_VETO_TOTAL     NOM_UF  \\\n",
       "0    PARTIDO SOCIALISTA BRASILEIRO            NaN  TOCANTINS   \n",
       "1                              NaN            NaN        NaN   \n",
       "2  PARTIDO DEMOCRÁTICO TRABALHISTA            NaN  SÃO PAULO   \n",
       "\n",
       "  DES_TIPO_PROPOSICAO    DES_COMPLETA  COD_TIPO_NORMA_JURIDICA_ORIGEM SIG_UF  \\\n",
       "0      PROJETO DE LEI  PROJETO DE LEI                              -1     TO   \n",
       "1      PROJETO DE LEI  PROJETO DE LEI                              -1    NaN   \n",
       "2      PROJETO DE LEI  PROJETO DE LEI                              -1     SP   \n",
       "\n",
       "             ...              COD_TIPO_AUTOR_ORIGEM  \\\n",
       "0            ...              TipoParlamentar_10000   \n",
       "1            ...              TipoParlamentar_10000   \n",
       "2            ...              TipoParlamentar_10000   \n",
       "\n",
       "   NUM_SESSAO_LEGISLATIVA_LEI DAT_FIM_LEGISLATURA_APRESEN  \\\n",
       "0                          -1                  31-01-2019   \n",
       "1                          -1                  31-01-2019   \n",
       "2                          -1                  31-01-2019   \n",
       "\n",
       "  SIG_PARTIDO_POLITICO IND_ATIVO_TIPO_PROPOSICAO  \\\n",
       "0                  PSB                         1   \n",
       "1                  NaN                         1   \n",
       "2                  PDT                         1   \n",
       "\n",
       "  DAT_INICIO_LEGISLATURA_APRESEN NUM_PROPOSICAO  \\\n",
       "0                     01-02-2015          569.0   \n",
       "1                     01-02-2015           19.0   \n",
       "2                     01-02-2015          581.0   \n",
       "\n",
       "  COD_TIPO_SESSAO_LEGISLATIVA_LEI    NOM_PARLAMENTAR  \\\n",
       "0                              -1  VICENTINHO JÚNIOR   \n",
       "1                              -1       OTAVIO LEITE   \n",
       "2                              -1      MAJOR OLIMPIO   \n",
       "\n",
       "   DAT_FINAL_RECESSO_APRESEN  \n",
       "0                        NaN  \n",
       "1                        NaN  \n",
       "2                        NaN  \n",
       "\n",
       "[3 rows x 56 columns]"
      ]
     },
     "execution_count": 3,
     "metadata": {},
     "output_type": "execute_result"
    }
   ],
   "source": [
    "data.head(3)"
   ]
  },
  {
   "cell_type": "code",
   "execution_count": 4,
   "metadata": {},
   "outputs": [
    {
     "name": "stdout",
     "output_type": "stream",
     "text": [
      "<class 'pandas.core.frame.DataFrame'>\n",
      "RangeIndex: 6881 entries, 0 to 6880\n",
      "Data columns (total 56 columns):\n",
      "COD_ORGAO_ORIGEM                         6881 non-null int64\n",
      "NUM_LEGISLATURA_APRESEN                  6881 non-null int64\n",
      "NUM_LEGISLATURA_LEI                      6881 non-null int64\n",
      "NOM_PARTIDO_POLITICO                     6242 non-null object\n",
      "DAT_VETO_TOTAL                           2 non-null object\n",
      "NOM_UF                                   6242 non-null object\n",
      "DES_TIPO_PROPOSICAO                      6881 non-null object\n",
      "DES_COMPLETA                             6825 non-null object\n",
      "COD_TIPO_NORMA_JURIDICA_ORIGEM           6881 non-null int64\n",
      "SIG_UF                                   6242 non-null object\n",
      "DAT_FIM_LEGISLATURA_LEI                  89 non-null object\n",
      "COD_PROPOSICAO_ORIGEM                    6874 non-null float64\n",
      "DES_ATIVO_TIPO_PROPOSICAO                6881 non-null object\n",
      "NOM_ORGAO                                619 non-null object\n",
      "DES_APELIDO_ORGAO                        617 non-null object\n",
      "DATAPRESENTACAOPROPOSICAO                6881 non-null object\n",
      "DES_TIPO_AUTOR                           6881 non-null object\n",
      "COD_SEXO                                 6262 non-null object\n",
      "IND_ATIVO_ORGAO                          6881 non-null int64\n",
      "COD_TIPO_PARLAMENTAR                     6881 non-null int64\n",
      "DES_TIPO_NORMA_JURIDICA                  93 non-null object\n",
      "DES_TIPO_SESSAO_LEGISLATIVA_APRESEN      6881 non-null object\n",
      "DATTRANSFPROPOSICAOLEI                   93 non-null object\n",
      "DAT_FINAL_RECESSO_LEI                    28 non-null object\n",
      "AREAS_TEMATICAS_APRESENTACAO             6874 non-null object\n",
      "DES_TIPO_SESSAO_LEGISLATIVA_LEI          89 non-null object\n",
      "DAT_INICIAL_RECESSO_APRESEN              1769 non-null object\n",
      "ANO_PROPOSICAO                           6874 non-null float64\n",
      "TEX_REGIAO_GEOGRAFICA_AUTOR              6242 non-null object\n",
      "DAT_INICIO_LEGISLATURA_LEI               89 non-null object\n",
      "NUM_SESSAO_LEGISLATIVA_APRESEN           6869 non-null float64\n",
      "DAT_INICIAL_RECESSO_LEI                  28 non-null object\n",
      "DAT_FIM_SESSAO_LEGISLATIVA_APRESEN       6881 non-null object\n",
      "SIG_NORMA_JURIDICA                       93 non-null object\n",
      "DAT_INICIO_SESSAO_LEGISLATIVA_LEI        89 non-null object\n",
      "DES_TIPO_PARLAMENTAR                     6262 non-null object\n",
      "NOM_PROPOSICAO                           6874 non-null object\n",
      "DES_ATIVO_ORGAO                          619 non-null object\n",
      "COD_PARTIDO_POLITICO                     6881 non-null int64\n",
      "NOM_CIVIL_PARLAMENTAR                    6262 non-null object\n",
      "SIG_TIPO_PROPOSICAO                      6881 non-null object\n",
      "COD_TIPO_SESSAO_LEGISLATIVA_APRESEN      6869 non-null float64\n",
      "DAT_INICIO_SESSAO_LEGISLATIVA_APRESEN    6881 non-null object\n",
      "COD_PARLAMENTAR_ORIGEM                   6881 non-null int64\n",
      "DAT_FIM_SESSAO_LEGISLATIVA_LEI           89 non-null object\n",
      "DES_SITUACAO_PROPOSICAO                  92 non-null object\n",
      "COD_TIPO_AUTOR_ORIGEM                    6881 non-null object\n",
      "NUM_SESSAO_LEGISLATIVA_LEI               6881 non-null int64\n",
      "DAT_FIM_LEGISLATURA_APRESEN              6881 non-null object\n",
      "SIG_PARTIDO_POLITICO                     6242 non-null object\n",
      "IND_ATIVO_TIPO_PROPOSICAO                6881 non-null int64\n",
      "DAT_INICIO_LEGISLATURA_APRESEN           6881 non-null object\n",
      "NUM_PROPOSICAO                           6874 non-null float64\n",
      "COD_TIPO_SESSAO_LEGISLATIVA_LEI          6881 non-null int64\n",
      "NOM_PARLAMENTAR                          6262 non-null object\n",
      "DAT_FINAL_RECESSO_APRESEN                1769 non-null object\n",
      "dtypes: float64(5), int64(11), object(40)\n",
      "memory usage: 2.9+ MB\n"
     ]
    }
   ],
   "source": [
    "data.info()"
   ]
  },
  {
   "cell_type": "code",
   "execution_count": 5,
   "metadata": {
    "scrolled": true
   },
   "outputs": [
    {
     "data": {
      "text/plain": [
       "COD_ORGAO_ORIGEM                         False\n",
       "NUM_LEGISLATURA_APRESEN                  False\n",
       "NUM_LEGISLATURA_LEI                      False\n",
       "NOM_PARTIDO_POLITICO                      True\n",
       "DAT_VETO_TOTAL                            True\n",
       "NOM_UF                                    True\n",
       "DES_TIPO_PROPOSICAO                      False\n",
       "DES_COMPLETA                              True\n",
       "COD_TIPO_NORMA_JURIDICA_ORIGEM           False\n",
       "SIG_UF                                    True\n",
       "DAT_FIM_LEGISLATURA_LEI                   True\n",
       "COD_PROPOSICAO_ORIGEM                     True\n",
       "DES_ATIVO_TIPO_PROPOSICAO                False\n",
       "NOM_ORGAO                                 True\n",
       "DES_APELIDO_ORGAO                         True\n",
       "DATAPRESENTACAOPROPOSICAO                False\n",
       "DES_TIPO_AUTOR                           False\n",
       "COD_SEXO                                  True\n",
       "IND_ATIVO_ORGAO                          False\n",
       "COD_TIPO_PARLAMENTAR                     False\n",
       "DES_TIPO_NORMA_JURIDICA                   True\n",
       "DES_TIPO_SESSAO_LEGISLATIVA_APRESEN      False\n",
       "DATTRANSFPROPOSICAOLEI                    True\n",
       "DAT_FINAL_RECESSO_LEI                     True\n",
       "AREAS_TEMATICAS_APRESENTACAO              True\n",
       "DES_TIPO_SESSAO_LEGISLATIVA_LEI           True\n",
       "DAT_INICIAL_RECESSO_APRESEN               True\n",
       "ANO_PROPOSICAO                            True\n",
       "TEX_REGIAO_GEOGRAFICA_AUTOR               True\n",
       "DAT_INICIO_LEGISLATURA_LEI                True\n",
       "NUM_SESSAO_LEGISLATIVA_APRESEN            True\n",
       "DAT_INICIAL_RECESSO_LEI                   True\n",
       "DAT_FIM_SESSAO_LEGISLATIVA_APRESEN       False\n",
       "SIG_NORMA_JURIDICA                        True\n",
       "DAT_INICIO_SESSAO_LEGISLATIVA_LEI         True\n",
       "DES_TIPO_PARLAMENTAR                      True\n",
       "NOM_PROPOSICAO                            True\n",
       "DES_ATIVO_ORGAO                           True\n",
       "COD_PARTIDO_POLITICO                     False\n",
       "NOM_CIVIL_PARLAMENTAR                     True\n",
       "SIG_TIPO_PROPOSICAO                      False\n",
       "COD_TIPO_SESSAO_LEGISLATIVA_APRESEN       True\n",
       "DAT_INICIO_SESSAO_LEGISLATIVA_APRESEN    False\n",
       "COD_PARLAMENTAR_ORIGEM                   False\n",
       "DAT_FIM_SESSAO_LEGISLATIVA_LEI            True\n",
       "DES_SITUACAO_PROPOSICAO                   True\n",
       "COD_TIPO_AUTOR_ORIGEM                    False\n",
       "NUM_SESSAO_LEGISLATIVA_LEI               False\n",
       "DAT_FIM_LEGISLATURA_APRESEN              False\n",
       "SIG_PARTIDO_POLITICO                      True\n",
       "IND_ATIVO_TIPO_PROPOSICAO                False\n",
       "DAT_INICIO_LEGISLATURA_APRESEN           False\n",
       "NUM_PROPOSICAO                            True\n",
       "COD_TIPO_SESSAO_LEGISLATIVA_LEI          False\n",
       "NOM_PARLAMENTAR                           True\n",
       "DAT_FINAL_RECESSO_APRESEN                 True\n",
       "dtype: bool"
      ]
     },
     "execution_count": 5,
     "metadata": {},
     "output_type": "execute_result"
    }
   ],
   "source": [
    "data.isnull().any()"
   ]
  },
  {
   "cell_type": "markdown",
   "metadata": {},
   "source": [
    "#### Das 56 totais, apenas 22 colunas estão completas, as outras possuem pelo menos uma linha sem informação."
   ]
  },
  {
   "cell_type": "markdown",
   "metadata": {},
   "source": [
    "### Veremos agora as relações entre as proposições e as informações de algumas colunas."
   ]
  },
  {
   "cell_type": "markdown",
   "metadata": {},
   "source": [
    "## Proposições x Estados"
   ]
  },
  {
   "cell_type": "code",
   "execution_count": 6,
   "metadata": {
    "scrolled": false
   },
   "outputs": [
    {
     "data": {
      "text/plain": [
       "<matplotlib.axes._subplots.AxesSubplot at 0x7fc5edba4080>"
      ]
     },
     "execution_count": 6,
     "metadata": {},
     "output_type": "execute_result"
    },
    {
     "data": {
      "image/png": "[encoded data removed]",
      "text/plain": [
       "<matplotlib.figure.Figure at 0x7fc5ee48dbe0>"
      ]
     },
     "metadata": {},
     "output_type": "display_data"
    }
   ],
   "source": [
    "import matplotlib.pyplot as plt\n",
    "import seaborn as sns\n",
    "%matplotlib inline\n",
    "\n",
    "plt.rcParams['figure.figsize']=(20,10)\n",
    "sns.countplot(data['SIG_UF'], label = \"Quantidade\")"
   ]
  },
  {
   "cell_type": "markdown",
   "metadata": {},
   "source": [
    "#### Ranking dos 6 estados com mais proposições e as respectivas quantidades."
   ]
  },
  {
   "cell_type": "code",
   "execution_count": 7,
   "metadata": {
    "scrolled": false
   },
   "outputs": [
    {
     "name": "stdout",
     "output_type": "stream",
     "text": [
      "SP: 897 proposições\n",
      "RJ: 688 proposições\n",
      "Sem a informação do estado: 639 proposições\n",
      "PR: 445 proposições\n",
      "RS: 436 proposições\n",
      "MG: 415 proposições\n",
      "PB: 384 proposições\n"
     ]
    }
   ],
   "source": [
    "uf_list = data['SIG_UF'].tolist()\n",
    "uf_counter = {}\n",
    "\n",
    "for word in uf_list:\n",
    "    if word in uf_counter:\n",
    "        uf_counter[word] += 1\n",
    "    else:\n",
    "        uf_counter[word] = 1\n",
    "        \n",
    "popular_uf = sorted(uf_counter, key = uf_counter.get, reverse = True)\n",
    "top_6 = popular_uf[:7]\n",
    "\n",
    "for uf in top_6:\n",
    "    if type(uf)!= float:\n",
    "        print(uf + ': ' + str(uf_counter[uf]) + ' proposições')\n",
    "    else:\n",
    "        print('Sem a informação do estado: ' + str(uf_counter[uf]) + ' proposições')"
   ]
  },
  {
   "cell_type": "markdown",
   "metadata": {},
   "source": [
    "#### Quantidade de proposições em cada estado:"
   ]
  },
  {
   "cell_type": "code",
   "execution_count": 8,
   "metadata": {
    "scrolled": true
   },
   "outputs": [
    {
     "data": {
      "text/plain": [
       "{'TO': 151,\n",
       " nan: 639,\n",
       " 'SP': 897,\n",
       " 'RS': 436,\n",
       " 'PB': 384,\n",
       " 'MG': 415,\n",
       " 'GO': 208,\n",
       " 'RJ': 688,\n",
       " 'PR': 445,\n",
       " 'AM': 139,\n",
       " 'MA': 196,\n",
       " 'BA': 319,\n",
       " 'ES': 185,\n",
       " 'MS': 57,\n",
       " 'PE': 195,\n",
       " 'CE': 265,\n",
       " 'AP': 36,\n",
       " 'SC': 184,\n",
       " 'DF': 317,\n",
       " 'SE': 77,\n",
       " 'PI': 79,\n",
       " 'PA': 90,\n",
       " 'MT': 193,\n",
       " 'RO': 66,\n",
       " 'AC': 56,\n",
       " 'RR': 37,\n",
       " 'AL': 76,\n",
       " 'RN': 51}"
      ]
     },
     "execution_count": 8,
     "metadata": {},
     "output_type": "execute_result"
    }
   ],
   "source": [
    "uf_counter"
   ]
  },
  {
   "cell_type": "markdown",
   "metadata": {},
   "source": [
    "## Proposições x Gênero"
   ]
  },
  {
   "cell_type": "code",
   "execution_count": 9,
   "metadata": {
    "scrolled": false
   },
   "outputs": [
    {
     "data": {
      "text/plain": [
       "<matplotlib.axes._subplots.AxesSubplot at 0x7fc5ea70a9e8>"
      ]
     },
     "execution_count": 9,
     "metadata": {},
     "output_type": "execute_result"
    },
    {
     "data": {
      "image/png": "[encoded data removed]",
      "text/plain": [
       "<matplotlib.figure.Figure at 0x7fc5ea2e1518>"
      ]
     },
     "metadata": {},
     "output_type": "display_data"
    }
   ],
   "source": [
    "plt.rcParams['figure.figsize']=(20,10)\n",
    "sns.countplot(data['COD_SEXO'], label = \"Quantidade\")"
   ]
  },
  {
   "cell_type": "code",
   "execution_count": 10,
   "metadata": {},
   "outputs": [
    {
     "data": {
      "text/plain": [
       "{'M': 5712, 'F': 550, nan: 619}"
      ]
     },
     "execution_count": 10,
     "metadata": {},
     "output_type": "execute_result"
    }
   ],
   "source": [
    "gender_list = data['COD_SEXO'].tolist()\n",
    "gender_counter = {}\n",
    "\n",
    "for gender in gender_list:\n",
    "    if gender in gender_counter:\n",
    "        gender_counter[gender] += 1\n",
    "    else:\n",
    "        gender_counter[gender] = 1\n",
    "        \n",
    "gender_counter"
   ]
  },
  {
   "cell_type": "markdown",
   "metadata": {},
   "source": [
    "#### Grande maioria das proposições vieram de homens sendo que 619 não informam o gênero da pessoa que propôs."
   ]
  },
  {
   "cell_type": "markdown",
   "metadata": {},
   "source": [
    "## Proposições x Temas"
   ]
  },
  {
   "cell_type": "markdown",
   "metadata": {},
   "source": [
    "#### Ranking dos 6 temas mais frequentes:"
   ]
  },
  {
   "cell_type": "code",
   "execution_count": 11,
   "metadata": {
    "scrolled": false
   },
   "outputs": [
    {
     "name": "stdout",
     "output_type": "stream",
     "text": [
      "DIREITO PENAL E PROCESSUAL PENAL: 441 proposições\n",
      "ADMINISTRAÇÃO PÚBLICA: 415 proposições\n",
      "TRIBUTAÇÃO: 336 proposições\n",
      "DESENVOLVIMENTO URBANO E TRÂNSITO: 310 proposições\n",
      "TRABALHO E EMPREGO: 289 proposições\n",
      "SAÚDE: 287 proposições\n",
      "EDUCAÇÃO: 278 proposições\n"
     ]
    }
   ],
   "source": [
    "theme_list = data['AREAS_TEMATICAS_APRESENTACAO'].tolist()\n",
    "theme_counter = {}\n",
    "\n",
    "for theme in theme_list:\n",
    "    if theme in theme_counter:\n",
    "        theme_counter[theme] += 1\n",
    "    else:\n",
    "        theme_counter[theme] = 1\n",
    "        \n",
    "popular_themes = sorted(theme_counter, key = theme_counter.get, reverse = True)\n",
    "top_6 = popular_themes[:7]\n",
    "\n",
    "for theme in top_6:\n",
    "    print(theme + ': ' + str(theme_counter[theme]) + ' proposições')"
   ]
  },
  {
   "cell_type": "markdown",
   "metadata": {},
   "source": [
    "#### Lista com todos os temas e a quantidade de proposições relacionadas a eles entre 2014 e 2016 se encontra em *temas14_16.txt* dentro do diretório *temas* neste mesmo repositório."
   ]
  },
  {
   "cell_type": "markdown",
   "metadata": {},
   "source": [
    "## Proposições x Tipo do Autor"
   ]
  },
  {
   "cell_type": "markdown",
   "metadata": {},
   "source": [
    "#### Ranking dos tipos de autores do mais frequente ao menos frequente:"
   ]
  },
  {
   "cell_type": "code",
   "execution_count": 58,
   "metadata": {
    "scrolled": false
   },
   "outputs": [
    {
     "name": "stdout",
     "output_type": "stream",
     "text": [
      "DEPUTADO: 6262 proposições\n",
      "ÓRGÃO DO PODER LEGISLATIVO: 214 proposições\n",
      "COMISSÃO PERMANENTE: 189 proposições\n",
      "ÓRGÃO DO PODER EXECUTIVO: 106 proposições\n",
      "COMISSÃO PARLAMENTAR DE INQUÉRITO: 33 proposições\n",
      "ÓRGÃO DO PODER JUDICIÁRIO: 31 proposições\n",
      "COMISSÃO DIRETORA: 16 proposições\n",
      "COMISSÃO MISTA PERMANENTE: 12 proposições\n",
      "COMISSÃO ESPECIAL: 10 proposições\n",
      "COMISSÃO EXTERNA: 4 proposições\n",
      "SOCIEDADE CIVIL: 2 proposições\n",
      "MPU - MINISTÉRIO PÚBLICO DA UNIÃO: 1 proposição\n",
      "DPU - DEFENSORIA PÚBLICA DA UNIÃO: 1 proposição\n"
     ]
    }
   ],
   "source": [
    "author_type_list = data['DES_TIPO_AUTOR'].tolist()\n",
    "author_type_counter = {}\n",
    "\n",
    "for author_type in author_type_list:\n",
    "    if author_type in author_type_counter:\n",
    "        author_type_counter[author_type] += 1\n",
    "    else:\n",
    "        author_type_counter[author_type] = 1\n",
    "        \n",
    "popular_author_type = sorted(author_type_counter, key = author_type_counter.get, reverse = True)\n",
    "\n",
    "for author_type in popular_author_type:\n",
    "    if author_type_counter[author_type] != 1:\n",
    "        print(author_type + ': ' + str(author_type_counter[author_type]) + ' proposições')\n",
    "    else:\n",
    "        print(author_type + ': ' + str(author_type_counter[author_type]) + ' proposição')"
   ]
  },
  {
   "cell_type": "markdown",
   "metadata": {},
   "source": [
    "#### A grande maioria das proposições partem dos deputados."
   ]
  },
  {
   "cell_type": "markdown",
   "metadata": {},
   "source": [
    "## Proposições x Ano"
   ]
  },
  {
   "cell_type": "code",
   "execution_count": 23,
   "metadata": {
    "scrolled": false
   },
   "outputs": [
    {
     "data": {
      "text/plain": [
       "<matplotlib.axes._subplots.AxesSubplot at 0x7f62147b2128>"
      ]
     },
     "execution_count": 23,
     "metadata": {},
     "output_type": "execute_result"
    },
    {
     "data": {
      "image/png": "[encoded data removed]",
      "text/plain": [
       "<matplotlib.figure.Figure at 0x7f61e027e240>"
      ]
     },
     "metadata": {},
     "output_type": "display_data"
    }
   ],
   "source": [
    "plt.rcParams['figure.figsize']=(20,10)\n",
    "sns.countplot(data['ANO_PROPOSICAO'], label = \"Quantidade\")"
   ]
  },
  {
   "cell_type": "markdown",
   "metadata": {},
   "source": [
    "#### Ranking:"
   ]
  },
  {
   "cell_type": "code",
   "execution_count": 90,
   "metadata": {},
   "outputs": [
    {
     "name": "stdout",
     "output_type": "stream",
     "text": [
      "2015.0: 5107 proposições\n",
      "2016.0: 1764 proposições\n",
      "2014.0: 3 proposições\n"
     ]
    }
   ],
   "source": [
    "year_list = data['ANO_PROPOSICAO'].tolist()\n",
    "year_counter = {}\n",
    "\n",
    "for year in year_list:\n",
    "    if year in year_counter:\n",
    "        year_counter[year] += 1\n",
    "    else:\n",
    "        year_counter[year] = 1\n",
    "        \n",
    "popular_year = sorted(year_counter, key = year_counter.get, reverse = True)\n",
    "\n",
    "for year in popular_year:\n",
    "    if year_counter[year] != 1:\n",
    "        print(str(year) + ': ' + str(year_counter[year]) + ' proposições')"
   ]
  },
  {
   "cell_type": "markdown",
   "metadata": {},
   "source": [
    "## Proposições x Região"
   ]
  },
  {
   "cell_type": "code",
   "execution_count": 24,
   "metadata": {
    "scrolled": false
   },
   "outputs": [
    {
     "data": {
      "text/plain": [
       "<matplotlib.axes._subplots.AxesSubplot at 0x7f61e0126240>"
      ]
     },
     "execution_count": 24,
     "metadata": {},
     "output_type": "execute_result"
    },
    {
     "data": {
      "image/png": "[encoded data removed]",
      "text/plain": [
       "<matplotlib.figure.Figure at 0x7f61e00ba7b8>"
      ]
     },
     "metadata": {},
     "output_type": "display_data"
    }
   ],
   "source": [
    "plt.rcParams['figure.figsize']=(20,10)\n",
    "sns.countplot(data['TEX_REGIAO_GEOGRAFICA_AUTOR'], label = \"Quantidade\")"
   ]
  },
  {
   "cell_type": "markdown",
   "metadata": {},
   "source": [
    "#### Ranking:"
   ]
  },
  {
   "cell_type": "code",
   "execution_count": 91,
   "metadata": {
    "scrolled": true
   },
   "outputs": [
    {
     "name": "stdout",
     "output_type": "stream",
     "text": [
      "SUDESTE: 2185 proposições\n",
      "NORDESTE: 1642 proposições\n",
      "SUL: 1065 proposições\n",
      "CENTRO-OESTE: 775 proposições\n",
      "Sem informação de região: 639 proposições\n",
      "NORTE: 575 proposições\n"
     ]
    }
   ],
   "source": [
    "region_list = data['TEX_REGIAO_GEOGRAFICA_AUTOR'].tolist()\n",
    "region_counter = {}\n",
    "\n",
    "for region in region_list:\n",
    "    if region in region_counter:\n",
    "        region_counter[region] += 1\n",
    "    else:\n",
    "        region_counter[region] = 1\n",
    "        \n",
    "popular_region = sorted(region_counter, key = region_counter.get, reverse = True)\n",
    "\n",
    "for region in popular_region:\n",
    "    if type(region) != float:\n",
    "        print(region + ': ' + str(region_counter[region]) + ' proposições')\n",
    "    else:\n",
    "        print('Sem informação de região: ' + str(region_counter[region]) + ' proposições')"
   ]
  },
  {
   "cell_type": "markdown",
   "metadata": {},
   "source": [
    "## Proposições x Tipos"
   ]
  },
  {
   "cell_type": "code",
   "execution_count": 26,
   "metadata": {
    "scrolled": false
   },
   "outputs": [
    {
     "data": {
      "text/plain": [
       "<matplotlib.axes._subplots.AxesSubplot at 0x7f61e00bacc0>"
      ]
     },
     "execution_count": 26,
     "metadata": {},
     "output_type": "execute_result"
    },
    {
     "data": {
      "image/png": "[encoded data removed]",
      "text/plain": [
       "<matplotlib.figure.Figure at 0x7f61e00b29e8>"
      ]
     },
     "metadata": {},
     "output_type": "display_data"
    }
   ],
   "source": [
    "plt.rcParams['figure.figsize']=(20,10)\n",
    "sns.countplot(data['SIG_TIPO_PROPOSICAO'], label = \"Quantidade\")"
   ]
  },
  {
   "cell_type": "markdown",
   "metadata": {},
   "source": [
    "#### Ranking:"
   ]
  },
  {
   "cell_type": "code",
   "execution_count": 70,
   "metadata": {},
   "outputs": [
    {
     "name": "stdout",
     "output_type": "stream",
     "text": [
      "PL: 5692 proposições\n",
      "PDC: 421 proposições\n",
      "PLP: 297 proposições\n",
      "PEC: 250 proposições\n",
      "PRC: 157 proposições\n",
      "MPV: 64 proposições\n"
     ]
    }
   ],
   "source": [
    "proposition_list = data['SIG_TIPO_PROPOSICAO'].tolist()\n",
    "proposition_counter = {}\n",
    "\n",
    "for proposition in proposition_list:\n",
    "    if proposition in proposition_counter:\n",
    "        proposition_counter[proposition] += 1\n",
    "    else:\n",
    "        proposition_counter[proposition] = 1\n",
    "        \n",
    "popular_proposition = sorted(proposition_counter, key = proposition_counter.get, reverse = True)\n",
    "\n",
    "for proposition in popular_proposition:\n",
    "    print(proposition + ': ' + str(proposition_counter[proposition]) + ' proposições')"
   ]
  },
  {
   "cell_type": "markdown",
   "metadata": {},
   "source": [
    "#### Legenda: \n",
    "\n",
    "* PL = Projetos de Lei \n",
    "* PDC = Projetos de Decreto Legislativo da Câmara\n",
    "* PLP = Projetos de Lei Complementar\n",
    "* PEC = Projetos de Emenda à Constituição\n",
    "* MPV = Medidas Provisórias\n",
    "* PRC = Projeto de Resolução da Câmara"
   ]
  },
  {
   "cell_type": "markdown",
   "metadata": {},
   "source": [
    "## Proposições x Partidos Políticos"
   ]
  },
  {
   "cell_type": "code",
   "execution_count": 29,
   "metadata": {
    "scrolled": true
   },
   "outputs": [
    {
     "data": {
      "text/plain": [
       "<matplotlib.axes._subplots.AxesSubplot at 0x7f61e0139128>"
      ]
     },
     "execution_count": 29,
     "metadata": {},
     "output_type": "execute_result"
    },
    {
     "data": {
      "image/png": "[encoded data removed]",
      "text/plain": [
       "<matplotlib.figure.Figure at 0x7f61e014eac8>"
      ]
     },
     "metadata": {},
     "output_type": "display_data"
    }
   ],
   "source": [
    "plt.rcParams['figure.figsize']=(20,10)\n",
    "sns.countplot(data['SIG_PARTIDO_POLITICO'], label = \"Quantidade\")"
   ]
  },
  {
   "cell_type": "markdown",
   "metadata": {},
   "source": [
    "#### Ranking dos 6 partidos com mais proposições e as respectivas quantidades:"
   ]
  },
  {
   "cell_type": "code",
   "execution_count": 92,
   "metadata": {
    "scrolled": true
   },
   "outputs": [
    {
     "name": "stdout",
     "output_type": "stream",
     "text": [
      "PMDB: 910 proposições\n",
      "Sem informação de partido: 639 proposições\n",
      "PSD: 630 proposições\n",
      "PP: 548 proposições\n",
      "PSDB: 520 proposições\n",
      "PR: 416 proposições\n",
      "PT: 361 proposições\n"
     ]
    }
   ],
   "source": [
    "pp_list = data['SIG_PARTIDO_POLITICO'].tolist()\n",
    "pp_counter = {}\n",
    "\n",
    "for pp in pp_list:\n",
    "    if pp in pp_counter:\n",
    "        pp_counter[pp] += 1\n",
    "    else:\n",
    "        pp_counter[pp] = 1\n",
    "        \n",
    "popular_pp = sorted(pp_counter, key = pp_counter.get, reverse = True)\n",
    "top_7 = popular_pp[:7]\n",
    "\n",
    "for pp in top_7:\n",
    "    if type(pp) != float:\n",
    "        print(pp + ': ' + str(pp_counter[pp]) + ' proposições')\n",
    "    else:\n",
    "        print('Sem informação de partido: ' + str(pp_counter[pp]) + ' proposições')"
   ]
  },
  {
   "cell_type": "markdown",
   "metadata": {},
   "source": [
    "#### Lista de todos os partidos e suas respectivas quantidades:"
   ]
  },
  {
   "cell_type": "code",
   "execution_count": 78,
   "metadata": {},
   "outputs": [
    {
     "name": "stdout",
     "output_type": "stream",
     "text": [
      "{'PSB': 319, nan: 639, 'PDT': 343, 'PSDB': 520, 'PSD': 630, 'PR': 416, 'PCDOB': 169, 'PT': 361, 'SD': 269, 'PMDB': 910, 'PPS': 153, 'DEM': 301, 'PSC': 151, 'PP': 548, 'PRB': 321, 'PV': 126, 'PTB': 162, 'PHS': 90, 'PROS': 87, 'PTN': 74, 'PRP': 20, 'S.PART.': 23, 'PTDOB': 28, 'PMN': 13, 'PTC': 28, 'PSDC': 10, 'PSL': 28, 'PSOL': 43, 'PMB': 36, 'PEN': 7, 'REDE': 52, 'PRTB': 4}\n"
     ]
    }
   ],
   "source": [
    "print(pp_counter)"
   ]
  },
  {
   "cell_type": "markdown",
   "metadata": {},
   "source": [
    "## Proposições x Nome do Parlamentar"
   ]
  },
  {
   "cell_type": "markdown",
   "metadata": {},
   "source": [
    "#### Ranking dos 10 deputados com mais proposições:"
   ]
  },
  {
   "cell_type": "code",
   "execution_count": 81,
   "metadata": {
    "scrolled": true
   },
   "outputs": [
    {
     "name": "stdout",
     "output_type": "stream",
     "text": [
      "Sem informação do nome do deputado: 619 proposições\n",
      "RÔMULO GOUVEIA: 182 proposições\n",
      "MARCELO BELINATI: 172 proposições\n",
      "ALBERTO FRAGA: 145 proposições\n",
      "VENEZIANO VITAL DO RÊGO: 115 proposições\n",
      "CARLOS BEZERRA: 115 proposições\n",
      "POMPEO DE MATTOS: 114 proposições\n",
      "GOULART: 95 proposições\n",
      "CARLOS HENRIQUE GAGUIM: 81 proposições\n",
      "CABO SABINO: 71 proposições\n",
      "CARLOS MANATO: 57 proposições\n"
     ]
    }
   ],
   "source": [
    "name_list = data['NOM_PARLAMENTAR'].tolist()\n",
    "name_counter = {}\n",
    "\n",
    "for name in name_list:\n",
    "    if name in name_counter:\n",
    "        name_counter[name] += 1\n",
    "    else:\n",
    "        name_counter[name] = 1\n",
    "        \n",
    "popular_name = sorted(name_counter, key = name_counter.get, reverse = True)\n",
    "top_10 = popular_name[:11]\n",
    "\n",
    "for name in top_10:\n",
    "    if type(name) != float:\n",
    "        print(name + ': ' + str(name_counter[name]) + ' proposições')\n",
    "    else:\n",
    "        print('Sem informação do nome do deputado: ' + str(name_counter[name]) + ' proposições')"
   ]
  },
  {
   "cell_type": "markdown",
   "metadata": {},
   "source": [
    "#### Média de proposições por deputado:"
   ]
  },
  {
   "cell_type": "code",
   "execution_count": 82,
   "metadata": {
    "scrolled": true
   },
   "outputs": [
    {
     "name": "stdout",
     "output_type": "stream",
     "text": [
      "Média de proposições por deputado: 12.33\n"
     ]
    }
   ],
   "source": [
    "counter = 0\n",
    "for name in name_counter:\n",
    "    counter = counter + name_counter[name]\n",
    "    \n",
    "print(\"Média de proposições por deputado: %.2f\" % ((counter-619)/(len(name_counter)-1)))  # 619 proposições sem nome do deputado (nan)"
   ]
  },
  {
   "cell_type": "markdown",
   "metadata": {},
   "source": [
    "#### Lista com todos os deputados e a quantidade de proposições feitas por cada um durante todos os anos de mandato se encontra no arquivo *deputados&qnt_proposicoes_2014_2016.txt* dentro do diretório *deputados&qnt_proposicoes* neste mesmo repositório."
   ]
  }
 ],
 "metadata": {
  "kernelspec": {
   "display_name": "Python 3",
   "language": "python",
   "name": "python3"
  },
  "language_info": {
   "codemirror_mode": {
    "name": "ipython",
    "version": 3
   },
   "file_extension": ".py",
   "mimetype": "text/x-python",
   "name": "python",
   "nbconvert_exporter": "python",
   "pygments_lexer": "ipython3",
   "version": "3.6.1"
  }
 },
 "nbformat": 4,
 "nbformat_minor": 2
}
