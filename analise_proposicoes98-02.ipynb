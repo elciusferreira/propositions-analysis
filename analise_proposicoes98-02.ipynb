{
 "cells": [
  {
   "cell_type": "markdown",
   "metadata": {},
   "source": [
    "# Analisando as proposições de 1998 - 2002"
   ]
  },
  {
   "cell_type": "markdown",
   "metadata": {},
   "source": [
    "### Os dados utilizados se encontram no portal de dados abertos da Câmara dos Deputados como sendo referentes aos anos de 1998 até 2002.\n",
    "\n",
    "#### Link do portal: https://dadosabertos.camara.leg.br/swagger/api.html\n",
    "\n",
    "#### Foi feito o download do arquivo no formato json disponibilizado no site, o mesmo foi processado por um script feito em python responsável por realizar o parsing e gerar um outro arquivo no formato csv."
   ]
  },
  {
   "cell_type": "markdown",
   "metadata": {},
   "source": [
    "#### Carregamento dos dados:"
   ]
  },
  {
   "cell_type": "code",
   "execution_count": 29,
   "metadata": {
    "collapsed": true,
    "scrolled": true
   },
   "outputs": [],
   "source": [
    "import pandas as pd\n",
    "\n",
    "data = pd.read_csv('proposicoes/proposicoes_1998_2002.csv', encoding = 'utf8', header = 0)"
   ]
  },
  {
   "cell_type": "markdown",
   "metadata": {},
   "source": [
    "## Visão Geral"
   ]
  },
  {
   "cell_type": "code",
   "execution_count": 30,
   "metadata": {},
   "outputs": [
    {
     "data": {
      "text/plain": [
       "(3473, 56)"
      ]
     },
     "execution_count": 30,
     "metadata": {},
     "output_type": "execute_result"
    }
   ],
   "source": [
    "data.shape"
   ]
  },
  {
   "cell_type": "markdown",
   "metadata": {},
   "source": [
    "#### O arquivo contém, portanto, 3473 linhas com proposições e 56 colunas para cada uma. Três primeiras linhas:"
   ]
  },
  {
   "cell_type": "code",
   "execution_count": 7,
   "metadata": {},
   "outputs": [
    {
     "data": {
      "text/html": [
       "<div>\n",
       "<style>\n",
       "    .dataframe thead tr:only-child th {\n",
       "        text-align: right;\n",
       "    }\n",
       "\n",
       "    .dataframe thead th {\n",
       "        text-align: left;\n",
       "    }\n",
       "\n",
       "    .dataframe tbody tr th {\n",
       "        vertical-align: top;\n",
       "    }\n",
       "</style>\n",
       "<table border=\"1\" class=\"dataframe\">\n",
       "  <thead>\n",
       "    <tr style=\"text-align: right;\">\n",
       "      <th></th>\n",
       "      <th>COD_ORGAO_ORIGEM</th>\n",
       "      <th>NUM_LEGISLATURA_APRESEN</th>\n",
       "      <th>NUM_LEGISLATURA_LEI</th>\n",
       "      <th>NOM_PARTIDO_POLITICO</th>\n",
       "      <th>DAT_VETO_TOTAL</th>\n",
       "      <th>NOM_UF</th>\n",
       "      <th>DES_TIPO_PROPOSICAO</th>\n",
       "      <th>DES_COMPLETA</th>\n",
       "      <th>COD_TIPO_NORMA_JURIDICA_ORIGEM</th>\n",
       "      <th>SIG_UF</th>\n",
       "      <th>...</th>\n",
       "      <th>COD_TIPO_AUTOR_ORIGEM</th>\n",
       "      <th>NUM_SESSAO_LEGISLATIVA_LEI</th>\n",
       "      <th>DAT_FIM_LEGISLATURA_APRESEN</th>\n",
       "      <th>SIG_PARTIDO_POLITICO</th>\n",
       "      <th>IND_ATIVO_TIPO_PROPOSICAO</th>\n",
       "      <th>DAT_INICIO_LEGISLATURA_APRESEN</th>\n",
       "      <th>NUM_PROPOSICAO</th>\n",
       "      <th>COD_TIPO_SESSAO_LEGISLATIVA_LEI</th>\n",
       "      <th>NOM_PARLAMENTAR</th>\n",
       "      <th>DAT_FINAL_RECESSO_APRESEN</th>\n",
       "    </tr>\n",
       "  </thead>\n",
       "  <tbody>\n",
       "    <tr>\n",
       "      <th>0</th>\n",
       "      <td>-1</td>\n",
       "      <td>51</td>\n",
       "      <td>-1</td>\n",
       "      <td>PARTIDO DA FRENTE LIBERAL</td>\n",
       "      <td>NaN</td>\n",
       "      <td>SÃO PAULO</td>\n",
       "      <td>PROJETO DE LEI</td>\n",
       "      <td>PROJETO DE LEI</td>\n",
       "      <td>-1</td>\n",
       "      <td>SP</td>\n",
       "      <td>...</td>\n",
       "      <td>TipoParlamentar_10000</td>\n",
       "      <td>-1.0</td>\n",
       "      <td>31-01-2003</td>\n",
       "      <td>PFL</td>\n",
       "      <td>1</td>\n",
       "      <td>01-02-1999</td>\n",
       "      <td>7254.0</td>\n",
       "      <td>-1.0</td>\n",
       "      <td>NEUTON LIMA</td>\n",
       "      <td>01-08-2002</td>\n",
       "    </tr>\n",
       "    <tr>\n",
       "      <th>1</th>\n",
       "      <td>-1</td>\n",
       "      <td>51</td>\n",
       "      <td>-1</td>\n",
       "      <td>PARTIDO TRABALHISTA BRASILEIRO</td>\n",
       "      <td>NaN</td>\n",
       "      <td>SÃO PAULO</td>\n",
       "      <td>PROJETO DE LEI</td>\n",
       "      <td>PROJETO DE LEI</td>\n",
       "      <td>-1</td>\n",
       "      <td>SP</td>\n",
       "      <td>...</td>\n",
       "      <td>TipoParlamentar_10000</td>\n",
       "      <td>-1.0</td>\n",
       "      <td>31-01-2003</td>\n",
       "      <td>PTB</td>\n",
       "      <td>1</td>\n",
       "      <td>01-02-1999</td>\n",
       "      <td>7255.0</td>\n",
       "      <td>-1.0</td>\n",
       "      <td>RICARDO IZAR</td>\n",
       "      <td>01-08-2002</td>\n",
       "    </tr>\n",
       "    <tr>\n",
       "      <th>2</th>\n",
       "      <td>-1</td>\n",
       "      <td>51</td>\n",
       "      <td>-1</td>\n",
       "      <td>PARTIDO PROGRESSISTA BRASILEIRO</td>\n",
       "      <td>NaN</td>\n",
       "      <td>MATO GROSSO DO SUL</td>\n",
       "      <td>PROJETO DE LEI</td>\n",
       "      <td>PROJETO DE LEI</td>\n",
       "      <td>-1</td>\n",
       "      <td>MS</td>\n",
       "      <td>...</td>\n",
       "      <td>TipoParlamentar_10000</td>\n",
       "      <td>-1.0</td>\n",
       "      <td>31-01-2003</td>\n",
       "      <td>PPB</td>\n",
       "      <td>1</td>\n",
       "      <td>01-02-1999</td>\n",
       "      <td>7413.0</td>\n",
       "      <td>-1.0</td>\n",
       "      <td>PEDRO PEDROSSIAN</td>\n",
       "      <td>01-08-2002</td>\n",
       "    </tr>\n",
       "  </tbody>\n",
       "</table>\n",
       "<p>3 rows × 56 columns</p>\n",
       "</div>"
      ],
      "text/plain": [
       "   COD_ORGAO_ORIGEM  NUM_LEGISLATURA_APRESEN  NUM_LEGISLATURA_LEI  \\\n",
       "0                -1                       51                   -1   \n",
       "1                -1                       51                   -1   \n",
       "2                -1                       51                   -1   \n",
       "\n",
       "              NOM_PARTIDO_POLITICO DAT_VETO_TOTAL              NOM_UF  \\\n",
       "0        PARTIDO DA FRENTE LIBERAL            NaN           SÃO PAULO   \n",
       "1   PARTIDO TRABALHISTA BRASILEIRO            NaN           SÃO PAULO   \n",
       "2  PARTIDO PROGRESSISTA BRASILEIRO            NaN  MATO GROSSO DO SUL   \n",
       "\n",
       "  DES_TIPO_PROPOSICAO    DES_COMPLETA  COD_TIPO_NORMA_JURIDICA_ORIGEM SIG_UF  \\\n",
       "0      PROJETO DE LEI  PROJETO DE LEI                              -1     SP   \n",
       "1      PROJETO DE LEI  PROJETO DE LEI                              -1     SP   \n",
       "2      PROJETO DE LEI  PROJETO DE LEI                              -1     MS   \n",
       "\n",
       "             ...              COD_TIPO_AUTOR_ORIGEM  \\\n",
       "0            ...              TipoParlamentar_10000   \n",
       "1            ...              TipoParlamentar_10000   \n",
       "2            ...              TipoParlamentar_10000   \n",
       "\n",
       "   NUM_SESSAO_LEGISLATIVA_LEI DAT_FIM_LEGISLATURA_APRESEN  \\\n",
       "0                        -1.0                  31-01-2003   \n",
       "1                        -1.0                  31-01-2003   \n",
       "2                        -1.0                  31-01-2003   \n",
       "\n",
       "  SIG_PARTIDO_POLITICO IND_ATIVO_TIPO_PROPOSICAO  \\\n",
       "0                  PFL                         1   \n",
       "1                  PTB                         1   \n",
       "2                  PPB                         1   \n",
       "\n",
       "  DAT_INICIO_LEGISLATURA_APRESEN NUM_PROPOSICAO  \\\n",
       "0                     01-02-1999         7254.0   \n",
       "1                     01-02-1999         7255.0   \n",
       "2                     01-02-1999         7413.0   \n",
       "\n",
       "  COD_TIPO_SESSAO_LEGISLATIVA_LEI   NOM_PARLAMENTAR  DAT_FINAL_RECESSO_APRESEN  \n",
       "0                            -1.0       NEUTON LIMA                 01-08-2002  \n",
       "1                            -1.0      RICARDO IZAR                 01-08-2002  \n",
       "2                            -1.0  PEDRO PEDROSSIAN                 01-08-2002  \n",
       "\n",
       "[3 rows x 56 columns]"
      ]
     },
     "execution_count": 7,
     "metadata": {},
     "output_type": "execute_result"
    }
   ],
   "source": [
    "data.head(3)"
   ]
  },
  {
   "cell_type": "code",
   "execution_count": 8,
   "metadata": {},
   "outputs": [
    {
     "name": "stdout",
     "output_type": "stream",
     "text": [
      "<class 'pandas.core.frame.DataFrame'>\n",
      "RangeIndex: 3473 entries, 0 to 3472\n",
      "Data columns (total 56 columns):\n",
      "COD_ORGAO_ORIGEM                         3473 non-null int64\n",
      "NUM_LEGISLATURA_APRESEN                  3473 non-null int64\n",
      "NUM_LEGISLATURA_LEI                      3473 non-null int64\n",
      "NOM_PARTIDO_POLITICO                     1479 non-null object\n",
      "DAT_VETO_TOTAL                           6 non-null object\n",
      "NOM_UF                                   1488 non-null object\n",
      "DES_TIPO_PROPOSICAO                      3473 non-null object\n",
      "DES_COMPLETA                             3472 non-null object\n",
      "COD_TIPO_NORMA_JURIDICA_ORIGEM           3473 non-null int64\n",
      "SIG_UF                                   1488 non-null object\n",
      "DAT_FIM_LEGISLATURA_LEI                  1790 non-null object\n",
      "COD_PROPOSICAO_ORIGEM                    3471 non-null float64\n",
      "DES_ATIVO_TIPO_PROPOSICAO                3473 non-null object\n",
      "NOM_ORGAO                                1985 non-null object\n",
      "DES_APELIDO_ORGAO                        1985 non-null object\n",
      "DATAPRESENTACAOPROPOSICAO                3473 non-null object\n",
      "DES_TIPO_AUTOR                           3473 non-null object\n",
      "COD_SEXO                                 1488 non-null object\n",
      "IND_ATIVO_ORGAO                          3473 non-null int64\n",
      "COD_TIPO_PARLAMENTAR                     3473 non-null int64\n",
      "DES_TIPO_NORMA_JURIDICA                  1790 non-null object\n",
      "DES_TIPO_SESSAO_LEGISLATIVA_APRESEN      3473 non-null object\n",
      "DATTRANSFPROPOSICAOLEI                   1790 non-null object\n",
      "DAT_FINAL_RECESSO_LEI                    1430 non-null object\n",
      "AREAS_TEMATICAS_APRESENTACAO             3471 non-null object\n",
      "DES_TIPO_SESSAO_LEGISLATIVA_LEI          1790 non-null object\n",
      "DAT_INICIAL_RECESSO_APRESEN              2758 non-null object\n",
      "ANO_PROPOSICAO                           3471 non-null float64\n",
      "TEX_REGIAO_GEOGRAFICA_AUTOR              1488 non-null object\n",
      "DAT_INICIO_LEGISLATURA_LEI               1790 non-null object\n",
      "NUM_SESSAO_LEGISLATIVA_APRESEN           2971 non-null float64\n",
      "DAT_INICIAL_RECESSO_LEI                  1430 non-null object\n",
      "DAT_FIM_SESSAO_LEGISLATIVA_APRESEN       3473 non-null object\n",
      "SIG_NORMA_JURIDICA                       1790 non-null object\n",
      "DAT_INICIO_SESSAO_LEGISLATIVA_LEI        1790 non-null object\n",
      "DES_TIPO_PARLAMENTAR                     1488 non-null object\n",
      "NOM_PROPOSICAO                           3471 non-null object\n",
      "DES_ATIVO_ORGAO                          1985 non-null object\n",
      "COD_PARTIDO_POLITICO                     3473 non-null int64\n",
      "NOM_CIVIL_PARLAMENTAR                    1488 non-null object\n",
      "SIG_TIPO_PROPOSICAO                      3473 non-null object\n",
      "COD_TIPO_SESSAO_LEGISLATIVA_APRESEN      2971 non-null float64\n",
      "DAT_INICIO_SESSAO_LEGISLATIVA_APRESEN    3473 non-null object\n",
      "COD_PARLAMENTAR_ORIGEM                   3473 non-null int64\n",
      "DAT_FIM_SESSAO_LEGISLATIVA_LEI           1790 non-null object\n",
      "DES_SITUACAO_PROPOSICAO                  1796 non-null object\n",
      "COD_TIPO_AUTOR_ORIGEM                    3473 non-null object\n",
      "NUM_SESSAO_LEGISLATIVA_LEI               3442 non-null float64\n",
      "DAT_FIM_LEGISLATURA_APRESEN              3473 non-null object\n",
      "SIG_PARTIDO_POLITICO                     1479 non-null object\n",
      "IND_ATIVO_TIPO_PROPOSICAO                3473 non-null int64\n",
      "DAT_INICIO_LEGISLATURA_APRESEN           3473 non-null object\n",
      "NUM_PROPOSICAO                           3471 non-null float64\n",
      "COD_TIPO_SESSAO_LEGISLATIVA_LEI          3442 non-null float64\n",
      "NOM_PARLAMENTAR                          1488 non-null object\n",
      "DAT_FINAL_RECESSO_APRESEN                2758 non-null object\n",
      "dtypes: float64(7), int64(9), object(40)\n",
      "memory usage: 1.5+ MB\n"
     ]
    }
   ],
   "source": [
    "data.info()"
   ]
  },
  {
   "cell_type": "code",
   "execution_count": 9,
   "metadata": {
    "scrolled": true
   },
   "outputs": [
    {
     "data": {
      "text/plain": [
       "COD_ORGAO_ORIGEM                         False\n",
       "NUM_LEGISLATURA_APRESEN                  False\n",
       "NUM_LEGISLATURA_LEI                      False\n",
       "NOM_PARTIDO_POLITICO                      True\n",
       "DAT_VETO_TOTAL                            True\n",
       "NOM_UF                                    True\n",
       "DES_TIPO_PROPOSICAO                      False\n",
       "DES_COMPLETA                              True\n",
       "COD_TIPO_NORMA_JURIDICA_ORIGEM           False\n",
       "SIG_UF                                    True\n",
       "DAT_FIM_LEGISLATURA_LEI                   True\n",
       "COD_PROPOSICAO_ORIGEM                     True\n",
       "DES_ATIVO_TIPO_PROPOSICAO                False\n",
       "NOM_ORGAO                                 True\n",
       "DES_APELIDO_ORGAO                         True\n",
       "DATAPRESENTACAOPROPOSICAO                False\n",
       "DES_TIPO_AUTOR                           False\n",
       "COD_SEXO                                  True\n",
       "IND_ATIVO_ORGAO                          False\n",
       "COD_TIPO_PARLAMENTAR                     False\n",
       "DES_TIPO_NORMA_JURIDICA                   True\n",
       "DES_TIPO_SESSAO_LEGISLATIVA_APRESEN      False\n",
       "DATTRANSFPROPOSICAOLEI                    True\n",
       "DAT_FINAL_RECESSO_LEI                     True\n",
       "AREAS_TEMATICAS_APRESENTACAO              True\n",
       "DES_TIPO_SESSAO_LEGISLATIVA_LEI           True\n",
       "DAT_INICIAL_RECESSO_APRESEN               True\n",
       "ANO_PROPOSICAO                            True\n",
       "TEX_REGIAO_GEOGRAFICA_AUTOR               True\n",
       "DAT_INICIO_LEGISLATURA_LEI                True\n",
       "NUM_SESSAO_LEGISLATIVA_APRESEN            True\n",
       "DAT_INICIAL_RECESSO_LEI                   True\n",
       "DAT_FIM_SESSAO_LEGISLATIVA_APRESEN       False\n",
       "SIG_NORMA_JURIDICA                        True\n",
       "DAT_INICIO_SESSAO_LEGISLATIVA_LEI         True\n",
       "DES_TIPO_PARLAMENTAR                      True\n",
       "NOM_PROPOSICAO                            True\n",
       "DES_ATIVO_ORGAO                           True\n",
       "COD_PARTIDO_POLITICO                     False\n",
       "NOM_CIVIL_PARLAMENTAR                     True\n",
       "SIG_TIPO_PROPOSICAO                      False\n",
       "COD_TIPO_SESSAO_LEGISLATIVA_APRESEN       True\n",
       "DAT_INICIO_SESSAO_LEGISLATIVA_APRESEN    False\n",
       "COD_PARLAMENTAR_ORIGEM                   False\n",
       "DAT_FIM_SESSAO_LEGISLATIVA_LEI            True\n",
       "DES_SITUACAO_PROPOSICAO                   True\n",
       "COD_TIPO_AUTOR_ORIGEM                    False\n",
       "NUM_SESSAO_LEGISLATIVA_LEI                True\n",
       "DAT_FIM_LEGISLATURA_APRESEN              False\n",
       "SIG_PARTIDO_POLITICO                      True\n",
       "IND_ATIVO_TIPO_PROPOSICAO                False\n",
       "DAT_INICIO_LEGISLATURA_APRESEN           False\n",
       "NUM_PROPOSICAO                            True\n",
       "COD_TIPO_SESSAO_LEGISLATIVA_LEI           True\n",
       "NOM_PARLAMENTAR                           True\n",
       "DAT_FINAL_RECESSO_APRESEN                 True\n",
       "dtype: bool"
      ]
     },
     "execution_count": 9,
     "metadata": {},
     "output_type": "execute_result"
    }
   ],
   "source": [
    "data.isnull().any()"
   ]
  },
  {
   "cell_type": "markdown",
   "metadata": {},
   "source": [
    "#### Das 56 totais, apenas 20 colunas estão completas, as outras possuem pelo menos uma linha sem informação."
   ]
  },
  {
   "cell_type": "markdown",
   "metadata": {},
   "source": [
    "### Veremos agora as relações entre as proposições e as informações de algumas colunas."
   ]
  },
  {
   "cell_type": "markdown",
   "metadata": {},
   "source": [
    "## Proposições x Estados"
   ]
  },
  {
   "cell_type": "code",
   "execution_count": 10,
   "metadata": {
    "scrolled": true
   },
   "outputs": [
    {
     "data": {
      "text/plain": [
       "<matplotlib.axes._subplots.AxesSubplot at 0x7f3259e5fba8>"
      ]
     },
     "execution_count": 10,
     "metadata": {},
     "output_type": "execute_result"
    },
    {
     "data": {
      "image/png": "[encoded data removed]",
      "text/plain": [
       "<matplotlib.figure.Figure at 0x7f3264b33b70>"
      ]
     },
     "metadata": {},
     "output_type": "display_data"
    }
   ],
   "source": [
    "import matplotlib.pyplot as plt\n",
    "import seaborn as sns\n",
    "%matplotlib inline\n",
    "\n",
    "plt.rcParams['figure.figsize']=(20,10)\n",
    "sns.countplot(data['SIG_UF'], label = \"Quantidade\")"
   ]
  },
  {
   "cell_type": "markdown",
   "metadata": {},
   "source": [
    "#### Ranking dos 6 estados com mais proposições e as respectivas quantidades."
   ]
  },
  {
   "cell_type": "code",
   "execution_count": 11,
   "metadata": {},
   "outputs": [
    {
     "name": "stdout",
     "output_type": "stream",
     "text": [
      "Sem a informação do estado: 1985 proposições\n",
      "RJ: 414 proposições\n",
      "SP: 245 proposições\n",
      "RS: 130 proposições\n",
      "MG: 97 proposições\n",
      "PR: 83 proposições\n",
      "SC: 70 proposições\n"
     ]
    }
   ],
   "source": [
    "uf_list = data['SIG_UF'].tolist()\n",
    "uf_counter = {}\n",
    "\n",
    "for word in uf_list:\n",
    "    if word in uf_counter:\n",
    "        uf_counter[word] += 1\n",
    "    else:\n",
    "        uf_counter[word] = 1\n",
    "        \n",
    "popular_uf = sorted(uf_counter, key = uf_counter.get, reverse = True)\n",
    "top_6 = popular_uf[:7]\n",
    "\n",
    "for uf in top_6:\n",
    "    if type(uf)!= float:\n",
    "        print(uf + ': ' + str(uf_counter[uf]) + ' proposições')\n",
    "    else:\n",
    "        print('Sem a informação do estado: ' + str(uf_counter[uf]) + ' proposições')"
   ]
  },
  {
   "cell_type": "markdown",
   "metadata": {},
   "source": [
    "#### Quantidade de proposições em cada estado:"
   ]
  },
  {
   "cell_type": "code",
   "execution_count": 12,
   "metadata": {
    "scrolled": true
   },
   "outputs": [
    {
     "data": {
      "text/plain": [
       "{'SP': 245,\n",
       " 'MS': 13,\n",
       " 'RJ': 414,\n",
       " 'SC': 70,\n",
       " 'PR': 83,\n",
       " 'RS': 130,\n",
       " 'CE': 61,\n",
       " 'BA': 36,\n",
       " 'PA': 31,\n",
       " 'MG': 97,\n",
       " 'AM': 20,\n",
       " 'GO': 46,\n",
       " 'PE': 45,\n",
       " 'TO': 3,\n",
       " 'MA': 17,\n",
       " 'DF': 52,\n",
       " 'RR': 23,\n",
       " 'SE': 18,\n",
       " 'ES': 27,\n",
       " 'RN': 3,\n",
       " 'MT': 18,\n",
       " 'PI': 3,\n",
       " 'AP': 7,\n",
       " 'PB': 14,\n",
       " 'RO': 5,\n",
       " nan: 1985,\n",
       " 'AL': 4,\n",
       " 'AC': 3}"
      ]
     },
     "execution_count": 12,
     "metadata": {},
     "output_type": "execute_result"
    }
   ],
   "source": [
    "uf_counter"
   ]
  },
  {
   "cell_type": "markdown",
   "metadata": {},
   "source": [
    "## Proposições x Gênero"
   ]
  },
  {
   "cell_type": "code",
   "execution_count": 13,
   "metadata": {
    "scrolled": false
   },
   "outputs": [
    {
     "data": {
      "text/plain": [
       "<matplotlib.axes._subplots.AxesSubplot at 0x7f325679cb38>"
      ]
     },
     "execution_count": 13,
     "metadata": {},
     "output_type": "execute_result"
    },
    {
     "data": {
      "image/png": "[encoded data removed]",
      "text/plain": [
       "<matplotlib.figure.Figure at 0x7f325678beb8>"
      ]
     },
     "metadata": {},
     "output_type": "display_data"
    }
   ],
   "source": [
    "plt.rcParams['figure.figsize']=(20,10)\n",
    "sns.countplot(data['COD_SEXO'], label = \"Quantidade\")"
   ]
  },
  {
   "cell_type": "code",
   "execution_count": 14,
   "metadata": {},
   "outputs": [
    {
     "data": {
      "text/plain": [
       "{'M': 1383, 'F': 105, nan: 1985}"
      ]
     },
     "execution_count": 14,
     "metadata": {},
     "output_type": "execute_result"
    }
   ],
   "source": [
    "gender_list = data['COD_SEXO'].tolist()\n",
    "gender_counter = {}\n",
    "\n",
    "for gender in gender_list:\n",
    "    if gender in gender_counter:\n",
    "        gender_counter[gender] += 1\n",
    "    else:\n",
    "        gender_counter[gender] = 1\n",
    "        \n",
    "gender_counter"
   ]
  },
  {
   "cell_type": "markdown",
   "metadata": {},
   "source": [
    "#### Grande maioria das proposições vieram de homens sendo que 1985 não informam o gênero da pessoa que propôs."
   ]
  },
  {
   "cell_type": "markdown",
   "metadata": {},
   "source": [
    "## Proposições x Temas"
   ]
  },
  {
   "cell_type": "markdown",
   "metadata": {},
   "source": [
    "#### Ranking dos 6 temas mais frequentes:"
   ]
  },
  {
   "cell_type": "code",
   "execution_count": 15,
   "metadata": {
    "scrolled": true
   },
   "outputs": [
    {
     "name": "stdout",
     "output_type": "stream",
     "text": [
      "COMUNICAÇÕES: 1643 proposições\n",
      "TRABALHO E EMPREGO: 176 proposições\n",
      "DIREITO PENAL E PROCESSUAL PENAL: 161 proposições\n",
      "ADMINISTRAÇÃO PÚBLICA: 157 proposições\n",
      "TRIBUTAÇÃO: 124 proposições\n",
      "VIAÇÃO E TRANSPORTES: 109 proposições\n",
      "EDUCAÇÃO: 94 proposições\n"
     ]
    }
   ],
   "source": [
    "theme_list = data['AREAS_TEMATICAS_APRESENTACAO'].tolist()\n",
    "theme_counter = {}\n",
    "\n",
    "for theme in theme_list:\n",
    "    if theme in theme_counter:\n",
    "        theme_counter[theme] += 1\n",
    "    else:\n",
    "        theme_counter[theme] = 1\n",
    "        \n",
    "popular_themes = sorted(theme_counter, key = theme_counter.get, reverse = True)\n",
    "top_6 = popular_themes[:7]\n",
    "\n",
    "for theme in top_6:\n",
    "    print(theme + ': ' + str(theme_counter[theme]) + ' proposições')"
   ]
  },
  {
   "cell_type": "markdown",
   "metadata": {},
   "source": [
    "#### Lista com todos os temas e a quantidade de proposições relacionadas a eles entre 1998 e 2002 se encontra em *temas98_02.txt* dentro do diretório *temas* neste mesmo repositório."
   ]
  },
  {
   "cell_type": "code",
   "execution_count": 16,
   "metadata": {},
   "outputs": [
    {
     "name": "stdout",
     "output_type": "stream",
     "text": [
      "COMUNICAÇÕES: 1643 proposições\n",
      "TRABALHO E EMPREGO: 176 proposições\n",
      "DIREITO PENAL E PROCESSUAL PENAL: 161 proposições\n",
      "ADMINISTRAÇÃO PÚBLICA: 157 proposições\n",
      "TRIBUTAÇÃO: 124 proposições\n",
      "VIAÇÃO E TRANSPORTES: 109 proposições\n",
      "EDUCAÇÃO: 94 proposições\n",
      "SAÚDE: 81 proposições\n",
      "SEGURANÇA PÚBLICA: 70 proposições\n",
      "DIREITO CIVIL E PROCESSUAL CIVIL: 69 proposições\n",
      "PREVIDÊNCIA E ASSISTÊNCIA SOCIAL: 67 proposições\n",
      "ECONOMIA, ADMINISTRAÇÃO FINANCEIRA E ORÇAMENTÁRIA (UTILIZADO ATÉ A LEGISLATURA 53): 57 proposições\n",
      "INDÚSTRIA, COMÉRCIO E DEFESA DO CONSUMIDOR (UTILIZADO ATÉ A LEGISLATURA 53): 48 proposições\n",
      "DIREITOS HUMANOS, MINORIAS E CIDADANIA: 41 proposições\n",
      "DESENVOLVIMENTO URBANO E TRÂNSITO: 39 proposições\n",
      "ORGANIZAÇÃO POLÍTICO-ADMINISTRATIVA DO ESTADO (UTILIZADO ATÉ A LEGISLATURA 53): 36 proposições\n",
      "POLÍTICA FUNDIÁRIA: 31 proposições\n",
      "HOMENAGENS E DATAS COMEMORATIVAS: 30 proposições\n",
      "ORGANIZAÇÃO ADMINISTRATIVA DO ESTADO: 23 proposições\n",
      "PROCESSO LEGISLATIVO: 22 proposições\n",
      "DEFESA E SEGURANÇA NACIONAL: 22 proposições\n",
      "RELAÇÕES INTERNACIONAIS: 22 proposições\n",
      "MEIO AMBIENTE E DESENVOLVIMENTO SUSTENTÁVEL: 21 proposições\n",
      "ARTE E CULTURA: 19 proposições\n",
      "ORGANIZAÇÃO POLÍTICA, PARTIDÁRIA E ELEITORAL: 18 proposições\n",
      "RECURSOS HÍDRICOS, MINERAIS E POLÍTICA ENERGÉTICA: 18 proposições\n",
      "INDÚSTRIA, COMÉRCIO E ABASTECIMENTO: 15 proposições\n",
      "DESENVOLVIMENTO REGIONAL: 15 proposições\n",
      "FINANÇAS PÚBLICAS E ORÇAMENTO: 15 proposições\n",
      "DESPORTO E LAZER: 14 proposições\n",
      "POLÍTICA ECONÔMICA: 12 proposições\n",
      "AGRICULTURA, PECUÁRIA E PESCA: 9 proposições\n",
      "DIREITO E DEFESA DO CONSUMIDOR: 9 proposições\n",
      "DIREITOS HUMANOS, MINORIAS E CIDADANIA,SEGURANÇA PÚBLICA: 7 proposições\n",
      "ADMINISTRAÇÃO PÚBLICA,TRABALHO E EMPREGO: 7 proposições\n",
      "CIÊNCIA, TECNOLOGIA E INFORMÁTICA (UTILIZADO ATÉ A LEGISLATURA 53): 7 proposições\n",
      "DIREITO CIVIL E PROCESSUAL CIVIL,DIREITOS HUMANOS, MINORIAS E CIDADANIA: 6 proposições\n",
      "DIREITO PENAL E PROCESSUAL PENAL,SEGURANÇA PÚBLICA: 6 proposições\n",
      "EDUCAÇÃO,TRABALHO E EMPREGO: 5 proposições\n",
      "ECONOMIA, ADMINISTRAÇÃO FINANCEIRA E ORÇAMENTÁRIA (UTILIZADO ATÉ A LEGISLATURA 53),EDUCAÇÃO: 5 proposições\n",
      "DIREITO PENAL E PROCESSUAL PENAL,DIREITOS HUMANOS, MINORIAS E CIDADANIA: 4 proposições\n",
      "DIREITO E JUSTIÇA,DIREITOS HUMANOS, MINORIAS E CIDADANIA: 4 proposições\n",
      "DIREITO CIVIL E PROCESSUAL CIVIL,DIREITO PENAL E PROCESSUAL PENAL: 4 proposições\n",
      "TURISMO: 4 proposições\n",
      "SISTEMA FINANCEIRO: 4 proposições\n",
      "DIREITO E JUSTIÇA: 4 proposições\n",
      "ORGANIZAÇÃO ADMINISTRATIVA DO ESTADO,ORGANIZAÇÃO POLÍTICO-ADMINISTRATIVA DO ESTADO (UTILIZADO ATÉ A LEGISLATURA 53): 4 proposições\n",
      "DIREITOS HUMANOS, MINORIAS E CIDADANIA,TRABALHO E EMPREGO: 3 proposições\n",
      "CIÊNCIA, TECNOLOGIA E INFORMÁTICA (UTILIZADO ATÉ A LEGISLATURA 53),COMUNICAÇÕES: 3 proposições\n",
      "DIREITOS HUMANOS, MINORIAS E CIDADANIA,EDUCAÇÃO: 3 proposições\n",
      "ADMINISTRAÇÃO PÚBLICA,DIREITO PENAL E PROCESSUAL PENAL: 3 proposições\n",
      "DIREITOS HUMANOS, MINORIAS E CIDADANIA,SAÚDE: 3 proposições\n",
      "DIREITOS HUMANOS, MINORIAS E CIDADANIA,ECONOMIA, ADMINISTRAÇÃO FINANCEIRA E ORÇAMENTÁRIA (UTILIZADO ATÉ A LEGISLATURA 53): 3 proposições\n",
      "DIREITO CIVIL E PROCESSUAL CIVIL,TRABALHO E EMPREGO: 3 proposições\n",
      "DIREITOS HUMANOS, MINORIAS E CIDADANIA,TRIBUTAÇÃO: 3 proposições\n",
      "RELAÇÕES INTERNACIONAIS,TRIBUTAÇÃO: 3 proposições\n",
      "INDÚSTRIA, COMÉRCIO E DEFESA DO CONSUMIDOR (UTILIZADO ATÉ A LEGISLATURA 53),RECURSOS HÍDRICOS, MINERAIS E POLÍTICA ENERGÉTICA: 2 proposições\n",
      "MEIO AMBIENTE E DESENVOLVIMENTO SUSTENTÁVEL,POLÍTICA FUNDIÁRIA: 2 proposições\n",
      "DIREITO CIVIL E PROCESSUAL CIVIL,INDÚSTRIA, COMÉRCIO E DEFESA DO CONSUMIDOR (UTILIZADO ATÉ A LEGISLATURA 53): 2 proposições\n",
      "COMUNICAÇÕES,DESPORTO E LAZER: 2 proposições\n",
      "PREVIDÊNCIA E ASSISTÊNCIA SOCIAL,TRIBUTAÇÃO: 2 proposições\n",
      "DIREITO CONSTITUCIONAL: 2 proposições\n",
      "DIREITOS HUMANOS, MINORIAS E CIDADANIA,ORGANIZAÇÃO POLÍTICO-ADMINISTRATIVA DO ESTADO (UTILIZADO ATÉ A LEGISLATURA 53): 2 proposições\n",
      "COMUNICAÇÕES,DIREITOS HUMANOS, MINORIAS E CIDADANIA: 2 proposições\n",
      "COMUNICAÇÕES,DIREITO E DEFESA DO CONSUMIDOR: 2 proposições\n",
      "nan: 2 proposições\n",
      "ADMINISTRAÇÃO PÚBLICA,DIREITOS HUMANOS, MINORIAS E CIDADANIA: 2 proposições\n",
      "DIREITO CIVIL E PROCESSUAL CIVIL,SEGURANÇA PÚBLICA: 2 proposições\n",
      "ADMINISTRAÇÃO PÚBLICA,EDUCAÇÃO: 2 proposições\n",
      "INDÚSTRIA, COMÉRCIO E DEFESA DO CONSUMIDOR (UTILIZADO ATÉ A LEGISLATURA 53),SAÚDE: 2 proposições\n",
      "PREVIDÊNCIA E ASSISTÊNCIA SOCIAL,RELAÇÕES INTERNACIONAIS: 2 proposições\n",
      "DIREITOS HUMANOS, MINORIAS E CIDADANIA,POLÍTICA FUNDIÁRIA: 1 proposições\n",
      "DIREITO DO TRABALHO E PROCESSUAL DO TRABALHO: 1 proposições\n",
      "DESENVOLVIMENTO URBANO E TRÂNSITO,TRABALHO E EMPREGO: 1 proposições\n",
      "EDUCAÇÃO,SEGURANÇA PÚBLICA: 1 proposições\n",
      "DEFESA E SEGURANÇA NACIONAL,DIREITO PENAL E PROCESSUAL PENAL: 1 proposições\n",
      "ADMINISTRAÇÃO PÚBLICA,DESENVOLVIMENTO REGIONAL: 1 proposições\n",
      "FINANÇAS PÚBLICAS E ORÇAMENTO,SEGURANÇA PÚBLICA: 1 proposições\n",
      "ARTE E CULTURA,TRIBUTAÇÃO: 1 proposições\n",
      "AGRICULTURA, PECUÁRIA E PESCA,TRABALHO E EMPREGO: 1 proposições\n",
      "SEGURANÇA PÚBLICA,TRIBUTAÇÃO: 1 proposições\n",
      "ARTE E CULTURA,DESPORTO E LAZER: 1 proposições\n",
      "ARTE E CULTURA,DIREITO CIVIL E PROCESSUAL CIVIL: 1 proposições\n",
      "DIREITOS HUMANOS, MINORIAS E CIDADANIA,PROCESSO LEGISLATIVO: 1 proposições\n",
      "TRABALHO E EMPREGO,TRIBUTAÇÃO: 1 proposições\n",
      "ADMINISTRAÇÃO PÚBLICA,PREVIDÊNCIA E ASSISTÊNCIA SOCIAL: 1 proposições\n",
      "DIREITO PENAL E PROCESSUAL PENAL,SAÚDE: 1 proposições\n",
      "DIREITO CIVIL E PROCESSUAL CIVIL,SAÚDE: 1 proposições\n",
      "CIÊNCIA, TECNOLOGIA E INFORMÁTICA (UTILIZADO ATÉ A LEGISLATURA 53),RECURSOS HÍDRICOS, MINERAIS E POLÍTICA ENERGÉTICA: 1 proposições\n",
      "CIÊNCIA E TECNOLOGIA,SAÚDE: 1 proposições\n",
      "ADMINISTRAÇÃO PÚBLICA,MEIO AMBIENTE E DESENVOLVIMENTO SUSTENTÁVEL: 1 proposições\n",
      "SAÚDE,TRIBUTAÇÃO: 1 proposições\n",
      "ORGANIZAÇÃO POLÍTICO-ADMINISTRATIVA DO ESTADO (UTILIZADO ATÉ A LEGISLATURA 53),PROCESSO LEGISLATIVO: 1 proposições\n",
      "RECURSOS HÍDRICOS, MINERAIS E POLÍTICA ENERGÉTICA,RELAÇÕES INTERNACIONAIS: 1 proposições\n",
      "DIREITO PENAL E PROCESSUAL PENAL,MEIO AMBIENTE E DESENVOLVIMENTO SUSTENTÁVEL: 1 proposições\n",
      "ARTE E CULTURA,COMUNICAÇÕES: 1 proposições\n",
      "DESPORTO E LAZER,SAÚDE: 1 proposições\n",
      "DIREITO E DEFESA DO CONSUMIDOR,SISTEMA FINANCEIRO: 1 proposições\n",
      "PROCESSO LEGISLATIVO,RELAÇÕES INTERNACIONAIS: 1 proposições\n",
      "ORGANIZAÇÃO POLÍTICA, PARTIDÁRIA E ELEITORAL,ORGANIZAÇÃO POLÍTICO-ADMINISTRATIVA DO ESTADO (UTILIZADO ATÉ A LEGISLATURA 53): 1 proposições\n",
      "DESENVOLVIMENTO REGIONAL,TRIBUTAÇÃO: 1 proposições\n",
      "DIREITOS HUMANOS, MINORIAS E CIDADANIA,VIAÇÃO E TRANSPORTES: 1 proposições\n",
      "DIREITO PENAL E PROCESSUAL PENAL,ECONOMIA, ADMINISTRAÇÃO FINANCEIRA E ORÇAMENTÁRIA (UTILIZADO ATÉ A LEGISLATURA 53): 1 proposições\n",
      "DEFESA E SEGURANÇA NACIONAL,MEIO AMBIENTE E DESENVOLVIMENTO SUSTENTÁVEL: 1 proposições\n",
      "RECURSOS HÍDRICOS, MINERAIS E POLÍTICA ENERGÉTICA,VIAÇÃO E TRANSPORTES: 1 proposições\n",
      "DIREITO CIVIL E PROCESSUAL CIVIL,RELAÇÕES INTERNACIONAIS: 1 proposições\n",
      "TRABALHO E EMPREGO,VIAÇÃO E TRANSPORTES: 1 proposições\n",
      "COMUNICAÇÕES,RELAÇÕES INTERNACIONAIS: 1 proposições\n",
      "CIÊNCIA, TECNOLOGIA E INFORMÁTICA (UTILIZADO ATÉ A LEGISLATURA 53),EDUCAÇÃO: 1 proposições\n",
      "RELAÇÕES INTERNACIONAIS,VIAÇÃO E TRANSPORTES: 1 proposições\n",
      "DIREITO PENAL E PROCESSUAL PENAL,RELAÇÕES INTERNACIONAIS: 1 proposições\n",
      "RECURSOS HÍDRICOS, MINERAIS E POLÍTICA ENERGÉTICA,TRIBUTAÇÃO: 1 proposições\n",
      "ARTE E CULTURA,EDUCAÇÃO: 1 proposições\n",
      "POLÍTICA FUNDIÁRIA,RECURSOS HÍDRICOS, MINERAIS E POLÍTICA ENERGÉTICA: 1 proposições\n",
      "ADMINISTRAÇÃO PÚBLICA,INDÚSTRIA, COMÉRCIO E DEFESA DO CONSUMIDOR (UTILIZADO ATÉ A LEGISLATURA 53): 1 proposições\n",
      "EDUCAÇÃO,SAÚDE: 1 proposições\n",
      "TRIBUTAÇÃO,VIAÇÃO E TRANSPORTES: 1 proposições\n",
      "DEFESA E SEGURANÇA NACIONAL,SEGURANÇA PÚBLICA: 1 proposições\n",
      "DESPORTO E LAZER,TRABALHO E EMPREGO: 1 proposições\n",
      "DESENVOLVIMENTO URBANO E TRÂNSITO,RELAÇÕES INTERNACIONAIS: 1 proposições\n",
      "CIÊNCIA, TECNOLOGIA E INFORMÁTICA (UTILIZADO ATÉ A LEGISLATURA 53),TRIBUTAÇÃO: 1 proposições\n",
      "POLÍTICA ECONÔMICA,PROCESSO LEGISLATIVO: 1 proposições\n",
      "INDÚSTRIA, COMÉRCIO E DEFESA DO CONSUMIDOR (UTILIZADO ATÉ A LEGISLATURA 53),POLÍTICA FUNDIÁRIA: 1 proposições\n",
      "COMUNICAÇÕES,ECONOMIA, ADMINISTRAÇÃO FINANCEIRA E ORÇAMENTÁRIA (UTILIZADO ATÉ A LEGISLATURA 53): 1 proposições\n",
      "ARTE E CULTURA,DIREITOS HUMANOS, MINORIAS E CIDADANIA: 1 proposições\n",
      "COMUNICAÇÕES,DIREITO PENAL E PROCESSUAL PENAL: 1 proposições\n",
      "AGRICULTURA, PECUÁRIA E PESCA,RELAÇÕES INTERNACIONAIS: 1 proposições\n",
      "POLÍTICA FUNDIÁRIA,TRIBUTAÇÃO: 1 proposições\n",
      "PREVIDÊNCIA E ASSISTÊNCIA SOCIAL,TRABALHO E EMPREGO: 1 proposições\n"
     ]
    }
   ],
   "source": [
    "for theme in popular_themes:\n",
    "    print(str(theme) + ': ' + str(theme_counter[theme]) + ' proposições')"
   ]
  },
  {
   "cell_type": "code",
   "execution_count": null,
   "metadata": {
    "collapsed": true
   },
   "outputs": [],
   "source": []
  },
  {
   "cell_type": "markdown",
   "metadata": {},
   "source": [
    "## Proposições x Tipo do Autor"
   ]
  },
  {
   "cell_type": "markdown",
   "metadata": {},
   "source": [
    "#### Ranking dos tipos de autores do mais frequente ao menos frequente:"
   ]
  },
  {
   "cell_type": "code",
   "execution_count": 17,
   "metadata": {
    "scrolled": false
   },
   "outputs": [
    {
     "name": "stdout",
     "output_type": "stream",
     "text": [
      "COMISSÃO PERMANENTE: 1666 proposições\n",
      "DEPUTADO: 1488 proposições\n",
      "ÓRGÃO DO PODER EXECUTIVO: 163 proposições\n",
      "ÓRGÃO DO PODER LEGISLATIVO: 114 proposições\n",
      "ÓRGÃO DO PODER JUDICIÁRIO: 13 proposições\n",
      "COMISSÃO MISTA PERMANENTE: 9 proposições\n",
      "COMISSÃO ESPECIAL: 7 proposições\n",
      "MPU - MINISTÉRIO PÚBLICO DA UNIÃO: 5 proposições\n",
      "COMISSÃO PARLAMENTAR DE INQUÉRITO: 4 proposições\n",
      "COMISSÃO DIRETORA: 4 proposições\n"
     ]
    }
   ],
   "source": [
    "author_type_list = data['DES_TIPO_AUTOR'].tolist()\n",
    "author_type_counter = {}\n",
    "\n",
    "for author_type in author_type_list:\n",
    "    if author_type in author_type_counter:\n",
    "        author_type_counter[author_type] += 1\n",
    "    else:\n",
    "        author_type_counter[author_type] = 1\n",
    "        \n",
    "popular_author_type = sorted(author_type_counter, key = author_type_counter.get, reverse = True)\n",
    "\n",
    "for author_type in popular_author_type:\n",
    "    if author_type_counter[author_type] != 1:\n",
    "        print(author_type + ': ' + str(author_type_counter[author_type]) + ' proposições')\n",
    "    else:\n",
    "        print(author_type + ': ' + str(author_type_counter[author_type]) + ' proposição')"
   ]
  },
  {
   "cell_type": "markdown",
   "metadata": {},
   "source": [
    "#### A grande maioria das proposições partem de comissões permanentes."
   ]
  },
  {
   "cell_type": "markdown",
   "metadata": {},
   "source": [
    "## Proposições x Ano"
   ]
  },
  {
   "cell_type": "code",
   "execution_count": 18,
   "metadata": {
    "scrolled": true
   },
   "outputs": [
    {
     "data": {
      "text/plain": [
       "<matplotlib.axes._subplots.AxesSubplot at 0x7f325673e630>"
      ]
     },
     "execution_count": 18,
     "metadata": {},
     "output_type": "execute_result"
    },
    {
     "data": {
      "image/png": "[encoded data removed]",
      "text/plain": [
       "<matplotlib.figure.Figure at 0x7f32567fc6d8>"
      ]
     },
     "metadata": {},
     "output_type": "display_data"
    }
   ],
   "source": [
    "plt.rcParams['figure.figsize']=(20,10)\n",
    "sns.countplot(data['ANO_PROPOSICAO'], label = \"Quantidade\")"
   ]
  },
  {
   "cell_type": "markdown",
   "metadata": {},
   "source": [
    "#### Ranking:"
   ]
  },
  {
   "cell_type": "code",
   "execution_count": 19,
   "metadata": {},
   "outputs": [
    {
     "name": "stdout",
     "output_type": "stream",
     "text": [
      "2002.0: 3040 proposições\n",
      "2003.0: 431 proposições\n"
     ]
    }
   ],
   "source": [
    "year_list = data['ANO_PROPOSICAO'].tolist()\n",
    "year_counter = {}\n",
    "\n",
    "for year in year_list:\n",
    "    if year in year_counter:\n",
    "        year_counter[year] += 1\n",
    "    else:\n",
    "        year_counter[year] = 1\n",
    "        \n",
    "popular_year = sorted(year_counter, key = year_counter.get, reverse = True)\n",
    "\n",
    "for year in popular_year:\n",
    "    if year_counter[year] != 1:\n",
    "        print(str(year) + ': ' + str(year_counter[year]) + ' proposições')"
   ]
  },
  {
   "cell_type": "markdown",
   "metadata": {},
   "source": [
    "## Proposições x Região"
   ]
  },
  {
   "cell_type": "code",
   "execution_count": 20,
   "metadata": {
    "scrolled": true
   },
   "outputs": [
    {
     "data": {
      "text/plain": [
       "<matplotlib.axes._subplots.AxesSubplot at 0x7f325636d9b0>"
      ]
     },
     "execution_count": 20,
     "metadata": {},
     "output_type": "execute_result"
    },
    {
     "data": {
      "image/png": "[encoded data removed]",
      "text/plain": [
       "<matplotlib.figure.Figure at 0x7f32568247f0>"
      ]
     },
     "metadata": {},
     "output_type": "display_data"
    }
   ],
   "source": [
    "plt.rcParams['figure.figsize']=(20,10)\n",
    "sns.countplot(data['TEX_REGIAO_GEOGRAFICA_AUTOR'], label = \"Quantidade\")"
   ]
  },
  {
   "cell_type": "markdown",
   "metadata": {},
   "source": [
    "#### Ranking:"
   ]
  },
  {
   "cell_type": "code",
   "execution_count": 21,
   "metadata": {},
   "outputs": [
    {
     "name": "stdout",
     "output_type": "stream",
     "text": [
      "Sem informação de região: 1985 proposições\n",
      "SUDESTE: 783 proposições\n",
      "SUL: 283 proposições\n",
      "NORDESTE: 201 proposições\n",
      "CENTRO-OESTE: 129 proposições\n",
      "NORTE: 92 proposições\n"
     ]
    }
   ],
   "source": [
    "region_list = data['TEX_REGIAO_GEOGRAFICA_AUTOR'].tolist()\n",
    "region_counter = {}\n",
    "\n",
    "for region in region_list:\n",
    "    if region in region_counter:\n",
    "        region_counter[region] += 1\n",
    "    else:\n",
    "        region_counter[region] = 1\n",
    "        \n",
    "popular_region = sorted(region_counter, key = region_counter.get, reverse = True)\n",
    "\n",
    "for region in popular_region:\n",
    "    if type(region) != float:\n",
    "        print(region + ': ' + str(region_counter[region]) + ' proposições')\n",
    "    else:\n",
    "        print('Sem informação de região: ' + str(region_counter[region]) + ' proposições')"
   ]
  },
  {
   "cell_type": "markdown",
   "metadata": {},
   "source": [
    "## Proposições x Tipos"
   ]
  },
  {
   "cell_type": "code",
   "execution_count": 22,
   "metadata": {
    "scrolled": true
   },
   "outputs": [
    {
     "data": {
      "text/plain": [
       "<matplotlib.axes._subplots.AxesSubplot at 0x7f3256643da0>"
      ]
     },
     "execution_count": 22,
     "metadata": {},
     "output_type": "execute_result"
    },
    {
     "data": {
      "image/png": "[encoded data removed]",
      "text/plain": [
       "<matplotlib.figure.Figure at 0x7f32566f7eb8>"
      ]
     },
     "metadata": {},
     "output_type": "display_data"
    }
   ],
   "source": [
    "plt.rcParams['figure.figsize']=(20,10)\n",
    "sns.countplot(data['SIG_TIPO_PROPOSICAO'], label = \"Quantidade\")"
   ]
  },
  {
   "cell_type": "markdown",
   "metadata": {},
   "source": [
    "#### Ranking:"
   ]
  },
  {
   "cell_type": "code",
   "execution_count": 23,
   "metadata": {},
   "outputs": [
    {
     "name": "stdout",
     "output_type": "stream",
     "text": [
      "PDC: 1678 proposições\n",
      "PL: 1480 proposições\n",
      "PEC: 108 proposições\n",
      "MPV: 82 proposições\n",
      "PLP: 80 proposições\n",
      "PRC: 45 proposições\n"
     ]
    }
   ],
   "source": [
    "proposition_list = data['SIG_TIPO_PROPOSICAO'].tolist()\n",
    "proposition_counter = {}\n",
    "\n",
    "for proposition in proposition_list:\n",
    "    if proposition in proposition_counter:\n",
    "        proposition_counter[proposition] += 1\n",
    "    else:\n",
    "        proposition_counter[proposition] = 1\n",
    "        \n",
    "popular_proposition = sorted(proposition_counter, key = proposition_counter.get, reverse = True)\n",
    "\n",
    "for proposition in popular_proposition:\n",
    "    print(proposition + ': ' + str(proposition_counter[proposition]) + ' proposições')"
   ]
  },
  {
   "cell_type": "markdown",
   "metadata": {},
   "source": [
    "#### Legenda: \n",
    "\n",
    "* PL = Projetos de Lei \n",
    "* PDC = Projetos de Decreto Legislativo da Câmara\n",
    "* PLP = Projetos de Lei Complementar\n",
    "* PEC = Projetos de Emenda à Constituição\n",
    "* MPV = Medidas Provisórias (MPV)"
   ]
  },
  {
   "cell_type": "markdown",
   "metadata": {},
   "source": [
    "## Proposições x Partidos Políticos"
   ]
  },
  {
   "cell_type": "code",
   "execution_count": 24,
   "metadata": {},
   "outputs": [
    {
     "data": {
      "text/plain": [
       "<matplotlib.axes._subplots.AxesSubplot at 0x7f32565c6048>"
      ]
     },
     "execution_count": 24,
     "metadata": {},
     "output_type": "execute_result"
    },
    {
     "data": {
      "image/png": "[encoded data removed]",
      "text/plain": [
       "<matplotlib.figure.Figure at 0x7f32568f8908>"
      ]
     },
     "metadata": {},
     "output_type": "display_data"
    }
   ],
   "source": [
    "plt.rcParams['figure.figsize']=(20,10)\n",
    "sns.countplot(data['SIG_PARTIDO_POLITICO'], label = \"Quantidade\")"
   ]
  },
  {
   "cell_type": "markdown",
   "metadata": {},
   "source": [
    "#### Ranking dos 6 partidos com mais proposições e as respectivas quantidades:"
   ]
  },
  {
   "cell_type": "code",
   "execution_count": 25,
   "metadata": {
    "scrolled": true
   },
   "outputs": [
    {
     "name": "stdout",
     "output_type": "stream",
     "text": [
      "Sem informação de partido: 1994 proposições\n",
      "PFL: 507 proposições\n",
      "PMDB: 164 proposições\n",
      "PT: 156 proposições\n",
      "PPB: 129 proposições\n",
      "PSDB: 124 proposições\n",
      "PDT: 113 proposições\n"
     ]
    }
   ],
   "source": [
    "pp_list = data['SIG_PARTIDO_POLITICO'].tolist()\n",
    "pp_counter = {}\n",
    "\n",
    "for pp in pp_list:\n",
    "    if pp in pp_counter:\n",
    "        pp_counter[pp] += 1\n",
    "    else:\n",
    "        pp_counter[pp] = 1\n",
    "        \n",
    "popular_pp = sorted(pp_counter, key = pp_counter.get, reverse = True)\n",
    "top_7 = popular_pp[:7]\n",
    "\n",
    "for pp in top_7:\n",
    "    if type(pp) != float:\n",
    "        print(pp + ': ' + str(pp_counter[pp]) + ' proposições')\n",
    "    else:\n",
    "        print('Sem informação de partido: ' + str(pp_counter[pp]) + ' proposições')"
   ]
  },
  {
   "cell_type": "markdown",
   "metadata": {},
   "source": [
    "#### Lista de todos os partidos e suas respectivas quantidades:"
   ]
  },
  {
   "cell_type": "code",
   "execution_count": 26,
   "metadata": {
    "scrolled": true
   },
   "outputs": [
    {
     "name": "stdout",
     "output_type": "stream",
     "text": [
      "{'PFL': 507, 'PTB': 44, 'PPB': 129, 'PDT': 113, 'PT': 156, 'PCDOB': 40, 'PSB': 37, 'PST': 27, 'PMDB': 164, 'PL': 72, 'PSDB': 124, 'PHS': 8, 'PPS': 40, nan: 1994, 'PSL': 12, 'PTN': 3, 'PSDC': 3}\n"
     ]
    }
   ],
   "source": [
    "print(pp_counter)"
   ]
  },
  {
   "cell_type": "markdown",
   "metadata": {},
   "source": [
    "## Proposições x Nome do Parlamentar"
   ]
  },
  {
   "cell_type": "markdown",
   "metadata": {},
   "source": [
    "#### Ranking dos 10 deputados com mais proposições:"
   ]
  },
  {
   "cell_type": "code",
   "execution_count": 27,
   "metadata": {
    "scrolled": true
   },
   "outputs": [
    {
     "name": "stdout",
     "output_type": "stream",
     "text": [
      "Sem informação do nome do deputado: 1985 proposições\n",
      "JOSÉ CARLOS COUTINHO: 327 proposições\n",
      "ENI VOLTOLINI: 42 proposições\n",
      "POMPEO DE MATTOS: 40 proposições\n",
      "NAIR XAVIER LOBO: 29 proposições\n",
      "CRESCÊNCIO PEREIRA JR.: 28 proposições\n",
      "CABO JÚLIO: 25 proposições\n",
      "ALBERTO FRAGA: 24 proposições\n",
      "NEUTON LIMA: 18 proposições\n",
      "LUIZ CARLOS HAULY: 17 proposições\n",
      "JOÃO DADO: 15 proposições\n"
     ]
    }
   ],
   "source": [
    "name_list = data['NOM_PARLAMENTAR'].tolist()\n",
    "name_counter = {}\n",
    "\n",
    "for name in name_list:\n",
    "    if name in name_counter:\n",
    "        name_counter[name] += 1\n",
    "    else:\n",
    "        name_counter[name] = 1\n",
    "        \n",
    "popular_name = sorted(name_counter, key = name_counter.get, reverse = True)\n",
    "top_10 = popular_name[:11]\n",
    "\n",
    "for name in top_10:\n",
    "    if type(name) != float:\n",
    "        print(name + ': ' + str(name_counter[name]) + ' proposições')\n",
    "    else:\n",
    "        print('Sem informação do nome do deputado: ' + str(name_counter[name]) + ' proposições')"
   ]
  },
  {
   "cell_type": "markdown",
   "metadata": {},
   "source": [
    "#### Média de proposições por deputado:"
   ]
  },
  {
   "cell_type": "code",
   "execution_count": 28,
   "metadata": {},
   "outputs": [
    {
     "name": "stdout",
     "output_type": "stream",
     "text": [
      "Média de proposições por candidato: 4.82\n"
     ]
    }
   ],
   "source": [
    "counter = 0\n",
    "for name in name_counter:\n",
    "    counter = counter + name_counter[name]\n",
    "    \n",
    "print(\"Média de proposições por candidato: %.2f\" % ((counter-1985)/(len(name_counter)-1)))  # 1985 proposições sem nome do deputado (nan)"
   ]
  },
  {
   "cell_type": "markdown",
   "metadata": {},
   "source": [
    "#### Lista com todos os deputados e a quantidade de proposições feitas por cada um durante todos os anos de mandato se encontra no arquivo *deputados&qnt_proposicoes_1998_2002.txt* dentro do diretório *deputados&qnt_proposicoes* neste mesmo repositório."
   ]
  }
 ],
 "metadata": {
  "kernelspec": {
   "display_name": "Python 3",
   "language": "python",
   "name": "python3"
  },
  "language_info": {
   "codemirror_mode": {
    "name": "ipython",
    "version": 3
   },
   "file_extension": ".py",
   "mimetype": "text/x-python",
   "name": "python",
   "nbconvert_exporter": "python",
   "pygments_lexer": "ipython3",
   "version": "3.6.1"
  }
 },
 "nbformat": 4,
 "nbformat_minor": 2
}
