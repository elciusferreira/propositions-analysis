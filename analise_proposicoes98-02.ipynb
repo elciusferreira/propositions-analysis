{
 "cells": [
  {
   "cell_type": "markdown",
   "metadata": {},
   "source": [
    "# Analisando as proposições de 1998 - 2002"
   ]
  },
  {
   "cell_type": "markdown",
   "metadata": {},
   "source": [
    "### Os dados utilizados se encontram no portal de dados abertos da Câmara dos Deputados como sendo referentes aos anos de 1998 até 2002.\n",
    "\n",
    "#### Link do portal: https://dadosabertos.camara.leg.br/swagger/api.html\n",
    "\n",
    "#### Foi feito o download do arquivo no formato json disponibilizado no site, o mesmo foi processado por um script feito em python responsável por realizar o parsing e gerar um outro arquivo no formato csv."
   ]
  },
  {
   "cell_type": "markdown",
   "metadata": {},
   "source": [
    "#### Carregamento dos dados:"
   ]
  },
  {
   "cell_type": "code",
   "execution_count": 1,
   "metadata": {
    "collapsed": true,
    "scrolled": true
   },
   "outputs": [],
   "source": [
    "import pandas as pd\n",
    "\n",
    "data = pd.read_csv('proposicoes/proposicoes_1998_2002.csv', encoding = 'utf8', header = 0)"
   ]
  },
  {
   "cell_type": "markdown",
   "metadata": {},
   "source": [
    "## Visão Geral"
   ]
  },
  {
   "cell_type": "code",
   "execution_count": 2,
   "metadata": {},
   "outputs": [
    {
     "data": {
      "text/plain": [
       "(3477, 56)"
      ]
     },
     "execution_count": 2,
     "metadata": {},
     "output_type": "execute_result"
    }
   ],
   "source": [
    "data.shape"
   ]
  },
  {
   "cell_type": "markdown",
   "metadata": {},
   "source": [
    "#### O arquivo contém, portanto, 3477 linhas com proposições e 56 colunas para cada uma. Três primeiras linhas:"
   ]
  },
  {
   "cell_type": "code",
   "execution_count": 39,
   "metadata": {},
   "outputs": [
    {
     "data": {
      "text/html": [
       "<div>\n",
       "<style>\n",
       "    .dataframe thead tr:only-child th {\n",
       "        text-align: right;\n",
       "    }\n",
       "\n",
       "    .dataframe thead th {\n",
       "        text-align: left;\n",
       "    }\n",
       "\n",
       "    .dataframe tbody tr th {\n",
       "        vertical-align: top;\n",
       "    }\n",
       "</style>\n",
       "<table border=\"1\" class=\"dataframe\">\n",
       "  <thead>\n",
       "    <tr style=\"text-align: right;\">\n",
       "      <th></th>\n",
       "      <th>COD_ORGAO_ORIGEM</th>\n",
       "      <th>NUM_LEGISLATURA_APRESEN</th>\n",
       "      <th>NUM_LEGISLATURA_LEI</th>\n",
       "      <th>NOM_PARTIDO_POLITICO</th>\n",
       "      <th>DAT_VETO_TOTAL</th>\n",
       "      <th>NOM_UF</th>\n",
       "      <th>DES_TIPO_PROPOSICAO</th>\n",
       "      <th>DES_COMPLETA</th>\n",
       "      <th>COD_TIPO_NORMA_JURIDICA_ORIGEM</th>\n",
       "      <th>SIG_UF</th>\n",
       "      <th>...</th>\n",
       "      <th>COD_TIPO_AUTOR_ORIGEM</th>\n",
       "      <th>NUM_SESSAO_LEGISLATIVA_LEI</th>\n",
       "      <th>DAT_FIM_LEGISLATURA_APRESEN</th>\n",
       "      <th>SIG_PARTIDO_POLITICO</th>\n",
       "      <th>IND_ATIVO_TIPO_PROPOSICAO</th>\n",
       "      <th>DAT_INICIO_LEGISLATURA_APRESEN</th>\n",
       "      <th>NUM_PROPOSICAO</th>\n",
       "      <th>COD_TIPO_SESSAO_LEGISLATIVA_LEI</th>\n",
       "      <th>NOM_PARLAMENTAR</th>\n",
       "      <th>DAT_FINAL_RECESSO_APRESEN</th>\n",
       "    </tr>\n",
       "  </thead>\n",
       "  <tbody>\n",
       "    <tr>\n",
       "      <th>0</th>\n",
       "      <td>-1</td>\n",
       "      <td>51</td>\n",
       "      <td>-1</td>\n",
       "      <td>PARTIDO DA FRENTE LIBERAL</td>\n",
       "      <td>NaN</td>\n",
       "      <td>SÃO PAULO</td>\n",
       "      <td>PROJETO DE LEI</td>\n",
       "      <td>PROJETO DE LEI</td>\n",
       "      <td>-1</td>\n",
       "      <td>SP</td>\n",
       "      <td>...</td>\n",
       "      <td>TipoParlamentar_10000</td>\n",
       "      <td>-1.0</td>\n",
       "      <td>31-01-2003</td>\n",
       "      <td>PFL</td>\n",
       "      <td>1</td>\n",
       "      <td>01-02-1999</td>\n",
       "      <td>7254.0</td>\n",
       "      <td>-1.0</td>\n",
       "      <td>NEUTON LIMA</td>\n",
       "      <td>01-08-2002</td>\n",
       "    </tr>\n",
       "    <tr>\n",
       "      <th>1</th>\n",
       "      <td>-1</td>\n",
       "      <td>51</td>\n",
       "      <td>-1</td>\n",
       "      <td>PARTIDO TRABALHISTA BRASILEIRO</td>\n",
       "      <td>NaN</td>\n",
       "      <td>SÃO PAULO</td>\n",
       "      <td>PROJETO DE LEI</td>\n",
       "      <td>PROJETO DE LEI</td>\n",
       "      <td>-1</td>\n",
       "      <td>SP</td>\n",
       "      <td>...</td>\n",
       "      <td>TipoParlamentar_10000</td>\n",
       "      <td>-1.0</td>\n",
       "      <td>31-01-2003</td>\n",
       "      <td>PTB</td>\n",
       "      <td>1</td>\n",
       "      <td>01-02-1999</td>\n",
       "      <td>7255.0</td>\n",
       "      <td>-1.0</td>\n",
       "      <td>RICARDO IZAR</td>\n",
       "      <td>01-08-2002</td>\n",
       "    </tr>\n",
       "    <tr>\n",
       "      <th>2</th>\n",
       "      <td>-1</td>\n",
       "      <td>51</td>\n",
       "      <td>-1</td>\n",
       "      <td>PARTIDO PROGRESSISTA BRASILEIRO</td>\n",
       "      <td>NaN</td>\n",
       "      <td>MATO GROSSO DO SUL</td>\n",
       "      <td>PROJETO DE LEI</td>\n",
       "      <td>PROJETO DE LEI</td>\n",
       "      <td>-1</td>\n",
       "      <td>MS</td>\n",
       "      <td>...</td>\n",
       "      <td>TipoParlamentar_10000</td>\n",
       "      <td>-1.0</td>\n",
       "      <td>31-01-2003</td>\n",
       "      <td>PPB</td>\n",
       "      <td>1</td>\n",
       "      <td>01-02-1999</td>\n",
       "      <td>7413.0</td>\n",
       "      <td>-1.0</td>\n",
       "      <td>PEDRO PEDROSSIAN</td>\n",
       "      <td>01-08-2002</td>\n",
       "    </tr>\n",
       "  </tbody>\n",
       "</table>\n",
       "<p>3 rows × 56 columns</p>\n",
       "</div>"
      ],
      "text/plain": [
       "   COD_ORGAO_ORIGEM  NUM_LEGISLATURA_APRESEN  NUM_LEGISLATURA_LEI  \\\n",
       "0                -1                       51                   -1   \n",
       "1                -1                       51                   -1   \n",
       "2                -1                       51                   -1   \n",
       "\n",
       "              NOM_PARTIDO_POLITICO DAT_VETO_TOTAL              NOM_UF  \\\n",
       "0        PARTIDO DA FRENTE LIBERAL            NaN           SÃO PAULO   \n",
       "1   PARTIDO TRABALHISTA BRASILEIRO            NaN           SÃO PAULO   \n",
       "2  PARTIDO PROGRESSISTA BRASILEIRO            NaN  MATO GROSSO DO SUL   \n",
       "\n",
       "  DES_TIPO_PROPOSICAO    DES_COMPLETA  COD_TIPO_NORMA_JURIDICA_ORIGEM SIG_UF  \\\n",
       "0      PROJETO DE LEI  PROJETO DE LEI                              -1     SP   \n",
       "1      PROJETO DE LEI  PROJETO DE LEI                              -1     SP   \n",
       "2      PROJETO DE LEI  PROJETO DE LEI                              -1     MS   \n",
       "\n",
       "             ...              COD_TIPO_AUTOR_ORIGEM  \\\n",
       "0            ...              TipoParlamentar_10000   \n",
       "1            ...              TipoParlamentar_10000   \n",
       "2            ...              TipoParlamentar_10000   \n",
       "\n",
       "   NUM_SESSAO_LEGISLATIVA_LEI DAT_FIM_LEGISLATURA_APRESEN  \\\n",
       "0                        -1.0                  31-01-2003   \n",
       "1                        -1.0                  31-01-2003   \n",
       "2                        -1.0                  31-01-2003   \n",
       "\n",
       "  SIG_PARTIDO_POLITICO IND_ATIVO_TIPO_PROPOSICAO  \\\n",
       "0                  PFL                         1   \n",
       "1                  PTB                         1   \n",
       "2                  PPB                         1   \n",
       "\n",
       "  DAT_INICIO_LEGISLATURA_APRESEN NUM_PROPOSICAO  \\\n",
       "0                     01-02-1999         7254.0   \n",
       "1                     01-02-1999         7255.0   \n",
       "2                     01-02-1999         7413.0   \n",
       "\n",
       "  COD_TIPO_SESSAO_LEGISLATIVA_LEI   NOM_PARLAMENTAR  DAT_FINAL_RECESSO_APRESEN  \n",
       "0                            -1.0       NEUTON LIMA                 01-08-2002  \n",
       "1                            -1.0      RICARDO IZAR                 01-08-2002  \n",
       "2                            -1.0  PEDRO PEDROSSIAN                 01-08-2002  \n",
       "\n",
       "[3 rows x 56 columns]"
      ]
     },
     "execution_count": 39,
     "metadata": {},
     "output_type": "execute_result"
    }
   ],
   "source": [
    "data.head(3)"
   ]
  },
  {
   "cell_type": "code",
   "execution_count": 7,
   "metadata": {},
   "outputs": [
    {
     "name": "stdout",
     "output_type": "stream",
     "text": [
      "<class 'pandas.core.frame.DataFrame'>\n",
      "RangeIndex: 3477 entries, 0 to 3476\n",
      "Data columns (total 56 columns):\n",
      "COD_ORGAO_ORIGEM                         3477 non-null int64\n",
      "NUM_LEGISLATURA_APRESEN                  3477 non-null int64\n",
      "NUM_LEGISLATURA_LEI                      3477 non-null int64\n",
      "NOM_PARTIDO_POLITICO                     1483 non-null object\n",
      "DAT_VETO_TOTAL                           6 non-null object\n",
      "NOM_UF                                   1492 non-null object\n",
      "DES_TIPO_PROPOSICAO                      3477 non-null object\n",
      "DES_COMPLETA                             3476 non-null object\n",
      "COD_TIPO_NORMA_JURIDICA_ORIGEM           3477 non-null int64\n",
      "SIG_UF                                   1492 non-null object\n",
      "DAT_FIM_LEGISLATURA_LEI                  1790 non-null object\n",
      "COD_PROPOSICAO_ORIGEM                    3475 non-null float64\n",
      "DES_ATIVO_TIPO_PROPOSICAO                3477 non-null object\n",
      "NOM_ORGAO                                1985 non-null object\n",
      "DES_APELIDO_ORGAO                        1985 non-null object\n",
      "DATAPRESENTACAOPROPOSICAO                3477 non-null object\n",
      "DES_TIPO_AUTOR                           3477 non-null object\n",
      "COD_SEXO                                 1492 non-null object\n",
      "IND_ATIVO_ORGAO                          3477 non-null int64\n",
      "COD_TIPO_PARLAMENTAR                     3477 non-null int64\n",
      "DES_TIPO_NORMA_JURIDICA                  1790 non-null object\n",
      "DES_TIPO_SESSAO_LEGISLATIVA_APRESEN      3477 non-null object\n",
      "DATTRANSFPROPOSICAOLEI                   1790 non-null object\n",
      "DAT_FINAL_RECESSO_LEI                    1430 non-null object\n",
      "AREAS_TEMATICAS_APRESENTACAO             3475 non-null object\n",
      "DES_TIPO_SESSAO_LEGISLATIVA_LEI          1790 non-null object\n",
      "DAT_INICIAL_RECESSO_APRESEN              2762 non-null object\n",
      "ANO_PROPOSICAO                           3475 non-null float64\n",
      "TEX_REGIAO_GEOGRAFICA_AUTOR              1492 non-null object\n",
      "DAT_INICIO_LEGISLATURA_LEI               1790 non-null object\n",
      "NUM_SESSAO_LEGISLATIVA_APRESEN           2975 non-null float64\n",
      "DAT_INICIAL_RECESSO_LEI                  1430 non-null object\n",
      "DAT_FIM_SESSAO_LEGISLATIVA_APRESEN       3477 non-null object\n",
      "SIG_NORMA_JURIDICA                       1790 non-null object\n",
      "DAT_INICIO_SESSAO_LEGISLATIVA_LEI        1790 non-null object\n",
      "DES_TIPO_PARLAMENTAR                     1492 non-null object\n",
      "NOM_PROPOSICAO                           3475 non-null object\n",
      "DES_ATIVO_ORGAO                          1985 non-null object\n",
      "COD_PARTIDO_POLITICO                     3477 non-null int64\n",
      "NOM_CIVIL_PARLAMENTAR                    1492 non-null object\n",
      "SIG_TIPO_PROPOSICAO                      3477 non-null object\n",
      "COD_TIPO_SESSAO_LEGISLATIVA_APRESEN      2975 non-null float64\n",
      "DAT_INICIO_SESSAO_LEGISLATIVA_APRESEN    3477 non-null object\n",
      "COD_PARLAMENTAR_ORIGEM                   3477 non-null int64\n",
      "DAT_FIM_SESSAO_LEGISLATIVA_LEI           1790 non-null object\n",
      "DES_SITUACAO_PROPOSICAO                  1796 non-null object\n",
      "COD_TIPO_AUTOR_ORIGEM                    3477 non-null object\n",
      "NUM_SESSAO_LEGISLATIVA_LEI               3446 non-null float64\n",
      "DAT_FIM_LEGISLATURA_APRESEN              3477 non-null object\n",
      "SIG_PARTIDO_POLITICO                     1483 non-null object\n",
      "IND_ATIVO_TIPO_PROPOSICAO                3477 non-null int64\n",
      "DAT_INICIO_LEGISLATURA_APRESEN           3477 non-null object\n",
      "NUM_PROPOSICAO                           3475 non-null float64\n",
      "COD_TIPO_SESSAO_LEGISLATIVA_LEI          3446 non-null float64\n",
      "NOM_PARLAMENTAR                          1492 non-null object\n",
      "DAT_FINAL_RECESSO_APRESEN                2762 non-null object\n",
      "dtypes: float64(7), int64(9), object(40)\n",
      "memory usage: 1.5+ MB\n"
     ]
    }
   ],
   "source": [
    "data.info()"
   ]
  },
  {
   "cell_type": "code",
   "execution_count": 6,
   "metadata": {
    "scrolled": true
   },
   "outputs": [
    {
     "data": {
      "text/plain": [
       "COD_ORGAO_ORIGEM                         False\n",
       "NUM_LEGISLATURA_APRESEN                  False\n",
       "NUM_LEGISLATURA_LEI                      False\n",
       "NOM_PARTIDO_POLITICO                      True\n",
       "DAT_VETO_TOTAL                            True\n",
       "NOM_UF                                    True\n",
       "DES_TIPO_PROPOSICAO                      False\n",
       "DES_COMPLETA                              True\n",
       "COD_TIPO_NORMA_JURIDICA_ORIGEM           False\n",
       "SIG_UF                                    True\n",
       "DAT_FIM_LEGISLATURA_LEI                   True\n",
       "COD_PROPOSICAO_ORIGEM                     True\n",
       "DES_ATIVO_TIPO_PROPOSICAO                False\n",
       "NOM_ORGAO                                 True\n",
       "DES_APELIDO_ORGAO                         True\n",
       "DATAPRESENTACAOPROPOSICAO                False\n",
       "DES_TIPO_AUTOR                           False\n",
       "COD_SEXO                                  True\n",
       "IND_ATIVO_ORGAO                          False\n",
       "COD_TIPO_PARLAMENTAR                     False\n",
       "DES_TIPO_NORMA_JURIDICA                   True\n",
       "DES_TIPO_SESSAO_LEGISLATIVA_APRESEN      False\n",
       "DATTRANSFPROPOSICAOLEI                    True\n",
       "DAT_FINAL_RECESSO_LEI                     True\n",
       "AREAS_TEMATICAS_APRESENTACAO              True\n",
       "DES_TIPO_SESSAO_LEGISLATIVA_LEI           True\n",
       "DAT_INICIAL_RECESSO_APRESEN               True\n",
       "ANO_PROPOSICAO                            True\n",
       "TEX_REGIAO_GEOGRAFICA_AUTOR               True\n",
       "DAT_INICIO_LEGISLATURA_LEI                True\n",
       "NUM_SESSAO_LEGISLATIVA_APRESEN            True\n",
       "DAT_INICIAL_RECESSO_LEI                   True\n",
       "DAT_FIM_SESSAO_LEGISLATIVA_APRESEN       False\n",
       "SIG_NORMA_JURIDICA                        True\n",
       "DAT_INICIO_SESSAO_LEGISLATIVA_LEI         True\n",
       "DES_TIPO_PARLAMENTAR                      True\n",
       "NOM_PROPOSICAO                            True\n",
       "DES_ATIVO_ORGAO                           True\n",
       "COD_PARTIDO_POLITICO                     False\n",
       "NOM_CIVIL_PARLAMENTAR                     True\n",
       "SIG_TIPO_PROPOSICAO                      False\n",
       "COD_TIPO_SESSAO_LEGISLATIVA_APRESEN       True\n",
       "DAT_INICIO_SESSAO_LEGISLATIVA_APRESEN    False\n",
       "COD_PARLAMENTAR_ORIGEM                   False\n",
       "DAT_FIM_SESSAO_LEGISLATIVA_LEI            True\n",
       "DES_SITUACAO_PROPOSICAO                   True\n",
       "COD_TIPO_AUTOR_ORIGEM                    False\n",
       "NUM_SESSAO_LEGISLATIVA_LEI                True\n",
       "DAT_FIM_LEGISLATURA_APRESEN              False\n",
       "SIG_PARTIDO_POLITICO                      True\n",
       "IND_ATIVO_TIPO_PROPOSICAO                False\n",
       "DAT_INICIO_LEGISLATURA_APRESEN           False\n",
       "NUM_PROPOSICAO                            True\n",
       "COD_TIPO_SESSAO_LEGISLATIVA_LEI           True\n",
       "NOM_PARLAMENTAR                           True\n",
       "DAT_FINAL_RECESSO_APRESEN                 True\n",
       "dtype: bool"
      ]
     },
     "execution_count": 6,
     "metadata": {},
     "output_type": "execute_result"
    }
   ],
   "source": [
    "data.isnull().any()"
   ]
  },
  {
   "cell_type": "markdown",
   "metadata": {},
   "source": [
    "#### Das 56 totais, apenas 20 colunas estão completas, as outras possuem pelo menos uma linha sem informação."
   ]
  },
  {
   "cell_type": "markdown",
   "metadata": {},
   "source": [
    "### Veremos agora as relações entre as proposições e as informações de algumas colunas."
   ]
  },
  {
   "cell_type": "markdown",
   "metadata": {},
   "source": [
    "## Proposições x Estados"
   ]
  },
  {
   "cell_type": "code",
   "execution_count": 8,
   "metadata": {
    "scrolled": true
   },
   "outputs": [
    {
     "data": {
      "text/plain": [
       "<matplotlib.axes._subplots.AxesSubplot at 0x7f2be78d4b38>"
      ]
     },
     "execution_count": 8,
     "metadata": {},
     "output_type": "execute_result"
    },
    {
     "data": {
      "image/png": "[encoded data removed]",
      "text/plain": [
       "<matplotlib.figure.Figure at 0x7f2bf025aa20>"
      ]
     },
     "metadata": {},
     "output_type": "display_data"
    }
   ],
   "source": [
    "import matplotlib.pyplot as plt\n",
    "import seaborn as sns\n",
    "%matplotlib inline\n",
    "\n",
    "plt.rcParams['figure.figsize']=(20,10)\n",
    "sns.countplot(data['SIG_UF'], label = \"Quantidade\")"
   ]
  },
  {
   "cell_type": "markdown",
   "metadata": {},
   "source": [
    "#### Ranking dos 6 estados com mais proposições e as respectivas quantidades."
   ]
  },
  {
   "cell_type": "code",
   "execution_count": 42,
   "metadata": {},
   "outputs": [
    {
     "name": "stdout",
     "output_type": "stream",
     "text": [
      "Sem a informação do estado: 1985 proposições\n",
      "RJ: 416 proposições\n",
      "SP: 246 proposições\n",
      "RS: 130 proposições\n",
      "MG: 98 proposições\n",
      "PR: 83 proposições\n",
      "SC: 70 proposições\n"
     ]
    }
   ],
   "source": [
    "uf_list = data['SIG_UF'].tolist()\n",
    "uf_counter = {}\n",
    "\n",
    "for word in uf_list:\n",
    "    if word in uf_counter:\n",
    "        uf_counter[word] += 1\n",
    "    else:\n",
    "        uf_counter[word] = 1\n",
    "        \n",
    "popular_uf = sorted(uf_counter, key = uf_counter.get, reverse = True)\n",
    "top_6 = popular_uf[:7]\n",
    "\n",
    "for uf in top_6:\n",
    "    if type(uf)!= float:\n",
    "        print(uf + ': ' + str(uf_counter[uf]) + ' proposições')\n",
    "    else:\n",
    "        print('Sem a informação do estado: ' + str(uf_counter[uf]) + ' proposições')"
   ]
  },
  {
   "cell_type": "markdown",
   "metadata": {},
   "source": [
    "#### Quantidade de proposições em cada estado:"
   ]
  },
  {
   "cell_type": "code",
   "execution_count": 10,
   "metadata": {
    "scrolled": true
   },
   "outputs": [
    {
     "data": {
      "text/plain": [
       "{'SP': 246,\n",
       " 'MS': 13,\n",
       " 'RJ': 416,\n",
       " 'SC': 70,\n",
       " 'PR': 83,\n",
       " 'RS': 130,\n",
       " 'CE': 61,\n",
       " 'BA': 36,\n",
       " 'PA': 31,\n",
       " 'MG': 98,\n",
       " 'AM': 20,\n",
       " 'GO': 46,\n",
       " 'PE': 45,\n",
       " 'TO': 3,\n",
       " 'MA': 17,\n",
       " 'DF': 52,\n",
       " 'RR': 23,\n",
       " 'SE': 18,\n",
       " 'ES': 27,\n",
       " 'RN': 3,\n",
       " 'MT': 18,\n",
       " 'PI': 3,\n",
       " 'AP': 7,\n",
       " 'PB': 14,\n",
       " 'RO': 5,\n",
       " nan: 1985,\n",
       " 'AL': 4,\n",
       " 'AC': 3}"
      ]
     },
     "execution_count": 10,
     "metadata": {},
     "output_type": "execute_result"
    }
   ],
   "source": [
    "uf_counter"
   ]
  },
  {
   "cell_type": "markdown",
   "metadata": {},
   "source": [
    "## Proposições x Gênero"
   ]
  },
  {
   "cell_type": "code",
   "execution_count": 11,
   "metadata": {
    "scrolled": false
   },
   "outputs": [
    {
     "data": {
      "text/plain": [
       "<matplotlib.axes._subplots.AxesSubplot at 0x7f2be3fee668>"
      ]
     },
     "execution_count": 11,
     "metadata": {},
     "output_type": "execute_result"
    },
    {
     "data": {
      "image/png": "[encoded data removed]",
      "text/plain": [
       "<matplotlib.figure.Figure at 0x7f2be3b6cef0>"
      ]
     },
     "metadata": {},
     "output_type": "display_data"
    }
   ],
   "source": [
    "plt.rcParams['figure.figsize']=(20,10)\n",
    "sns.countplot(data['COD_SEXO'], label = \"Quantidade\")"
   ]
  },
  {
   "cell_type": "code",
   "execution_count": 43,
   "metadata": {},
   "outputs": [
    {
     "data": {
      "text/plain": [
       "{'M': 1387, 'F': 105, nan: 1985}"
      ]
     },
     "execution_count": 43,
     "metadata": {},
     "output_type": "execute_result"
    }
   ],
   "source": [
    "gender_list = data['COD_SEXO'].tolist()\n",
    "gender_counter = {}\n",
    "\n",
    "for gender in gender_list:\n",
    "    if gender in gender_counter:\n",
    "        gender_counter[gender] += 1\n",
    "    else:\n",
    "        gender_counter[gender] = 1\n",
    "        \n",
    "gender_counter"
   ]
  },
  {
   "cell_type": "markdown",
   "metadata": {},
   "source": [
    "#### Grande maioria das proposições vieram de homens sendo que 1985 não informam o gênero da pessoa que propôs."
   ]
  },
  {
   "cell_type": "markdown",
   "metadata": {},
   "source": [
    "## Proposições x Temas"
   ]
  },
  {
   "cell_type": "markdown",
   "metadata": {},
   "source": [
    "#### Ranking dos 6 temas mais frequentes:"
   ]
  },
  {
   "cell_type": "code",
   "execution_count": 44,
   "metadata": {
    "scrolled": true
   },
   "outputs": [
    {
     "name": "stdout",
     "output_type": "stream",
     "text": [
      "COMUNICAÇÕES: 1644 proposições\n",
      "TRABALHO E EMPREGO: 177 proposições\n",
      "DIREITO PENAL E PROCESSUAL PENAL: 161 proposições\n",
      "ADMINISTRAÇÃO PÚBLICA: 157 proposições\n",
      "TRIBUTAÇÃO: 124 proposições\n",
      "VIAÇÃO E TRANSPORTES: 109 proposições\n",
      "EDUCAÇÃO: 94 proposições\n"
     ]
    }
   ],
   "source": [
    "theme_list = data['AREAS_TEMATICAS_APRESENTACAO'].tolist()\n",
    "theme_counter = {}\n",
    "\n",
    "for theme in theme_list:\n",
    "    if theme in theme_counter:\n",
    "        theme_counter[theme] += 1\n",
    "    else:\n",
    "        theme_counter[theme] = 1\n",
    "        \n",
    "popular_themes = sorted(theme_counter, key = theme_counter.get, reverse = True)\n",
    "top_6 = popular_themes[:7]\n",
    "\n",
    "for theme in top_6:\n",
    "    print(theme + ': ' + str(theme_counter[theme]) + ' proposições')"
   ]
  },
  {
   "cell_type": "markdown",
   "metadata": {},
   "source": [
    "## Proposições x Tipo do Autor"
   ]
  },
  {
   "cell_type": "markdown",
   "metadata": {},
   "source": [
    "#### Ranking dos tipos de autores do mais frequente ao menos frequente:"
   ]
  },
  {
   "cell_type": "code",
   "execution_count": 45,
   "metadata": {
    "scrolled": false
   },
   "outputs": [
    {
     "name": "stdout",
     "output_type": "stream",
     "text": [
      "COMISSÃO PERMANENTE: 1666 proposições\n",
      "DEPUTADO: 1492 proposições\n",
      "ÓRGÃO DO PODER EXECUTIVO: 163 proposições\n",
      "ÓRGÃO DO PODER LEGISLATIVO: 114 proposições\n",
      "ÓRGÃO DO PODER JUDICIÁRIO: 13 proposições\n",
      "COMISSÃO MISTA PERMANENTE: 9 proposições\n",
      "COMISSÃO ESPECIAL: 7 proposições\n",
      "MPU - MINISTÉRIO PÚBLICO DA UNIÃO: 5 proposições\n",
      "COMISSÃO PARLAMENTAR DE INQUÉRITO: 4 proposições\n",
      "COMISSÃO DIRETORA: 4 proposições\n"
     ]
    }
   ],
   "source": [
    "author_type_list = data['DES_TIPO_AUTOR'].tolist()\n",
    "author_type_counter = {}\n",
    "\n",
    "for author_type in author_type_list:\n",
    "    if author_type in author_type_counter:\n",
    "        author_type_counter[author_type] += 1\n",
    "    else:\n",
    "        author_type_counter[author_type] = 1\n",
    "        \n",
    "popular_author_type = sorted(author_type_counter, key = author_type_counter.get, reverse = True)\n",
    "\n",
    "for author_type in popular_author_type:\n",
    "    if author_type_counter[author_type] != 1:\n",
    "        print(author_type + ': ' + str(author_type_counter[author_type]) + ' proposições')\n",
    "    else:\n",
    "        print(author_type + ': ' + str(author_type_counter[author_type]) + ' proposição')"
   ]
  },
  {
   "cell_type": "markdown",
   "metadata": {},
   "source": [
    "#### A grande maioria das proposições partem de comissões permanentes."
   ]
  },
  {
   "cell_type": "markdown",
   "metadata": {},
   "source": [
    "## Proposições x Ano"
   ]
  },
  {
   "cell_type": "code",
   "execution_count": 21,
   "metadata": {
    "scrolled": true
   },
   "outputs": [
    {
     "data": {
      "text/plain": [
       "<matplotlib.axes._subplots.AxesSubplot at 0x7f2be4029908>"
      ]
     },
     "execution_count": 21,
     "metadata": {},
     "output_type": "execute_result"
    },
    {
     "data": {
      "image/png": "[encoded data removed]",
      "text/plain": [
       "<matplotlib.figure.Figure at 0x7f2be7d04710>"
      ]
     },
     "metadata": {},
     "output_type": "display_data"
    }
   ],
   "source": [
    "plt.rcParams['figure.figsize']=(20,10)\n",
    "sns.countplot(data['ANO_PROPOSICAO'], label = \"Quantidade\")"
   ]
  },
  {
   "cell_type": "markdown",
   "metadata": {},
   "source": [
    "#### Ranking:"
   ]
  },
  {
   "cell_type": "code",
   "execution_count": 46,
   "metadata": {},
   "outputs": [
    {
     "name": "stdout",
     "output_type": "stream",
     "text": [
      "2002.0: 3044 proposições\n",
      "2003.0: 431 proposições\n"
     ]
    }
   ],
   "source": [
    "year_list = data['ANO_PROPOSICAO'].tolist()\n",
    "year_counter = {}\n",
    "\n",
    "for year in year_list:\n",
    "    if year in year_counter:\n",
    "        year_counter[year] += 1\n",
    "    else:\n",
    "        year_counter[year] = 1\n",
    "        \n",
    "popular_year = sorted(year_counter, key = year_counter.get, reverse = True)\n",
    "\n",
    "for year in popular_year:\n",
    "    if year_counter[year] != 1:\n",
    "        print(str(year) + ': ' + str(year_counter[year]) + ' proposições')"
   ]
  },
  {
   "cell_type": "markdown",
   "metadata": {},
   "source": [
    "## Proposições x Região"
   ]
  },
  {
   "cell_type": "code",
   "execution_count": 22,
   "metadata": {
    "scrolled": true
   },
   "outputs": [
    {
     "data": {
      "text/plain": [
       "<matplotlib.axes._subplots.AxesSubplot at 0x7f2be3f11898>"
      ]
     },
     "execution_count": 22,
     "metadata": {},
     "output_type": "execute_result"
    },
    {
     "data": {
      "image/png": "[encoded data removed]",
      "text/plain": [
       "<matplotlib.figure.Figure at 0x7f2be4006e80>"
      ]
     },
     "metadata": {},
     "output_type": "display_data"
    }
   ],
   "source": [
    "plt.rcParams['figure.figsize']=(20,10)\n",
    "sns.countplot(data['TEX_REGIAO_GEOGRAFICA_AUTOR'], label = \"Quantidade\")"
   ]
  },
  {
   "cell_type": "markdown",
   "metadata": {},
   "source": [
    "#### Ranking:"
   ]
  },
  {
   "cell_type": "code",
   "execution_count": 47,
   "metadata": {},
   "outputs": [
    {
     "name": "stdout",
     "output_type": "stream",
     "text": [
      "Sem informação de região: 1985 proposições\n",
      "SUDESTE: 787 proposições\n",
      "SUL: 283 proposições\n",
      "NORDESTE: 201 proposições\n",
      "CENTRO-OESTE: 129 proposições\n",
      "NORTE: 92 proposições\n"
     ]
    }
   ],
   "source": [
    "region_list = data['TEX_REGIAO_GEOGRAFICA_AUTOR'].tolist()\n",
    "region_counter = {}\n",
    "\n",
    "for region in region_list:\n",
    "    if region in region_counter:\n",
    "        region_counter[region] += 1\n",
    "    else:\n",
    "        region_counter[region] = 1\n",
    "        \n",
    "popular_region = sorted(region_counter, key = region_counter.get, reverse = True)\n",
    "\n",
    "for region in popular_region:\n",
    "    if type(region) != float:\n",
    "        print(region + ': ' + str(region_counter[region]) + ' proposições')\n",
    "    else:\n",
    "        print('Sem informação de região: ' + str(region_counter[region]) + ' proposições')"
   ]
  },
  {
   "cell_type": "markdown",
   "metadata": {},
   "source": [
    "## Proposições x Tipos"
   ]
  },
  {
   "cell_type": "code",
   "execution_count": 24,
   "metadata": {
    "scrolled": true
   },
   "outputs": [
    {
     "data": {
      "text/plain": [
       "<matplotlib.axes._subplots.AxesSubplot at 0x7f2be3e5b7b8>"
      ]
     },
     "execution_count": 24,
     "metadata": {},
     "output_type": "execute_result"
    },
    {
     "data": {
      "image/png": "[encoded data removed]",
      "text/plain": [
       "<matplotlib.figure.Figure at 0x7f2be3e6e128>"
      ]
     },
     "metadata": {},
     "output_type": "display_data"
    }
   ],
   "source": [
    "plt.rcParams['figure.figsize']=(20,10)\n",
    "sns.countplot(data['SIG_TIPO_PROPOSICAO'], label = \"Quantidade\")"
   ]
  },
  {
   "cell_type": "markdown",
   "metadata": {},
   "source": [
    "#### Ranking:"
   ]
  },
  {
   "cell_type": "code",
   "execution_count": 48,
   "metadata": {},
   "outputs": [
    {
     "name": "stdout",
     "output_type": "stream",
     "text": [
      "PDC: 1678 proposições\n",
      "PL: 1484 proposições\n",
      "PEC: 108 proposições\n",
      "MPV: 82 proposições\n",
      "PLP: 80 proposições\n",
      "PRC: 45 proposições\n"
     ]
    }
   ],
   "source": [
    "proposition_list = data['SIG_TIPO_PROPOSICAO'].tolist()\n",
    "proposition_counter = {}\n",
    "\n",
    "for proposition in proposition_list:\n",
    "    if proposition in proposition_counter:\n",
    "        proposition_counter[proposition] += 1\n",
    "    else:\n",
    "        proposition_counter[proposition] = 1\n",
    "        \n",
    "popular_proposition = sorted(proposition_counter, key = proposition_counter.get, reverse = True)\n",
    "\n",
    "for proposition in popular_proposition:\n",
    "    print(proposition + ': ' + str(proposition_counter[proposition]) + ' proposições')"
   ]
  },
  {
   "cell_type": "markdown",
   "metadata": {},
   "source": [
    "#### Legenda: \n",
    "\n",
    "* PL = Projetos de Lei \n",
    "* PDC = Projetos de Decreto Legislativo da Câmara\n",
    "* PLP = Projetos de Lei Complementar\n",
    "* PEC = Projetos de Emenda à Constituição\n",
    "* MPV = Medidas Provisórias (MPV)"
   ]
  },
  {
   "cell_type": "markdown",
   "metadata": {},
   "source": [
    "## Proposições x Partidos Políticos"
   ]
  },
  {
   "cell_type": "code",
   "execution_count": 27,
   "metadata": {},
   "outputs": [
    {
     "data": {
      "text/plain": [
       "<matplotlib.axes._subplots.AxesSubplot at 0x7f2be3ed2518>"
      ]
     },
     "execution_count": 27,
     "metadata": {},
     "output_type": "execute_result"
    },
    {
     "data": {
      "image/png": "[encoded data removed]",
      "text/plain": [
       "<matplotlib.figure.Figure at 0x7f2be3e498d0>"
      ]
     },
     "metadata": {},
     "output_type": "display_data"
    }
   ],
   "source": [
    "plt.rcParams['figure.figsize']=(20,10)\n",
    "sns.countplot(data['SIG_PARTIDO_POLITICO'], label = \"Quantidade\")"
   ]
  },
  {
   "cell_type": "markdown",
   "metadata": {},
   "source": [
    "#### Ranking dos 6 partidos com mais proposições e as respectivas quantidades:"
   ]
  },
  {
   "cell_type": "code",
   "execution_count": 50,
   "metadata": {
    "scrolled": true
   },
   "outputs": [
    {
     "name": "stdout",
     "output_type": "stream",
     "text": [
      "Sem informação de partido: 1994 proposições\n",
      "PFL: 509 proposições\n",
      "PMDB: 164 proposições\n",
      "PT: 156 proposições\n",
      "PPB: 129 proposições\n",
      "PSDB: 124 proposições\n",
      "PDT: 113 proposições\n"
     ]
    }
   ],
   "source": [
    "pp_list = data['SIG_PARTIDO_POLITICO'].tolist()\n",
    "pp_counter = {}\n",
    "\n",
    "for pp in pp_list:\n",
    "    if pp in pp_counter:\n",
    "        pp_counter[pp] += 1\n",
    "    else:\n",
    "        pp_counter[pp] = 1\n",
    "        \n",
    "popular_pp = sorted(pp_counter, key = pp_counter.get, reverse = True)\n",
    "top_7 = popular_pp[:7]\n",
    "\n",
    "for pp in top_7:\n",
    "    if type(pp) != float:\n",
    "        print(pp + ': ' + str(pp_counter[pp]) + ' proposições')\n",
    "    else:\n",
    "        print('Sem informação de partido: ' + str(pp_counter[pp]) + ' proposições')"
   ]
  },
  {
   "cell_type": "markdown",
   "metadata": {},
   "source": [
    "#### Lista de todos os partidos e suas respectivas quantidades:"
   ]
  },
  {
   "cell_type": "code",
   "execution_count": 51,
   "metadata": {
    "scrolled": true
   },
   "outputs": [
    {
     "name": "stdout",
     "output_type": "stream",
     "text": [
      "{'PFL': 509, 'PTB': 44, 'PPB': 129, 'PDT': 113, 'PT': 156, 'PCDOB': 40, 'PSB': 37, 'PST': 28, 'PMDB': 164, 'PL': 73, 'PSDB': 124, 'PHS': 8, 'PPS': 40, nan: 1994, 'PSL': 12, 'PTN': 3, 'PSDC': 3}\n"
     ]
    }
   ],
   "source": [
    "print(pp_counter)"
   ]
  },
  {
   "cell_type": "markdown",
   "metadata": {},
   "source": [
    "## Proposições x Nome do Parlamentar"
   ]
  },
  {
   "cell_type": "markdown",
   "metadata": {},
   "source": [
    "#### Ranking dos 10 deputados com mais proposições:"
   ]
  },
  {
   "cell_type": "code",
   "execution_count": 52,
   "metadata": {
    "scrolled": true
   },
   "outputs": [
    {
     "name": "stdout",
     "output_type": "stream",
     "text": [
      "Sem informação do nome do deputado: 1985 proposições\n",
      "JOSÉ CARLOS COUTINHO: 329 proposições\n",
      "ENI VOLTOLINI: 42 proposições\n",
      "POMPEO DE MATTOS: 40 proposições\n",
      "NAIR XAVIER LOBO: 29 proposições\n",
      "CRESCÊNCIO PEREIRA JR.: 28 proposições\n",
      "CABO JÚLIO: 26 proposições\n",
      "ALBERTO FRAGA: 24 proposições\n",
      "NEUTON LIMA: 18 proposições\n",
      "LUIZ CARLOS HAULY: 17 proposições\n",
      "JOÃO DADO: 15 proposições\n"
     ]
    }
   ],
   "source": [
    "name_list = data['NOM_PARLAMENTAR'].tolist()\n",
    "name_counter = {}\n",
    "\n",
    "for name in name_list:\n",
    "    if name in name_counter:\n",
    "        name_counter[name] += 1\n",
    "    else:\n",
    "        name_counter[name] = 1\n",
    "        \n",
    "popular_name = sorted(name_counter, key = name_counter.get, reverse = True)\n",
    "top_10 = popular_name[:11]\n",
    "\n",
    "for name in top_10:\n",
    "    if type(name) != float:\n",
    "        print(name + ': ' + str(name_counter[name]) + ' proposições')\n",
    "    else:\n",
    "        print('Sem informação do nome do deputado: ' + str(name_counter[name]) + ' proposições')"
   ]
  },
  {
   "cell_type": "markdown",
   "metadata": {},
   "source": [
    "#### Média de proposições por deputado:"
   ]
  },
  {
   "cell_type": "code",
   "execution_count": 38,
   "metadata": {},
   "outputs": [
    {
     "name": "stdout",
     "output_type": "stream",
     "text": [
      "Média de proposições por candidato: 4.83\n"
     ]
    }
   ],
   "source": [
    "counter = 0\n",
    "for name in name_counter:\n",
    "    counter = counter + name_counter[name]\n",
    "    \n",
    "print(\"Média de proposições por candidato: %.2f\" % ((counter-1985)/(len(name_counter)-1)))  # 1985 proposições sem nome do deputado (nan)"
   ]
  },
  {
   "cell_type": "markdown",
   "metadata": {},
   "source": [
    "#### Lista com todos os deputados e a quantidade de proposições feitas por cada um:"
   ]
  },
  {
   "cell_type": "code",
   "execution_count": 32,
   "metadata": {},
   "outputs": [
    {
     "data": {
      "text/plain": [
       "{'NEUTON LIMA': 18,\n",
       " 'RICARDO IZAR': 6,\n",
       " 'PEDRO PEDROSSIAN': 2,\n",
       " 'JOÃO SAMPAIO': 12,\n",
       " 'ENI VOLTOLINI': 42,\n",
       " 'JOSÉ CARLOS COUTINHO': 329,\n",
       " 'DR. ROSINHA': 10,\n",
       " 'FLEURY': 11,\n",
       " 'FETTER JUNIOR': 4,\n",
       " 'JOSÉ PIMENTEL': 3,\n",
       " 'WALDIR PIRES': 2,\n",
       " 'PEDRO BITTENCOURT': 1,\n",
       " 'ORLANDO FANTAZZINI': 8,\n",
       " 'SOCORRO GOMES': 9,\n",
       " 'DR. EVILÁSIO': 10,\n",
       " 'CABO JÚLIO': 26,\n",
       " 'DR. GOMES': 10,\n",
       " 'VIRGÍLIO GUIMARÃES': 1,\n",
       " 'CRESCÊNCIO PEREIRA JR.': 28,\n",
       " 'MAX ROSENMANN': 5,\n",
       " 'JAQUES WAGNER': 3,\n",
       " 'RONALDO VASCONCELLOS': 14,\n",
       " 'NAIR XAVIER LOBO': 29,\n",
       " 'WANDERVAL SANTOS': 10,\n",
       " 'ALOIZIO MERCADANTE': 9,\n",
       " 'SALVADOR ZIMBALDI': 1,\n",
       " 'SEVERINO CAVALCANTI': 2,\n",
       " 'LUIZ RIBEIRO': 11,\n",
       " 'ALDO ARANTES': 1,\n",
       " 'CHICO SARDELLI': 7,\n",
       " 'JOÃO DADO': 15,\n",
       " 'MOREIRA FERREIRA': 8,\n",
       " 'FREIRE JÚNIOR': 1,\n",
       " 'BETO ALBUQUERQUE': 3,\n",
       " 'ROBERTO ROCHA': 1,\n",
       " 'SERAFIM VENZON': 1,\n",
       " 'ADÃO PRETTO': 2,\n",
       " 'WIGBERTO TARTUCE': 11,\n",
       " 'PAULO GOUVÊA': 8,\n",
       " 'ANTÔNIO JORGE': 1,\n",
       " 'FERNANDO FERRO': 1,\n",
       " 'RONALDO CAIADO': 1,\n",
       " 'INOCÊNCIO OLIVEIRA': 6,\n",
       " 'HUGO BIEHL': 1,\n",
       " 'LUIS BARBOSA': 2,\n",
       " 'MIRIAM REID': 3,\n",
       " 'ROBERTO ARGENTA': 8,\n",
       " 'ANA CORSO': 5,\n",
       " 'ANTÔNIO CARLOS KONDER REIS': 7,\n",
       " 'ANTÔNIO DO VALLE': 2,\n",
       " 'VICENTE CAROPRESO': 1,\n",
       " 'FLÁVIO ARNS': 4,\n",
       " 'LAURA CARNEIRO': 5,\n",
       " 'OSÓRIO ADRIANO': 5,\n",
       " 'ALEXANDRE CARDOSO': 3,\n",
       " 'DR. HELENO': 5,\n",
       " 'JOÃO PAULO CUNHA': 1,\n",
       " 'LAMARTINE POSELLA': 2,\n",
       " 'ZÉ ÍNDIO': 3,\n",
       " 'VALDEMAR COSTA NETO': 8,\n",
       " 'IVAN PAIXÃO': 7,\n",
       " 'TÂNIA SOARES': 4,\n",
       " 'WILSON CIGNACHI': 2,\n",
       " 'WALTER PINHEIRO': 4,\n",
       " 'RICARDO BERZOINI': 9,\n",
       " 'CARLITO MERSS': 2,\n",
       " 'CARLOS BATATA': 3,\n",
       " 'MARIA LÚCIA CARDOSO': 3,\n",
       " 'ROMEU QUEIROZ': 2,\n",
       " 'ARNALDO MADEIRA': 1,\n",
       " 'WAGNER SALUSTIANO': 2,\n",
       " 'BEN-HUR FERREIRA': 2,\n",
       " 'MÁRCIO FORTES': 3,\n",
       " 'FERNANDO CORUJA': 3,\n",
       " 'ANTONIO CAMBRAIA': 2,\n",
       " 'JOSÉ ROBERTO BATOCHIO': 7,\n",
       " 'SALOMÃO CRUZ': 7,\n",
       " 'ARACELY DE PAULA': 1,\n",
       " 'ALBERTO FRAGA': 24,\n",
       " 'MIRO TEIXEIRA': 1,\n",
       " 'POMPEO DE MATTOS': 40,\n",
       " 'JORGE TADEU MUDALEN': 2,\n",
       " 'ODELMO LEÃO': 7,\n",
       " 'PEDRO FERNANDES': 5,\n",
       " 'JAIME MARTINS': 3,\n",
       " 'ARNALDO FARIA DE SÁ': 10,\n",
       " 'HENRIQUE FONTANA': 2,\n",
       " 'LUIZ CARLOS HAULY': 17,\n",
       " 'JANDIRA FEGHALI': 5,\n",
       " 'RUBENS BUENO': 10,\n",
       " 'OLIVEIRA FILHO': 1,\n",
       " 'JOVAIR ARANTES': 2,\n",
       " 'CELSO RUSSOMANNO': 9,\n",
       " 'MARCUS VICENTE': 2,\n",
       " 'JOSUÉ BENGTSON': 2,\n",
       " 'LINCOLN PORTELA': 12,\n",
       " 'FEU ROSA': 8,\n",
       " 'RENATO VIANNA': 2,\n",
       " 'JOSÉ DIRCEU': 1,\n",
       " 'GASTÃO VIEIRA': 2,\n",
       " 'AUGUSTO NARDES': 7,\n",
       " 'ENIO BACCI': 8,\n",
       " 'BETINHO ROSADO': 2,\n",
       " 'ROBERTO PESSOA': 5,\n",
       " 'JÚLIO REDECKER': 2,\n",
       " 'JOÃO MAGNO': 5,\n",
       " 'CARLOS NADER': 5,\n",
       " 'MAGNO MALTA': 9,\n",
       " 'MENDES RIBEIRO FILHO': 6,\n",
       " 'VIVALDO BARBOSA': 2,\n",
       " 'WILSON SANTOS': 7,\n",
       " 'MARCOS ROLIM': 3,\n",
       " 'GIOVANNI QUEIROZ': 2,\n",
       " 'CARLOS RODRIGUES': 3,\n",
       " 'ALMEIDA DE JESUS': 4,\n",
       " 'LUIZ BITTENCOURT': 6,\n",
       " 'LUIZ ALBERTO': 3,\n",
       " 'TARCÍSIO ZIMMERMANN': 1,\n",
       " 'AIRTON CASCAVEL': 4,\n",
       " 'PAULO PAIM': 8,\n",
       " 'WAGNER ROSSI': 1,\n",
       " 'AIRTON DIPP': 5,\n",
       " 'REMI TRINTA': 2,\n",
       " 'JAIR MENEGUELLI': 4,\n",
       " 'ROBERTO JOHN': 1,\n",
       " 'VANESSA GRAZZIOTIN': 10,\n",
       " 'RICARDO FIUZA': 3,\n",
       " 'EULER MORAIS': 4,\n",
       " 'ANTONIO FEIJÃO': 4,\n",
       " 'ORLANDO DESCONSI': 2,\n",
       " 'AGNELO QUEIROZ': 5,\n",
       " 'WALDEMIR MOKA': 2,\n",
       " 'RICARTE DE FREITAS': 3,\n",
       " 'PADRE ROQUE': 2,\n",
       " 'MARÇAL FILHO': 2,\n",
       " 'JOÃO GRANDÃO': 1,\n",
       " 'MARISA SERRANO': 3,\n",
       " 'WERNER WANDERER': 1,\n",
       " 'NEIVA MOREIRA': 2,\n",
       " 'JOÃO HERRMANN': 4,\n",
       " 'CUNHA BUENO': 6,\n",
       " 'DJALMA PAES': 2,\n",
       " 'JOSÉ DE ABREU': 3,\n",
       " 'CLEMENTINO COELHO': 12,\n",
       " 'AYRTON XEREZ': 3,\n",
       " 'PAULO BALTAZAR': 3,\n",
       " 'NELO RODOLFO': 2,\n",
       " 'PEDRO CELSO': 2,\n",
       " 'PAULO DELGADO': 2,\n",
       " 'HERMES PARCIANELLO': 3,\n",
       " 'ELCIONE BARBALHO': 3,\n",
       " 'NELSON PELLEGRINO': 7,\n",
       " 'IARA BERNARDI': 4,\n",
       " 'EDINHO BEZ': 2,\n",
       " 'NELSON MARQUEZELLI': 1,\n",
       " 'JAIR BOLSONARO': 4,\n",
       " 'SIMÃO SESSIM': 3,\n",
       " 'OSMAR SERRAGLIO': 3,\n",
       " 'ARMANDO ABÍLIO': 3,\n",
       " 'CLOVIS ILGENFRITZ': 5,\n",
       " 'LUISINHO': 1,\n",
       " 'PEDRO EUGÊNIO': 4,\n",
       " 'EFRAIM MORAIS': 4,\n",
       " 'MOACIR MICHELETTO': 1,\n",
       " 'DR. HÉLIO': 8,\n",
       " 'OSCAR ANDRADE': 4,\n",
       " 'FERNANDO ZUPPO': 3,\n",
       " 'RAFAEL GUERRA': 1,\n",
       " 'PAULO ROCHA': 8,\n",
       " 'GEDDEL VIEIRA LIMA': 1,\n",
       " 'PAULO LIMA': 4,\n",
       " 'ABELARDO LUPION': 1,\n",
       " 'AVENZOAR ARRUDA': 1,\n",
       " 'MÁRCIO MATOS': 3,\n",
       " 'TELMA DE SOUZA': 3,\n",
       " 'WANDERLEY MARTINS': 3,\n",
       " 'REGINALDO GERMANO': 1,\n",
       " 'CORAUCI SOBRINHO': 3,\n",
       " 'ALCEU COLLARES': 3,\n",
       " 'EUJÁCIO SIMÕES': 1,\n",
       " 'GERSON PERES': 2,\n",
       " 'MAGELA': 3,\n",
       " 'JUQUINHA': 2,\n",
       " 'CHICO DA PRINCESA': 2,\n",
       " 'LUIZ EDUARDO GREENHALGH': 4,\n",
       " 'LUIZ SÉRGIO': 2,\n",
       " 'GONZAGA PATRIOTA': 2,\n",
       " 'PAULO MAGALHÃES': 2,\n",
       " 'WOLNEY QUEIROZ': 4,\n",
       " 'ANTONIO CARLOS MENDES THAME': 11,\n",
       " 'JOSÉ PRIANTE': 1,\n",
       " 'CARLOS EDUARDO CADOCA': 1,\n",
       " 'COSTA FERREIRA': 3,\n",
       " nan: 1985,\n",
       " 'RAFAEL GRECA': 8,\n",
       " 'PEDRO HENRY': 2,\n",
       " 'EBER SILVA': 1,\n",
       " 'WELLINGTON FAGUNDES': 3,\n",
       " 'INÁCIO ARRUDA': 4,\n",
       " 'DARCÍSIO PERONDI': 2,\n",
       " 'MARCELO BARBIERI': 6,\n",
       " 'DINO FERNANDES': 1,\n",
       " 'MARCOS CINTRA': 2,\n",
       " 'DIVALDO SURUAGY': 1,\n",
       " 'INALDO LEITÃO': 2,\n",
       " 'ANTONIO CRUZ': 1,\n",
       " 'JOEL DE HOLLANDA': 2,\n",
       " 'ASDRUBAL BENTES': 1,\n",
       " 'DR. BENEDITO DIAS': 2,\n",
       " 'OSVALDO BIOLCHI': 2,\n",
       " 'BADU PICANÇO': 1,\n",
       " 'SÁ': 4,\n",
       " 'SÉRGIO REIS': 2,\n",
       " 'DANILO DE CASTRO': 1,\n",
       " 'PIMENTA DA VEIGA': 1,\n",
       " 'PIMENTEL GOMES': 1,\n",
       " 'OSMÂNIO PEREIRA': 1,\n",
       " 'LUIZA ERUNDINA': 1,\n",
       " 'MAURO BENEVIDES': 2,\n",
       " 'CELCITA PINHEIRO': 2,\n",
       " 'SILAS BRASILEIRO': 1,\n",
       " 'SARNEY FILHO': 1,\n",
       " 'MARCIO REINALDO MOREIRA': 1,\n",
       " 'NELSON MEURER': 2,\n",
       " 'MILTON MONTI': 2,\n",
       " 'BONIFÁCIO DE ANDRADA': 2,\n",
       " 'JOÃO ALMEIDA': 2,\n",
       " 'MARCOS AFONSO': 1,\n",
       " 'LINO ROSSI': 1,\n",
       " 'TELMO KIRST': 2,\n",
       " 'MEDEIROS': 1,\n",
       " 'ANTONIO CARLOS PANNUNZIO': 1,\n",
       " 'NARCIO RODRIGUES': 1,\n",
       " 'ANDRÉ BENASSI': 2,\n",
       " 'SÉRGIO MIRANDA': 2,\n",
       " 'CORIOLANO SALES': 6,\n",
       " 'SÉRGIO NOVAIS': 1,\n",
       " 'LUCI CHOINACKI': 2,\n",
       " 'MARIA DO CARMO LARA': 1,\n",
       " 'LUIZ PIAUHYLINO': 1,\n",
       " 'EDUARDO PAES': 1,\n",
       " 'JOSÉ CARLOS ELIAS': 1,\n",
       " 'ALCESTE ALMEIDA': 4,\n",
       " 'ANGELA GUADAGNIN': 4,\n",
       " 'ROSE DE FREITAS': 4,\n",
       " 'ZULAIÊ COBRA': 1,\n",
       " 'HAROLDO BEZERRA': 1,\n",
       " 'DUILIO PISANESCHI': 1,\n",
       " 'AUGUSTO FRANCO': 2,\n",
       " 'EDISON ANDRINO': 2,\n",
       " 'DAMIÃO FELICIANO': 3,\n",
       " 'LUCIANO PIZZATTO': 2,\n",
       " 'RODRIGO MAIA': 2,\n",
       " 'PINHEIRO LANDIM': 4,\n",
       " 'NELSON MARCHEZAN': 1,\n",
       " 'TILDEN SANTIAGO': 1,\n",
       " 'GUSTAVO FRUET': 2,\n",
       " 'JOSÉ BORBA': 2,\n",
       " 'IÉDIO ROSA': 1,\n",
       " 'JONIVAL LUCAS JUNIOR': 1,\n",
       " 'JOÃO COSER': 1,\n",
       " 'ALDIR CABRAL': 1,\n",
       " 'ALMERINDA DE CARVALHO': 2,\n",
       " 'WELLINGTON DIAS': 1,\n",
       " 'PEDRO VALADARES': 3,\n",
       " 'ZEZÉ PERRELLA': 1,\n",
       " 'MORONI TORGAN': 1,\n",
       " 'JOÃO CALDAS': 2,\n",
       " 'PAES LANDIM': 1,\n",
       " 'HÉLIO COSTA': 1,\n",
       " 'NILSON MOURÃO': 1,\n",
       " 'GERSON GABRIELLI': 1,\n",
       " 'LUCIANO CASTRO': 2,\n",
       " 'EDUARDO CAMPOS': 1,\n",
       " 'JOSÉ JANENE': 2,\n",
       " 'LUIZ MOREIRA': 1,\n",
       " 'JORGE PINHEIRO': 1,\n",
       " 'KÁTIA ABREU': 1,\n",
       " 'JOSÉ ANTONIO ALMEIDA': 1,\n",
       " 'JAIRO CARNEIRO': 1,\n",
       " 'NEY LOPES': 1,\n",
       " 'ARY KARA': 1,\n",
       " 'GEOVAN FREITAS': 1,\n",
       " 'ANIVALDO VALE': 1,\n",
       " 'JOSÉ CARLOS MARTINEZ': 1,\n",
       " 'GILBERTO KASSAB': 1,\n",
       " 'LUCIANO ZICA': 1,\n",
       " 'SALATIEL CARVALHO': 1,\n",
       " 'MARCELO TEIXEIRA': 2,\n",
       " 'OSMAR TERRA': 1,\n",
       " 'MARCIO BITTAR': 1,\n",
       " 'DILCEU SPERAFICO': 1,\n",
       " 'EDIR OLIVEIRA': 1,\n",
       " 'GIVALDO CARIMBÃO': 1,\n",
       " 'EDUARDO BARBOSA': 2,\n",
       " 'NILSON PINTO': 1,\n",
       " 'ROBSON TUMA': 2,\n",
       " 'ROBERTO JEFFERSON': 1,\n",
       " 'CHIQUINHO FEITOSA': 1,\n",
       " 'LEO ALCÂNTARA': 3,\n",
       " 'JOSÉ CARLOS FONSECA JR.': 1,\n",
       " 'WILSON BRAGA': 1,\n",
       " 'SÉRGIO CARVALHO': 1,\n",
       " 'ALOYSIO NUNES FERREIRA': 1,\n",
       " 'TADEU FILIPPELLI': 1,\n",
       " 'JOÃO MAGALHÃES': 1,\n",
       " 'GENÉSIO BERNARDINO': 1,\n",
       " 'YEDA CRUSIUS': 1,\n",
       " 'RICARDO FERRAÇO': 1,\n",
       " 'ELIAS MURAD': 1}"
      ]
     },
     "execution_count": 32,
     "metadata": {},
     "output_type": "execute_result"
    }
   ],
   "source": [
    "name_counter"
   ]
  },
  {
   "cell_type": "markdown",
   "metadata": {},
   "source": [
    "#### Para pesquisar pela quantidade de proposições feitas por um determinado canditado basta digitar ctrl+f e procurar pelo mesmo na célula acima."
   ]
  }
 ],
 "metadata": {
  "kernelspec": {
   "display_name": "Python 3",
   "language": "python",
   "name": "python3"
  },
  "language_info": {
   "codemirror_mode": {
    "name": "ipython",
    "version": 3
   },
   "file_extension": ".py",
   "mimetype": "text/x-python",
   "name": "python",
   "nbconvert_exporter": "python",
   "pygments_lexer": "ipython3",
   "version": "3.6.1"
  }
 },
 "nbformat": 4,
 "nbformat_minor": 2
}
