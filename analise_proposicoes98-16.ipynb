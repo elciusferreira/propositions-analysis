{
 "cells": [
  {
   "cell_type": "markdown",
   "metadata": {},
   "source": [
    "# Analisando as todas as proposições de 1998 - 2016"
   ]
  },
  {
   "cell_type": "markdown",
   "metadata": {},
   "source": [
    "### Os dados utilizados se encontram no portal de dados abertos da Câmara dos Deputados como sendo referentes aos anos de 1998 até 2018, porém, não houve atualização e inserção das informações de 2017 e 2018 ainda.\n",
    "\n",
    "#### Link do portal: https://dadosabertos.camara.leg.br/swagger/api.html\n",
    "\n",
    "#### Para esta análise geral foi feito um script em python que une todos os 5 arquivos no formato csv (gerados a partir dos 5 arquivos no formato json disponibilizados no portal de dados abertos) em um só. "
   ]
  },
  {
   "cell_type": "markdown",
   "metadata": {},
   "source": [
    "#### Carregamento dos dados:"
   ]
  },
  {
   "cell_type": "code",
   "execution_count": 6,
   "metadata": {
    "collapsed": true,
    "scrolled": true
   },
   "outputs": [],
   "source": [
    "import pandas as pd\n",
    "\n",
    "data = pd.read_csv('proposicoes/proposicoes_1998_2016.csv', encoding = 'utf8', header = 0)"
   ]
  },
  {
   "cell_type": "markdown",
   "metadata": {},
   "source": [
    "## Visão Geral"
   ]
  },
  {
   "cell_type": "code",
   "execution_count": 7,
   "metadata": {},
   "outputs": [
    {
     "data": {
      "text/plain": [
       "(46341, 57)"
      ]
     },
     "execution_count": 7,
     "metadata": {},
     "output_type": "execute_result"
    }
   ],
   "source": [
    "data.shape"
   ]
  },
  {
   "cell_type": "markdown",
   "metadata": {},
   "source": [
    "#### O arquivo contém, portanto, 46341 linhas com proposições e 56 colunas para cada uma. Três primeiras linhas:"
   ]
  },
  {
   "cell_type": "code",
   "execution_count": 8,
   "metadata": {},
   "outputs": [
    {
     "data": {
      "text/html": [
       "<div>\n",
       "<style>\n",
       "    .dataframe thead tr:only-child th {\n",
       "        text-align: right;\n",
       "    }\n",
       "\n",
       "    .dataframe thead th {\n",
       "        text-align: left;\n",
       "    }\n",
       "\n",
       "    .dataframe tbody tr th {\n",
       "        vertical-align: top;\n",
       "    }\n",
       "</style>\n",
       "<table border=\"1\" class=\"dataframe\">\n",
       "  <thead>\n",
       "    <tr style=\"text-align: right;\">\n",
       "      <th></th>\n",
       "      <th>Unnamed: 0</th>\n",
       "      <th>COD_ORGAO_ORIGEM</th>\n",
       "      <th>NUM_LEGISLATURA_APRESEN</th>\n",
       "      <th>NUM_LEGISLATURA_LEI</th>\n",
       "      <th>NOM_PARTIDO_POLITICO</th>\n",
       "      <th>DAT_VETO_TOTAL</th>\n",
       "      <th>NOM_UF</th>\n",
       "      <th>DES_TIPO_PROPOSICAO</th>\n",
       "      <th>DES_COMPLETA</th>\n",
       "      <th>COD_TIPO_NORMA_JURIDICA_ORIGEM</th>\n",
       "      <th>...</th>\n",
       "      <th>COD_TIPO_AUTOR_ORIGEM</th>\n",
       "      <th>NUM_SESSAO_LEGISLATIVA_LEI</th>\n",
       "      <th>DAT_FIM_LEGISLATURA_APRESEN</th>\n",
       "      <th>SIG_PARTIDO_POLITICO</th>\n",
       "      <th>IND_ATIVO_TIPO_PROPOSICAO</th>\n",
       "      <th>DAT_INICIO_LEGISLATURA_APRESEN</th>\n",
       "      <th>NUM_PROPOSICAO</th>\n",
       "      <th>COD_TIPO_SESSAO_LEGISLATIVA_LEI</th>\n",
       "      <th>NOM_PARLAMENTAR</th>\n",
       "      <th>DAT_FINAL_RECESSO_APRESEN</th>\n",
       "    </tr>\n",
       "  </thead>\n",
       "  <tbody>\n",
       "    <tr>\n",
       "      <th>0</th>\n",
       "      <td>0</td>\n",
       "      <td>-1</td>\n",
       "      <td>54</td>\n",
       "      <td>-1</td>\n",
       "      <td>PARTIDO DO MOVIMENTO DEMOCRÁTICO BRASILEIRO</td>\n",
       "      <td>NaN</td>\n",
       "      <td>ALAGOAS</td>\n",
       "      <td>PROJETO DE LEI</td>\n",
       "      <td>PROJETO DE LEI</td>\n",
       "      <td>-1</td>\n",
       "      <td>...</td>\n",
       "      <td>TipoParlamentar_10000</td>\n",
       "      <td>-1.0</td>\n",
       "      <td>31-01-2015</td>\n",
       "      <td>PMDB</td>\n",
       "      <td>1</td>\n",
       "      <td>01-02-2011</td>\n",
       "      <td>2429.0</td>\n",
       "      <td>-1.0</td>\n",
       "      <td>JOAQUIM BELTRÃO</td>\n",
       "      <td>01-08-2011</td>\n",
       "    </tr>\n",
       "    <tr>\n",
       "      <th>1</th>\n",
       "      <td>1</td>\n",
       "      <td>-1</td>\n",
       "      <td>54</td>\n",
       "      <td>-1</td>\n",
       "      <td>PARTIDO VERDE</td>\n",
       "      <td>NaN</td>\n",
       "      <td>RIO DE JANEIRO</td>\n",
       "      <td>PROJETO DE LEI</td>\n",
       "      <td>PROJETO DE LEI</td>\n",
       "      <td>-1</td>\n",
       "      <td>...</td>\n",
       "      <td>TipoParlamentar_10000</td>\n",
       "      <td>-1.0</td>\n",
       "      <td>31-01-2015</td>\n",
       "      <td>PV</td>\n",
       "      <td>1</td>\n",
       "      <td>01-02-2011</td>\n",
       "      <td>2438.0</td>\n",
       "      <td>-1.0</td>\n",
       "      <td>ALFREDO SIRKIS</td>\n",
       "      <td>01-08-2011</td>\n",
       "    </tr>\n",
       "    <tr>\n",
       "      <th>2</th>\n",
       "      <td>2</td>\n",
       "      <td>-1</td>\n",
       "      <td>54</td>\n",
       "      <td>-1</td>\n",
       "      <td>PARTIDO DOS TRABALHADORES</td>\n",
       "      <td>NaN</td>\n",
       "      <td>AMAPÁ</td>\n",
       "      <td>PROPOSTA DE EMENDA À CONSTITUIÇÃO</td>\n",
       "      <td>PROPOSTA DE EMENDA À CONSTITUIÇÃO (ART. 60 CF ...</td>\n",
       "      <td>-1</td>\n",
       "      <td>...</td>\n",
       "      <td>TipoParlamentar_10000</td>\n",
       "      <td>-1.0</td>\n",
       "      <td>31-01-2015</td>\n",
       "      <td>PT</td>\n",
       "      <td>1</td>\n",
       "      <td>01-02-2011</td>\n",
       "      <td>86.0</td>\n",
       "      <td>-1.0</td>\n",
       "      <td>DALVA FIGUEIREDO</td>\n",
       "      <td>01-08-2011</td>\n",
       "    </tr>\n",
       "  </tbody>\n",
       "</table>\n",
       "<p>3 rows × 57 columns</p>\n",
       "</div>"
      ],
      "text/plain": [
       "   Unnamed: 0  COD_ORGAO_ORIGEM  NUM_LEGISLATURA_APRESEN  NUM_LEGISLATURA_LEI  \\\n",
       "0           0                -1                       54                   -1   \n",
       "1           1                -1                       54                   -1   \n",
       "2           2                -1                       54                   -1   \n",
       "\n",
       "                          NOM_PARTIDO_POLITICO DAT_VETO_TOTAL          NOM_UF  \\\n",
       "0  PARTIDO DO MOVIMENTO DEMOCRÁTICO BRASILEIRO            NaN         ALAGOAS   \n",
       "1                                PARTIDO VERDE            NaN  RIO DE JANEIRO   \n",
       "2                    PARTIDO DOS TRABALHADORES            NaN           AMAPÁ   \n",
       "\n",
       "                 DES_TIPO_PROPOSICAO  \\\n",
       "0                     PROJETO DE LEI   \n",
       "1                     PROJETO DE LEI   \n",
       "2  PROPOSTA DE EMENDA À CONSTITUIÇÃO   \n",
       "\n",
       "                                        DES_COMPLETA  \\\n",
       "0                                     PROJETO DE LEI   \n",
       "1                                     PROJETO DE LEI   \n",
       "2  PROPOSTA DE EMENDA À CONSTITUIÇÃO (ART. 60 CF ...   \n",
       "\n",
       "   COD_TIPO_NORMA_JURIDICA_ORIGEM            ...              \\\n",
       "0                              -1            ...               \n",
       "1                              -1            ...               \n",
       "2                              -1            ...               \n",
       "\n",
       "   COD_TIPO_AUTOR_ORIGEM NUM_SESSAO_LEGISLATIVA_LEI  \\\n",
       "0  TipoParlamentar_10000                       -1.0   \n",
       "1  TipoParlamentar_10000                       -1.0   \n",
       "2  TipoParlamentar_10000                       -1.0   \n",
       "\n",
       "   DAT_FIM_LEGISLATURA_APRESEN SIG_PARTIDO_POLITICO IND_ATIVO_TIPO_PROPOSICAO  \\\n",
       "0                   31-01-2015                 PMDB                         1   \n",
       "1                   31-01-2015                   PV                         1   \n",
       "2                   31-01-2015                   PT                         1   \n",
       "\n",
       "  DAT_INICIO_LEGISLATURA_APRESEN NUM_PROPOSICAO  \\\n",
       "0                     01-02-2011         2429.0   \n",
       "1                     01-02-2011         2438.0   \n",
       "2                     01-02-2011           86.0   \n",
       "\n",
       "  COD_TIPO_SESSAO_LEGISLATIVA_LEI   NOM_PARLAMENTAR  DAT_FINAL_RECESSO_APRESEN  \n",
       "0                            -1.0   JOAQUIM BELTRÃO                 01-08-2011  \n",
       "1                            -1.0    ALFREDO SIRKIS                 01-08-2011  \n",
       "2                            -1.0  DALVA FIGUEIREDO                 01-08-2011  \n",
       "\n",
       "[3 rows x 57 columns]"
      ]
     },
     "execution_count": 8,
     "metadata": {},
     "output_type": "execute_result"
    }
   ],
   "source": [
    "data.head(3)"
   ]
  },
  {
   "cell_type": "code",
   "execution_count": 9,
   "metadata": {
    "scrolled": true
   },
   "outputs": [
    {
     "name": "stdout",
     "output_type": "stream",
     "text": [
      "<class 'pandas.core.frame.DataFrame'>\n",
      "RangeIndex: 46341 entries, 0 to 46340\n",
      "Data columns (total 57 columns):\n",
      "Unnamed: 0                               46341 non-null int64\n",
      "COD_ORGAO_ORIGEM                         46341 non-null int64\n",
      "NUM_LEGISLATURA_APRESEN                  46341 non-null int64\n",
      "NUM_LEGISLATURA_LEI                      46341 non-null int64\n",
      "NOM_PARTIDO_POLITICO                     33340 non-null object\n",
      "DAT_VETO_TOTAL                           110 non-null object\n",
      "NOM_UF                                   33420 non-null object\n",
      "DES_TIPO_PROPOSICAO                      46341 non-null object\n",
      "DES_COMPLETA                             46013 non-null object\n",
      "COD_TIPO_NORMA_JURIDICA_ORIGEM           46341 non-null int64\n",
      "SIG_UF                                   33420 non-null object\n",
      "DAT_FIM_LEGISLATURA_LEI                  10009 non-null object\n",
      "COD_PROPOSICAO_ORIGEM                    46284 non-null float64\n",
      "DES_ATIVO_TIPO_PROPOSICAO                46341 non-null object\n",
      "NOM_ORGAO                                12899 non-null object\n",
      "DES_APELIDO_ORGAO                        12895 non-null object\n",
      "DATAPRESENTACAOPROPOSICAO                46341 non-null object\n",
      "DES_TIPO_AUTOR                           46341 non-null object\n",
      "COD_SEXO                                 33442 non-null object\n",
      "IND_ATIVO_ORGAO                          46341 non-null int64\n",
      "COD_TIPO_PARLAMENTAR                     46341 non-null int64\n",
      "DES_TIPO_NORMA_JURIDICA                  10033 non-null object\n",
      "DES_TIPO_SESSAO_LEGISLATIVA_APRESEN      46341 non-null object\n",
      "DATTRANSFPROPOSICAOLEI                   10033 non-null object\n",
      "DAT_FINAL_RECESSO_LEI                    6953 non-null object\n",
      "AREAS_TEMATICAS_APRESENTACAO             46284 non-null object\n",
      "DES_TIPO_SESSAO_LEGISLATIVA_LEI          10009 non-null object\n",
      "DAT_INICIAL_RECESSO_APRESEN              34813 non-null object\n",
      "ANO_PROPOSICAO                           46284 non-null float64\n",
      "TEX_REGIAO_GEOGRAFICA_AUTOR              33420 non-null object\n",
      "DAT_INICIO_LEGISLATURA_LEI               10009 non-null object\n",
      "NUM_SESSAO_LEGISLATIVA_APRESEN           45494 non-null float64\n",
      "DAT_INICIAL_RECESSO_LEI                  6953 non-null object\n",
      "DAT_FIM_SESSAO_LEGISLATIVA_APRESEN       46341 non-null object\n",
      "SIG_NORMA_JURIDICA                       10033 non-null object\n",
      "DAT_INICIO_SESSAO_LEGISLATIVA_LEI        10009 non-null object\n",
      "DES_TIPO_PARLAMENTAR                     33442 non-null object\n",
      "NOM_PROPOSICAO                           46284 non-null object\n",
      "DES_ATIVO_ORGAO                          12899 non-null object\n",
      "COD_PARTIDO_POLITICO                     46341 non-null int64\n",
      "NOM_CIVIL_PARLAMENTAR                    33442 non-null object\n",
      "SIG_TIPO_PROPOSICAO                      46341 non-null object\n",
      "COD_TIPO_SESSAO_LEGISLATIVA_APRESEN      45494 non-null float64\n",
      "DAT_INICIO_SESSAO_LEGISLATIVA_APRESEN    46341 non-null object\n",
      "COD_PARLAMENTAR_ORIGEM                   46341 non-null int64\n",
      "DAT_FIM_SESSAO_LEGISLATIVA_LEI           10009 non-null object\n",
      "DES_SITUACAO_PROPOSICAO                  10120 non-null object\n",
      "COD_TIPO_AUTOR_ORIGEM                    46341 non-null object\n",
      "NUM_SESSAO_LEGISLATIVA_LEI               45712 non-null float64\n",
      "DAT_FIM_LEGISLATURA_APRESEN              46341 non-null object\n",
      "SIG_PARTIDO_POLITICO                     33340 non-null object\n",
      "IND_ATIVO_TIPO_PROPOSICAO                46341 non-null int64\n",
      "DAT_INICIO_LEGISLATURA_APRESEN           46341 non-null object\n",
      "NUM_PROPOSICAO                           46284 non-null float64\n",
      "COD_TIPO_SESSAO_LEGISLATIVA_LEI          45712 non-null float64\n",
      "NOM_PARLAMENTAR                          33442 non-null object\n",
      "DAT_FINAL_RECESSO_APRESEN                34813 non-null object\n",
      "dtypes: float64(7), int64(10), object(40)\n",
      "memory usage: 20.2+ MB\n"
     ]
    }
   ],
   "source": [
    "data.info()"
   ]
  },
  {
   "cell_type": "markdown",
   "metadata": {},
   "source": [
    "#### Removendo a coluna *Unnamed: 0* pois não é de nosso interesse."
   ]
  },
  {
   "cell_type": "code",
   "execution_count": 10,
   "metadata": {},
   "outputs": [
    {
     "data": {
      "text/plain": [
       "(46341, 56)"
      ]
     },
     "execution_count": 10,
     "metadata": {},
     "output_type": "execute_result"
    }
   ],
   "source": [
    "data.drop(\"Unnamed: 0\", axis = 1, inplace = True)\n",
    "data.shape"
   ]
  },
  {
   "cell_type": "code",
   "execution_count": 11,
   "metadata": {
    "scrolled": true
   },
   "outputs": [
    {
     "data": {
      "text/plain": [
       "COD_ORGAO_ORIGEM                         False\n",
       "NUM_LEGISLATURA_APRESEN                  False\n",
       "NUM_LEGISLATURA_LEI                      False\n",
       "NOM_PARTIDO_POLITICO                      True\n",
       "DAT_VETO_TOTAL                            True\n",
       "NOM_UF                                    True\n",
       "DES_TIPO_PROPOSICAO                      False\n",
       "DES_COMPLETA                              True\n",
       "COD_TIPO_NORMA_JURIDICA_ORIGEM           False\n",
       "SIG_UF                                    True\n",
       "DAT_FIM_LEGISLATURA_LEI                   True\n",
       "COD_PROPOSICAO_ORIGEM                     True\n",
       "DES_ATIVO_TIPO_PROPOSICAO                False\n",
       "NOM_ORGAO                                 True\n",
       "DES_APELIDO_ORGAO                         True\n",
       "DATAPRESENTACAOPROPOSICAO                False\n",
       "DES_TIPO_AUTOR                           False\n",
       "COD_SEXO                                  True\n",
       "IND_ATIVO_ORGAO                          False\n",
       "COD_TIPO_PARLAMENTAR                     False\n",
       "DES_TIPO_NORMA_JURIDICA                   True\n",
       "DES_TIPO_SESSAO_LEGISLATIVA_APRESEN      False\n",
       "DATTRANSFPROPOSICAOLEI                    True\n",
       "DAT_FINAL_RECESSO_LEI                     True\n",
       "AREAS_TEMATICAS_APRESENTACAO              True\n",
       "DES_TIPO_SESSAO_LEGISLATIVA_LEI           True\n",
       "DAT_INICIAL_RECESSO_APRESEN               True\n",
       "ANO_PROPOSICAO                            True\n",
       "TEX_REGIAO_GEOGRAFICA_AUTOR               True\n",
       "DAT_INICIO_LEGISLATURA_LEI                True\n",
       "NUM_SESSAO_LEGISLATIVA_APRESEN            True\n",
       "DAT_INICIAL_RECESSO_LEI                   True\n",
       "DAT_FIM_SESSAO_LEGISLATIVA_APRESEN       False\n",
       "SIG_NORMA_JURIDICA                        True\n",
       "DAT_INICIO_SESSAO_LEGISLATIVA_LEI         True\n",
       "DES_TIPO_PARLAMENTAR                      True\n",
       "NOM_PROPOSICAO                            True\n",
       "DES_ATIVO_ORGAO                           True\n",
       "COD_PARTIDO_POLITICO                     False\n",
       "NOM_CIVIL_PARLAMENTAR                     True\n",
       "SIG_TIPO_PROPOSICAO                      False\n",
       "COD_TIPO_SESSAO_LEGISLATIVA_APRESEN       True\n",
       "DAT_INICIO_SESSAO_LEGISLATIVA_APRESEN    False\n",
       "COD_PARLAMENTAR_ORIGEM                   False\n",
       "DAT_FIM_SESSAO_LEGISLATIVA_LEI            True\n",
       "DES_SITUACAO_PROPOSICAO                   True\n",
       "COD_TIPO_AUTOR_ORIGEM                    False\n",
       "NUM_SESSAO_LEGISLATIVA_LEI                True\n",
       "DAT_FIM_LEGISLATURA_APRESEN              False\n",
       "SIG_PARTIDO_POLITICO                      True\n",
       "IND_ATIVO_TIPO_PROPOSICAO                False\n",
       "DAT_INICIO_LEGISLATURA_APRESEN           False\n",
       "NUM_PROPOSICAO                            True\n",
       "COD_TIPO_SESSAO_LEGISLATIVA_LEI           True\n",
       "NOM_PARLAMENTAR                           True\n",
       "DAT_FINAL_RECESSO_APRESEN                 True\n",
       "dtype: bool"
      ]
     },
     "execution_count": 11,
     "metadata": {},
     "output_type": "execute_result"
    }
   ],
   "source": [
    "data.isnull().any()"
   ]
  },
  {
   "cell_type": "markdown",
   "metadata": {},
   "source": [
    "#### Das 56 totais, apenas 20 colunas estão completas, as outras possuem pelo menos uma linha sem informação."
   ]
  },
  {
   "cell_type": "markdown",
   "metadata": {},
   "source": [
    "### Veremos agora as relações entre as proposições e as informações de algumas colunas."
   ]
  },
  {
   "cell_type": "markdown",
   "metadata": {},
   "source": [
    "## Proposições x Estados"
   ]
  },
  {
   "cell_type": "code",
   "execution_count": 12,
   "metadata": {
    "scrolled": false
   },
   "outputs": [
    {
     "data": {
      "text/plain": [
       "<matplotlib.axes._subplots.AxesSubplot at 0x7ff7929bed30>"
      ]
     },
     "execution_count": 12,
     "metadata": {},
     "output_type": "execute_result"
    },
    {
     "data": {
      "image/png": "[encoded data removed]",
      "text/plain": [
       "<matplotlib.figure.Figure at 0x7ff79c181c50>"
      ]
     },
     "metadata": {},
     "output_type": "display_data"
    }
   ],
   "source": [
    "import matplotlib.pyplot as plt\n",
    "import seaborn as sns\n",
    "%matplotlib inline\n",
    "\n",
    "plt.rcParams['figure.figsize']=(20,10)\n",
    "sns.countplot(data['SIG_UF'], label = \"Quantidade\")"
   ]
  },
  {
   "cell_type": "markdown",
   "metadata": {},
   "source": [
    "#### Ranking dos 6 estados com mais proposições e as respectivas quantidades."
   ]
  },
  {
   "cell_type": "code",
   "execution_count": 13,
   "metadata": {
    "scrolled": false
   },
   "outputs": [
    {
     "name": "stdout",
     "output_type": "stream",
     "text": [
      "Sem a informação do estado: 12921 proposições\n",
      "SP: 5611 proposições\n",
      "RJ: 4456 proposições\n",
      "MG: 2636 proposições\n",
      "RS: 2226 proposições\n",
      "PR: 1616 proposições\n",
      "BA: 1612 proposições\n"
     ]
    }
   ],
   "source": [
    "uf_list = data['SIG_UF'].tolist()\n",
    "uf_counter = {}\n",
    "\n",
    "for word in uf_list:\n",
    "    if word in uf_counter:\n",
    "        uf_counter[word] += 1\n",
    "    else:\n",
    "        uf_counter[word] = 1\n",
    "        \n",
    "popular_uf = sorted(uf_counter, key = uf_counter.get, reverse = True)\n",
    "top_6 = popular_uf[:7]\n",
    "\n",
    "for uf in top_6:\n",
    "    if type(uf)!= float:\n",
    "        print(uf + ': ' + str(uf_counter[uf]) + ' proposições')\n",
    "    else:\n",
    "        print('Sem a informação do estado: ' + str(uf_counter[uf]) + ' proposições')"
   ]
  },
  {
   "cell_type": "markdown",
   "metadata": {},
   "source": [
    "#### Quantidade de proposições em cada estado:"
   ]
  },
  {
   "cell_type": "code",
   "execution_count": 14,
   "metadata": {
    "scrolled": true
   },
   "outputs": [
    {
     "data": {
      "text/plain": [
       "{'AL': 297,\n",
       " 'RJ': 4456,\n",
       " 'AP': 318,\n",
       " 'PI': 328,\n",
       " 'RS': 2226,\n",
       " 'SP': 5611,\n",
       " 'BA': 1612,\n",
       " 'RN': 385,\n",
       " 'SC': 1195,\n",
       " 'PB': 1346,\n",
       " 'MS': 422,\n",
       " 'PE': 1234,\n",
       " 'MA': 921,\n",
       " 'ES': 999,\n",
       " 'SE': 531,\n",
       " 'GO': 1100,\n",
       " 'PA': 643,\n",
       " 'MT': 1269,\n",
       " 'TO': 428,\n",
       " 'DF': 1121,\n",
       " 'CE': 989,\n",
       " 'AC': 268,\n",
       " 'AM': 797,\n",
       " 'MG': 2636,\n",
       " 'PR': 1616,\n",
       " 'RR': 243,\n",
       " 'RO': 429,\n",
       " nan: 12921}"
      ]
     },
     "execution_count": 14,
     "metadata": {},
     "output_type": "execute_result"
    }
   ],
   "source": [
    "uf_counter"
   ]
  },
  {
   "cell_type": "markdown",
   "metadata": {},
   "source": [
    "## Proposições x Gênero"
   ]
  },
  {
   "cell_type": "code",
   "execution_count": 15,
   "metadata": {
    "scrolled": false
   },
   "outputs": [
    {
     "data": {
      "text/plain": [
       "<matplotlib.axes._subplots.AxesSubplot at 0x7ff78f169978>"
      ]
     },
     "execution_count": 15,
     "metadata": {},
     "output_type": "execute_result"
    },
    {
     "data": {
      "image/png": "[encoded data removed]",
      "text/plain": [
       "<matplotlib.figure.Figure at 0x7ff78f03c128>"
      ]
     },
     "metadata": {},
     "output_type": "display_data"
    }
   ],
   "source": [
    "plt.rcParams['figure.figsize']=(20,10)\n",
    "sns.countplot(data['COD_SEXO'], label = \"Quantidade\")"
   ]
  },
  {
   "cell_type": "code",
   "execution_count": 16,
   "metadata": {},
   "outputs": [
    {
     "data": {
      "text/plain": [
       "{'M': 30390, 'F': 3052, nan: 12899}"
      ]
     },
     "execution_count": 16,
     "metadata": {},
     "output_type": "execute_result"
    }
   ],
   "source": [
    "gender_list = data['COD_SEXO'].tolist()\n",
    "gender_counter = {}\n",
    "\n",
    "for gender in gender_list:\n",
    "    if gender in gender_counter:\n",
    "        gender_counter[gender] += 1\n",
    "    else:\n",
    "        gender_counter[gender] = 1\n",
    "        \n",
    "gender_counter"
   ]
  },
  {
   "cell_type": "markdown",
   "metadata": {},
   "source": [
    "#### Grande maioria das proposições vieram de homens sendo que 12899 não informam o gênero da pessoa que propôs."
   ]
  },
  {
   "cell_type": "markdown",
   "metadata": {},
   "source": [
    "## Proposições x Temas"
   ]
  },
  {
   "cell_type": "markdown",
   "metadata": {},
   "source": [
    "#### Ranking dos 6 temas mais frequentes nas proposições:"
   ]
  },
  {
   "cell_type": "code",
   "execution_count": 17,
   "metadata": {
    "scrolled": false
   },
   "outputs": [
    {
     "name": "stdout",
     "output_type": "stream",
     "text": [
      "COMUNICAÇÕES: 8462 proposições\n",
      "TRABALHO E EMPREGO: 2454 proposições\n",
      "ADMINISTRAÇÃO PÚBLICA: 2347 proposições\n",
      "EDUCAÇÃO: 2072 proposições\n",
      "TRIBUTAÇÃO: 2056 proposições\n",
      "DIREITO PENAL E PROCESSUAL PENAL: 1782 proposições\n",
      "SAÚDE: 1538 proposições\n"
     ]
    }
   ],
   "source": [
    "theme_list = data['AREAS_TEMATICAS_APRESENTACAO'].tolist()\n",
    "theme_counter = {}\n",
    "\n",
    "for theme in theme_list:\n",
    "    if theme in theme_counter:\n",
    "        theme_counter[theme] += 1\n",
    "    else:\n",
    "        theme_counter[theme] = 1\n",
    "        \n",
    "popular_themes = sorted(theme_counter, key = theme_counter.get, reverse = True)\n",
    "top_6 = popular_themes[:7]\n",
    "\n",
    "for theme in top_6:\n",
    "    print(theme + ': ' + str(theme_counter[theme]) + ' proposições')"
   ]
  },
  {
   "cell_type": "markdown",
   "metadata": {},
   "source": [
    "#### Lista com todos os temas e a quantidade de proposições relacionadas a eles entre 1998 e 2016 se encontra em *temas98_16.txt* dentro do diretório *temas* neste mesmo repositório."
   ]
  },
  {
   "cell_type": "markdown",
   "metadata": {},
   "source": [
    "## Proposições x Tipo do Autor"
   ]
  },
  {
   "cell_type": "markdown",
   "metadata": {},
   "source": [
    "#### Ranking dos tipos de autores do mais frequente ao menos frequente:"
   ]
  },
  {
   "cell_type": "code",
   "execution_count": 19,
   "metadata": {
    "scrolled": false
   },
   "outputs": [
    {
     "name": "stdout",
     "output_type": "stream",
     "text": [
      "DEPUTADO: 33441 proposições\n",
      "COMISSÃO PERMANENTE: 8836 proposições\n",
      "ÓRGÃO DO PODER LEGISLATIVO: 2040 proposições\n",
      "ÓRGÃO DO PODER EXECUTIVO: 1324 proposições\n",
      "ÓRGÃO DO PODER JUDICIÁRIO: 216 proposições\n",
      "COMISSÃO DIRETORA: 121 proposições\n",
      "COMISSÃO PARLAMENTAR DE INQUÉRITO: 115 proposições\n",
      "COMISSÃO MISTA PERMANENTE: 83 proposições\n",
      "COMISSÃO ESPECIAL: 65 proposições\n",
      "MPU - MINISTÉRIO PÚBLICO DA UNIÃO: 41 proposições\n",
      "COMISSÃO PARLAMENTAR MISTA DE INQUÉRITO: 20 proposições\n",
      "COMISSÃO MISTA ESPECIAL: 11 proposições\n",
      "COMISSÃO EXTERNA: 10 proposições\n",
      "CONSELHO: 6 proposições\n",
      "DPU - DEFENSORIA PÚBLICA DA UNIÃO: 5 proposições\n",
      "COMISSÃO PERMANENTE DO SENADO FEDERAL: 2 proposições\n",
      "SOCIEDADE CIVIL: 2 proposições\n",
      "ÓRGÃO DO SENADO FEDERAL: 2 proposições\n",
      "SENADOR: 1 proposição\n"
     ]
    }
   ],
   "source": [
    "author_type_list = data['DES_TIPO_AUTOR'].tolist()\n",
    "author_type_counter = {}\n",
    "\n",
    "for author_type in author_type_list:\n",
    "    if author_type in author_type_counter:\n",
    "        author_type_counter[author_type] += 1\n",
    "    else:\n",
    "        author_type_counter[author_type] = 1\n",
    "        \n",
    "popular_author_type = sorted(author_type_counter, key = author_type_counter.get, reverse = True)\n",
    "\n",
    "for author_type in popular_author_type:\n",
    "    if author_type_counter[author_type] != 1:\n",
    "        print(author_type + ': ' + str(author_type_counter[author_type]) + ' proposições')\n",
    "    else:\n",
    "        print(author_type + ': ' + str(author_type_counter[author_type]) + ' proposição')"
   ]
  },
  {
   "cell_type": "markdown",
   "metadata": {},
   "source": [
    "#### A grande maioria das proposições partem dos deputados."
   ]
  },
  {
   "cell_type": "markdown",
   "metadata": {},
   "source": [
    "## Proposições x Ano"
   ]
  },
  {
   "cell_type": "code",
   "execution_count": 20,
   "metadata": {
    "scrolled": false
   },
   "outputs": [
    {
     "data": {
      "text/plain": [
       "<matplotlib.axes._subplots.AxesSubplot at 0x7ff79e2a3f28>"
      ]
     },
     "execution_count": 20,
     "metadata": {},
     "output_type": "execute_result"
    },
    {
     "data": {
      "image/png": "[encoded data removed]",
      "text/plain": [
       "<matplotlib.figure.Figure at 0x7ff78f1110f0>"
      ]
     },
     "metadata": {},
     "output_type": "display_data"
    }
   ],
   "source": [
    "plt.rcParams['figure.figsize']=(20,10)\n",
    "sns.countplot(data['ANO_PROPOSICAO'], label = \"Quantidade\")"
   ]
  },
  {
   "cell_type": "markdown",
   "metadata": {},
   "source": [
    "#### Ranking:"
   ]
  },
  {
   "cell_type": "code",
   "execution_count": 21,
   "metadata": {
    "scrolled": true
   },
   "outputs": [
    {
     "name": "stdout",
     "output_type": "stream",
     "text": [
      "2015.0: 5107 proposições\n",
      "2003.0: 4922 proposições\n",
      "2011.0: 4054 proposições\n",
      "2007.0: 3868 proposições\n",
      "2009.0: 3509 proposições\n",
      "2013.0: 3115 proposições\n",
      "2008.0: 3096 proposições\n",
      "2002.0: 3040 proposições\n",
      "2004.0: 2692 proposições\n",
      "2005.0: 2636 proposições\n",
      "2012.0: 2433 proposições\n",
      "2010.0: 2251 proposições\n",
      "2006.0: 2050 proposições\n",
      "2016.0: 1764 proposições\n",
      "2014.0: 1747 proposições\n"
     ]
    }
   ],
   "source": [
    "year_list = data['ANO_PROPOSICAO'].tolist()\n",
    "year_counter = {}\n",
    "\n",
    "for year in year_list:\n",
    "    if year in year_counter:\n",
    "        year_counter[year] += 1\n",
    "    else:\n",
    "        year_counter[year] = 1\n",
    "        \n",
    "popular_year = sorted(year_counter, key = year_counter.get, reverse = True)\n",
    "\n",
    "for year in popular_year:\n",
    "    if year_counter[year] != 1:\n",
    "        print(str(year) + ': ' + str(year_counter[year]) + ' proposições')"
   ]
  },
  {
   "cell_type": "markdown",
   "metadata": {},
   "source": [
    "#### 2015 foi o ano até então com mais proposições feitas."
   ]
  },
  {
   "cell_type": "markdown",
   "metadata": {},
   "source": [
    "## Proposições x Região"
   ]
  },
  {
   "cell_type": "code",
   "execution_count": 22,
   "metadata": {
    "scrolled": false
   },
   "outputs": [
    {
     "data": {
      "text/plain": [
       "<matplotlib.axes._subplots.AxesSubplot at 0x7ff78ef02ef0>"
      ]
     },
     "execution_count": 22,
     "metadata": {},
     "output_type": "execute_result"
    },
    {
     "data": {
      "image/png": "[encoded data removed]",
      "text/plain": [
       "<matplotlib.figure.Figure at 0x7ff78ef4df60>"
      ]
     },
     "metadata": {},
     "output_type": "display_data"
    }
   ],
   "source": [
    "plt.rcParams['figure.figsize']=(20,10)\n",
    "sns.countplot(data['TEX_REGIAO_GEOGRAFICA_AUTOR'], label = \"Quantidade\")"
   ]
  },
  {
   "cell_type": "markdown",
   "metadata": {},
   "source": [
    "#### Ranking:"
   ]
  },
  {
   "cell_type": "code",
   "execution_count": 23,
   "metadata": {
    "scrolled": true
   },
   "outputs": [
    {
     "name": "stdout",
     "output_type": "stream",
     "text": [
      "SUDESTE: 13702 proposições\n",
      "Sem informação de região: 12921 proposições\n",
      "NORDESTE: 7643 proposições\n",
      "SUL: 5037 proposições\n",
      "CENTRO-OESTE: 3912 proposições\n",
      "NORTE: 3126 proposições\n"
     ]
    }
   ],
   "source": [
    "region_list = data['TEX_REGIAO_GEOGRAFICA_AUTOR'].tolist()\n",
    "region_counter = {}\n",
    "\n",
    "for region in region_list:\n",
    "    if region in region_counter:\n",
    "        region_counter[region] += 1\n",
    "    else:\n",
    "        region_counter[region] = 1\n",
    "        \n",
    "popular_region = sorted(region_counter, key = region_counter.get, reverse = True)\n",
    "\n",
    "for region in popular_region:\n",
    "    if type(region) != float:\n",
    "        print(region + ': ' + str(region_counter[region]) + ' proposições')\n",
    "    else:\n",
    "        print('Sem informação de região: ' + str(region_counter[region]) + ' proposições')"
   ]
  },
  {
   "cell_type": "markdown",
   "metadata": {},
   "source": [
    "## Proposições x Tipos"
   ]
  },
  {
   "cell_type": "code",
   "execution_count": 24,
   "metadata": {
    "scrolled": false
   },
   "outputs": [
    {
     "data": {
      "text/plain": [
       "<matplotlib.axes._subplots.AxesSubplot at 0x7ff78eed1ac8>"
      ]
     },
     "execution_count": 24,
     "metadata": {},
     "output_type": "execute_result"
    },
    {
     "data": {
      "image/png": "[encoded data removed]",
      "text/plain": [
       "<matplotlib.figure.Figure at 0x7ff78ede9c88>"
      ]
     },
     "metadata": {},
     "output_type": "display_data"
    }
   ],
   "source": [
    "plt.rcParams['figure.figsize']=(20,10)\n",
    "sns.countplot(data['SIG_TIPO_PROPOSICAO'], label = \"Quantidade\")"
   ]
  },
  {
   "cell_type": "markdown",
   "metadata": {},
   "source": [
    "#### Ranking:"
   ]
  },
  {
   "cell_type": "code",
   "execution_count": 25,
   "metadata": {},
   "outputs": [
    {
     "name": "stdout",
     "output_type": "stream",
     "text": [
      "PL: 31322 proposições\n",
      "PDC: 9509 proposições\n",
      "PEC: 1934 proposições\n",
      "PLP: 1827 proposições\n",
      "PRC: 1042 proposições\n",
      "MPV: 707 proposições\n"
     ]
    }
   ],
   "source": [
    "proposition_list = data['SIG_TIPO_PROPOSICAO'].tolist()\n",
    "proposition_counter = {}\n",
    "\n",
    "for proposition in proposition_list:\n",
    "    if proposition in proposition_counter:\n",
    "        proposition_counter[proposition] += 1\n",
    "    else:\n",
    "        proposition_counter[proposition] = 1\n",
    "        \n",
    "popular_proposition = sorted(proposition_counter, key = proposition_counter.get, reverse = True)\n",
    "\n",
    "for proposition in popular_proposition:\n",
    "    print(proposition + ': ' + str(proposition_counter[proposition]) + ' proposições')"
   ]
  },
  {
   "cell_type": "markdown",
   "metadata": {},
   "source": [
    "#### Legenda: \n",
    "\n",
    "* PL = Projetos de Lei \n",
    "* PDC = Projetos de Decreto Legislativo da Câmara\n",
    "* PLP = Projetos de Lei Complementar\n",
    "* PEC = Projetos de Emenda à Constituição\n",
    "* MPV = Medidas Provisórias\n",
    "* PRC = Projetos de Resolução da Câmara"
   ]
  },
  {
   "cell_type": "markdown",
   "metadata": {},
   "source": [
    "## Proposições x Partidos Políticos"
   ]
  },
  {
   "cell_type": "code",
   "execution_count": 26,
   "metadata": {
    "scrolled": true
   },
   "outputs": [
    {
     "data": {
      "text/plain": [
       "<matplotlib.axes._subplots.AxesSubplot at 0x7ff78ed77080>"
      ]
     },
     "execution_count": 26,
     "metadata": {},
     "output_type": "execute_result"
    },
    {
     "data": {
      "image/png": "[encoded data removed]",
      "text/plain": [
       "<matplotlib.figure.Figure at 0x7ff78ed46898>"
      ]
     },
     "metadata": {},
     "output_type": "display_data"
    }
   ],
   "source": [
    "plt.rcParams['figure.figsize']=(20,10)\n",
    "sns.countplot(data['SIG_PARTIDO_POLITICO'], label = \"Quantidade\")"
   ]
  },
  {
   "cell_type": "markdown",
   "metadata": {},
   "source": [
    "#### Ranking dos 6 partidos com mais proposições e as respectivas quantidades:"
   ]
  },
  {
   "cell_type": "code",
   "execution_count": 27,
   "metadata": {
    "scrolled": true
   },
   "outputs": [
    {
     "name": "stdout",
     "output_type": "stream",
     "text": [
      "Sem informação de partido: 13001 proposições\n",
      "PMDB: 4637 proposições\n",
      "PT: 3999 proposições\n",
      "PSDB: 3422 proposições\n",
      "PP: 2308 proposições\n",
      "PSB: 1893 proposições\n",
      "PDT: 1807 proposições\n"
     ]
    }
   ],
   "source": [
    "pp_list = data['SIG_PARTIDO_POLITICO'].tolist()\n",
    "pp_counter = {}\n",
    "\n",
    "for pp in pp_list:\n",
    "    if pp in pp_counter:\n",
    "        pp_counter[pp] += 1\n",
    "    else:\n",
    "        pp_counter[pp] = 1\n",
    "        \n",
    "popular_pp = sorted(pp_counter, key = pp_counter.get, reverse = True)\n",
    "top_7 = popular_pp[:7]\n",
    "\n",
    "for pp in top_7:\n",
    "    if type(pp) != float:\n",
    "        print(pp + ': ' + str(pp_counter[pp]) + ' proposições')\n",
    "    else:\n",
    "        print('Sem informação de partido: ' + str(pp_counter[pp]) + ' proposições')"
   ]
  },
  {
   "cell_type": "markdown",
   "metadata": {},
   "source": [
    "#### Lista de todos os partidos e suas respectivas quantidades:"
   ]
  },
  {
   "cell_type": "code",
   "execution_count": 28,
   "metadata": {},
   "outputs": [
    {
     "name": "stdout",
     "output_type": "stream",
     "text": [
      "{'PMDB': 4637, 'PV': 870, 'PT': 3999, 'PCDOB': 780, 'PSB': 1893, 'PDT': 1807, 'DEM': 1599, 'PSDB': 3422, 'PR': 1588, 'PTC': 102, 'PMN': 154, 'PP': 2308, 'PSC': 762, 'PSD': 1373, 'PRB': 756, 'PTB': 1365, 'PTDOB': 143, 'PSL': 69, 'PROS': 187, 'PRP': 31, 'PEN': 22, 'PPS': 1068, 'SDD': 41, 'PRTB': 64, 'PHS': 177, 'SD': 307, 'PSOL': 229, 'PSDC': 16, nan: 13001, 'S.PART.': 96, 'PFL': 1692, 'PPB': 200, 'PST': 27, 'PL': 1284, 'PTN': 77, 'PAN': 14, 'PMB': 36, 'REDE': 52, 'PRONA': 87, 'PMR': 6}\n"
     ]
    }
   ],
   "source": [
    "print(pp_counter)"
   ]
  },
  {
   "cell_type": "markdown",
   "metadata": {},
   "source": [
    "## Proposições x Nome do Parlamentar"
   ]
  },
  {
   "cell_type": "markdown",
   "metadata": {},
   "source": [
    "#### Ranking dos 10 deputados com mais proposições:"
   ]
  },
  {
   "cell_type": "code",
   "execution_count": 29,
   "metadata": {
    "scrolled": true
   },
   "outputs": [
    {
     "name": "stdout",
     "output_type": "stream",
     "text": [
      "Sem informação do nome do deputado: 12899 proposições\n",
      "CARLOS NADER: 643 proposições\n",
      "CARLOS BEZERRA: 460 proposições\n",
      "JOSÉ CARLOS COUTINHO: 327 proposições\n",
      "ANTONIO CARLOS MENDES THAME: 314 proposições\n",
      "POMPEO DE MATTOS: 302 proposições\n",
      "CARLOS SOUZA: 275 proposições\n",
      "ALBERTO FRAGA: 272 proposições\n",
      "CLEBER VERDE: 265 proposições\n",
      "SANDES JÚNIOR: 201 proposições\n",
      "RÔMULO GOUVEIA: 192 proposições\n"
     ]
    }
   ],
   "source": [
    "name_list = data['NOM_PARLAMENTAR'].tolist()\n",
    "name_counter = {}\n",
    "\n",
    "for name in name_list:\n",
    "    if name in name_counter:\n",
    "        name_counter[name] += 1\n",
    "    else:\n",
    "        name_counter[name] = 1\n",
    "        \n",
    "popular_name = sorted(name_counter, key = name_counter.get, reverse = True)\n",
    "top_10 = popular_name[:11]\n",
    "\n",
    "for name in top_10:\n",
    "    if type(name) != float:\n",
    "        print(name + ': ' + str(name_counter[name]) + ' proposições')\n",
    "    else:\n",
    "        print('Sem informação do nome do deputado: ' + str(name_counter[name]) + ' proposições')"
   ]
  },
  {
   "cell_type": "markdown",
   "metadata": {},
   "source": [
    "#### Média de proposições por deputado:"
   ]
  },
  {
   "cell_type": "code",
   "execution_count": 30,
   "metadata": {
    "scrolled": true
   },
   "outputs": [
    {
     "name": "stdout",
     "output_type": "stream",
     "text": [
      "Média de proposições por deputado: 23.79\n"
     ]
    }
   ],
   "source": [
    "counter = 0\n",
    "for name in name_counter:\n",
    "    counter = counter + name_counter[name]\n",
    "    \n",
    "print(\"Média de proposições por deputado: %.2f\" % ((counter-12899)/(len(name_counter)-1)))  # 12899 proposições sem nome do deputado (nan)"
   ]
  },
  {
   "cell_type": "markdown",
   "metadata": {},
   "source": [
    "#### Lista com todos os deputados e a quantidade de proposições feitas por cada um durante todos os anos de mandato se encontra no arquivo *deputados&qnt_proposicoes_1998_2016.txt* dentro do diretório *deputados&qnt_proposicoes* neste mesmo repositório."
   ]
  }
 ],
 "metadata": {
  "kernelspec": {
   "display_name": "Python 3",
   "language": "python",
   "name": "python3"
  },
  "language_info": {
   "codemirror_mode": {
    "name": "ipython",
    "version": 3
   },
   "file_extension": ".py",
   "mimetype": "text/x-python",
   "name": "python",
   "nbconvert_exporter": "python",
   "pygments_lexer": "ipython3",
   "version": "3.6.1"
  }
 },
 "nbformat": 4,
 "nbformat_minor": 2
}
